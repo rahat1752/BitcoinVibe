{
  "cells": [
    {
      "cell_type": "code",
      "source": [
        "from google.colab import drive\n",
        "drive.mount('/content/drive/')"
      ],
      "metadata": {
        "colab": {
          "base_uri": "https://localhost:8080/"
        },
        "id": "As9BapPz4uQj",
        "outputId": "c338c23b-85a9-4600-944f-bc26039af9cd"
      },
      "execution_count": null,
      "outputs": [
        {
          "output_type": "stream",
          "name": "stdout",
          "text": [
            "Mounted at /content/drive/\n"
          ]
        }
      ]
    },
    {
      "cell_type": "code",
      "execution_count": null,
      "metadata": {
        "execution": {
          "iopub.execute_input": "2020-10-06T21:19:31.986613Z",
          "iopub.status.busy": "2020-10-06T21:19:31.985943Z",
          "iopub.status.idle": "2020-10-06T21:19:41.514922Z",
          "shell.execute_reply": "2020-10-06T21:19:41.515686Z"
        },
        "papermill": {
          "duration": 9.569887,
          "end_time": "2020-10-06T21:19:41.515898",
          "exception": false,
          "start_time": "2020-10-06T21:19:31.946011",
          "status": "completed"
        },
        "tags": [],
        "colab": {
          "base_uri": "https://localhost:8080/"
        },
        "id": "J6u9f-8u3i9Z",
        "outputId": "e4f57f9b-e491-42bc-a2e1-96f6b514026e"
      },
      "outputs": [
        {
          "output_type": "stream",
          "name": "stderr",
          "text": [
            "/usr/local/lib/python3.8/dist-packages/torch/cuda/__init__.py:497: UserWarning: Can't initialize NVML\n",
            "  warnings.warn(\"Can't initialize NVML\")\n"
          ]
        },
        {
          "output_type": "stream",
          "name": "stdout",
          "text": [
            "Done\n"
          ]
        }
      ],
      "source": [
        "import re\n",
        "import matplotlib.pyplot as plt\n",
        "import string\n",
        "from nltk.corpus import stopwords\n",
        "import nltk\n",
        "from nltk.corpus import wordnet\n",
        "from nltk.stem import WordNetLemmatizer\n",
        "from nltk.tokenize.treebank import TreebankWordDetokenizer\n",
        "from collections import Counter\n",
        "from wordcloud import WordCloud\n",
        "from nltk.corpus import stopwords\n",
        "import nltk\n",
        "from gensim.utils import simple_preprocess\n",
        "from nltk.corpus import stopwords\n",
        "import gensim\n",
        "from sklearn.model_selection import train_test_split\n",
        "import spacy\n",
        "import pickle\n",
        "import warnings\n",
        "warnings.filterwarnings('ignore')\n",
        "import seaborn as sns\n",
        "from sklearn.metrics import confusion_matrix\n",
        "import matplotlib.pyplot as plt \n",
        "import tensorflow as tf\n",
        "import keras\n",
        "import numpy as np\n",
        "import pandas as pd\n",
        "print('Done')"
      ]
    },
    {
      "cell_type": "code",
      "execution_count": null,
      "metadata": {
        "_cell_guid": "79c7e3d0-c299-4dcb-8224-4455121ee9b0",
        "_uuid": "d629ff2d2480ee46fbb7e2d37f6b5fab8052498a",
        "execution": {
          "iopub.execute_input": "2020-10-06T21:19:41.667156Z",
          "iopub.status.busy": "2020-10-06T21:19:41.666425Z",
          "iopub.status.idle": "2020-10-06T21:19:41.753917Z",
          "shell.execute_reply": "2020-10-06T21:19:41.752384Z"
        },
        "papermill": {
          "duration": 0.132806,
          "end_time": "2020-10-06T21:19:41.754037",
          "exception": false,
          "start_time": "2020-10-06T21:19:41.621231",
          "status": "completed"
        },
        "tags": [],
        "id": "PSCrpRMR3i9o"
      },
      "outputs": [],
      "source": [
        "train = pd.read_csv('/content/drive/MyDrive/Ant_Thesis/data/train_data.csv')"
      ]
    },
    {
      "cell_type": "code",
      "source": [
        "train = train.drop_duplicates()"
      ],
      "metadata": {
        "id": "JXRSBt1Vi_IS"
      },
      "execution_count": null,
      "outputs": []
    },
    {
      "cell_type": "code",
      "execution_count": null,
      "metadata": {
        "execution": {
          "iopub.execute_input": "2020-10-06T21:19:41.898583Z",
          "iopub.status.busy": "2020-10-06T21:19:41.897942Z",
          "iopub.status.idle": "2020-10-06T21:19:41.908219Z",
          "shell.execute_reply": "2020-10-06T21:19:41.908804Z"
        },
        "papermill": {
          "duration": 0.05902,
          "end_time": "2020-10-06T21:19:41.908931",
          "exception": false,
          "start_time": "2020-10-06T21:19:41.849911",
          "status": "completed"
        },
        "tags": [],
        "colab": {
          "base_uri": "https://localhost:8080/",
          "height": 424
        },
        "id": "VUXXlDXH3i9u",
        "outputId": "c83ba405-630e-48dd-ef34-4dea1ad49267"
      },
      "outputs": [
        {
          "output_type": "execute_result",
          "data": {
            "text/plain": [
              "                                                    text sentiment\n",
              "0      Bitcoin is unfolding like the dot com crash ju...   Neutral\n",
              "1      XEM Price is 0 00003330 0 00000044 BTC 0 28641...  Negative\n",
              "2      RT Bitcoin daily snapshot 24hr CHANGE 6 4 OUTL...   Neutral\n",
              "3      Dutch Court Finds Bitcoin A Legitimate Transfe...   Neutral\n",
              "4      BTC STEEM AskRate 0 00024274 Bittrex STEEM STE...  Positive\n",
              "...                                                  ...       ...\n",
              "20077  Ethereum based virtual collectible game develo...  Negative\n",
              "20078  RT Two Hour Lull Update CryptoCompare Bitcoin ...   Neutral\n",
              "20079  RT NowPlaying Put It on You by GP LosAngeles H...   Neutral\n",
              "20080  Craig Wright files copyright registration for ...  Negative\n",
              "20081  XEM Price is 0 00003374 0 00000044 BTC 0 29008...  Negative\n",
              "\n",
              "[20082 rows x 2 columns]"
            ],
            "text/html": [
              "\n",
              "  <div id=\"df-b91828d5-7a3b-4af0-b0cb-2a30fffa8eea\">\n",
              "    <div class=\"colab-df-container\">\n",
              "      <div>\n",
              "<style scoped>\n",
              "    .dataframe tbody tr th:only-of-type {\n",
              "        vertical-align: middle;\n",
              "    }\n",
              "\n",
              "    .dataframe tbody tr th {\n",
              "        vertical-align: top;\n",
              "    }\n",
              "\n",
              "    .dataframe thead th {\n",
              "        text-align: right;\n",
              "    }\n",
              "</style>\n",
              "<table border=\"1\" class=\"dataframe\">\n",
              "  <thead>\n",
              "    <tr style=\"text-align: right;\">\n",
              "      <th></th>\n",
              "      <th>text</th>\n",
              "      <th>sentiment</th>\n",
              "    </tr>\n",
              "  </thead>\n",
              "  <tbody>\n",
              "    <tr>\n",
              "      <th>0</th>\n",
              "      <td>Bitcoin is unfolding like the dot com crash ju...</td>\n",
              "      <td>Neutral</td>\n",
              "    </tr>\n",
              "    <tr>\n",
              "      <th>1</th>\n",
              "      <td>XEM Price is 0 00003330 0 00000044 BTC 0 28641...</td>\n",
              "      <td>Negative</td>\n",
              "    </tr>\n",
              "    <tr>\n",
              "      <th>2</th>\n",
              "      <td>RT Bitcoin daily snapshot 24hr CHANGE 6 4 OUTL...</td>\n",
              "      <td>Neutral</td>\n",
              "    </tr>\n",
              "    <tr>\n",
              "      <th>3</th>\n",
              "      <td>Dutch Court Finds Bitcoin A Legitimate Transfe...</td>\n",
              "      <td>Neutral</td>\n",
              "    </tr>\n",
              "    <tr>\n",
              "      <th>4</th>\n",
              "      <td>BTC STEEM AskRate 0 00024274 Bittrex STEEM STE...</td>\n",
              "      <td>Positive</td>\n",
              "    </tr>\n",
              "    <tr>\n",
              "      <th>...</th>\n",
              "      <td>...</td>\n",
              "      <td>...</td>\n",
              "    </tr>\n",
              "    <tr>\n",
              "      <th>20077</th>\n",
              "      <td>Ethereum based virtual collectible game develo...</td>\n",
              "      <td>Negative</td>\n",
              "    </tr>\n",
              "    <tr>\n",
              "      <th>20078</th>\n",
              "      <td>RT Two Hour Lull Update CryptoCompare Bitcoin ...</td>\n",
              "      <td>Neutral</td>\n",
              "    </tr>\n",
              "    <tr>\n",
              "      <th>20079</th>\n",
              "      <td>RT NowPlaying Put It on You by GP LosAngeles H...</td>\n",
              "      <td>Neutral</td>\n",
              "    </tr>\n",
              "    <tr>\n",
              "      <th>20080</th>\n",
              "      <td>Craig Wright files copyright registration for ...</td>\n",
              "      <td>Negative</td>\n",
              "    </tr>\n",
              "    <tr>\n",
              "      <th>20081</th>\n",
              "      <td>XEM Price is 0 00003374 0 00000044 BTC 0 29008...</td>\n",
              "      <td>Negative</td>\n",
              "    </tr>\n",
              "  </tbody>\n",
              "</table>\n",
              "<p>20082 rows × 2 columns</p>\n",
              "</div>\n",
              "      <button class=\"colab-df-convert\" onclick=\"convertToInteractive('df-b91828d5-7a3b-4af0-b0cb-2a30fffa8eea')\"\n",
              "              title=\"Convert this dataframe to an interactive table.\"\n",
              "              style=\"display:none;\">\n",
              "        \n",
              "  <svg xmlns=\"http://www.w3.org/2000/svg\" height=\"24px\"viewBox=\"0 0 24 24\"\n",
              "       width=\"24px\">\n",
              "    <path d=\"M0 0h24v24H0V0z\" fill=\"none\"/>\n",
              "    <path d=\"M18.56 5.44l.94 2.06.94-2.06 2.06-.94-2.06-.94-.94-2.06-.94 2.06-2.06.94zm-11 1L8.5 8.5l.94-2.06 2.06-.94-2.06-.94L8.5 2.5l-.94 2.06-2.06.94zm10 10l.94 2.06.94-2.06 2.06-.94-2.06-.94-.94-2.06-.94 2.06-2.06.94z\"/><path d=\"M17.41 7.96l-1.37-1.37c-.4-.4-.92-.59-1.43-.59-.52 0-1.04.2-1.43.59L10.3 9.45l-7.72 7.72c-.78.78-.78 2.05 0 2.83L4 21.41c.39.39.9.59 1.41.59.51 0 1.02-.2 1.41-.59l7.78-7.78 2.81-2.81c.8-.78.8-2.07 0-2.86zM5.41 20L4 18.59l7.72-7.72 1.47 1.35L5.41 20z\"/>\n",
              "  </svg>\n",
              "      </button>\n",
              "      \n",
              "  <style>\n",
              "    .colab-df-container {\n",
              "      display:flex;\n",
              "      flex-wrap:wrap;\n",
              "      gap: 12px;\n",
              "    }\n",
              "\n",
              "    .colab-df-convert {\n",
              "      background-color: #E8F0FE;\n",
              "      border: none;\n",
              "      border-radius: 50%;\n",
              "      cursor: pointer;\n",
              "      display: none;\n",
              "      fill: #1967D2;\n",
              "      height: 32px;\n",
              "      padding: 0 0 0 0;\n",
              "      width: 32px;\n",
              "    }\n",
              "\n",
              "    .colab-df-convert:hover {\n",
              "      background-color: #E2EBFA;\n",
              "      box-shadow: 0px 1px 2px rgba(60, 64, 67, 0.3), 0px 1px 3px 1px rgba(60, 64, 67, 0.15);\n",
              "      fill: #174EA6;\n",
              "    }\n",
              "\n",
              "    [theme=dark] .colab-df-convert {\n",
              "      background-color: #3B4455;\n",
              "      fill: #D2E3FC;\n",
              "    }\n",
              "\n",
              "    [theme=dark] .colab-df-convert:hover {\n",
              "      background-color: #434B5C;\n",
              "      box-shadow: 0px 1px 3px 1px rgba(0, 0, 0, 0.15);\n",
              "      filter: drop-shadow(0px 1px 2px rgba(0, 0, 0, 0.3));\n",
              "      fill: #FFFFFF;\n",
              "    }\n",
              "  </style>\n",
              "\n",
              "      <script>\n",
              "        const buttonEl =\n",
              "          document.querySelector('#df-b91828d5-7a3b-4af0-b0cb-2a30fffa8eea button.colab-df-convert');\n",
              "        buttonEl.style.display =\n",
              "          google.colab.kernel.accessAllowed ? 'block' : 'none';\n",
              "\n",
              "        async function convertToInteractive(key) {\n",
              "          const element = document.querySelector('#df-b91828d5-7a3b-4af0-b0cb-2a30fffa8eea');\n",
              "          const dataTable =\n",
              "            await google.colab.kernel.invokeFunction('convertToInteractive',\n",
              "                                                     [key], {});\n",
              "          if (!dataTable) return;\n",
              "\n",
              "          const docLinkHtml = 'Like what you see? Visit the ' +\n",
              "            '<a target=\"_blank\" href=https://colab.research.google.com/notebooks/data_table.ipynb>data table notebook</a>'\n",
              "            + ' to learn more about interactive tables.';\n",
              "          element.innerHTML = '';\n",
              "          dataTable['output_type'] = 'display_data';\n",
              "          await google.colab.output.renderOutput(dataTable, element);\n",
              "          const docLink = document.createElement('div');\n",
              "          docLink.innerHTML = docLinkHtml;\n",
              "          element.appendChild(docLink);\n",
              "        }\n",
              "      </script>\n",
              "    </div>\n",
              "  </div>\n",
              "  "
            ]
          },
          "metadata": {},
          "execution_count": 7
        }
      ],
      "source": [
        "train.rename(columns = {'Sentiment':'sentiment'}, inplace = True)\n",
        "#train.rename(columns = {'Tweet':'text'}, inplace = True)\n",
        "train"
      ]
    },
    {
      "cell_type": "code",
      "source": [
        "test = pd.read_csv('/content/drive/MyDrive/Ant_Thesis/data/test_data.csv')\n",
        "test.head(15)"
      ],
      "metadata": {
        "colab": {
          "base_uri": "https://localhost:8080/",
          "height": 520
        },
        "id": "mB8ySiiTOYs6",
        "outputId": "0dc0b446-7256-4c10-fd1b-fd82e73802a3"
      },
      "execution_count": null,
      "outputs": [
        {
          "output_type": "execute_result",
          "data": {
            "text/plain": [
              "                                                 text sentiment\n",
              "0   RT Bitcoin Price Falls As Markets React To FAL...  Negative\n",
              "1   RT 1 terabyte block capacity is coming to Bitc...   Neutral\n",
              "2   bitcoin Is Record Business Optimism A Contrari...   Neutral\n",
              "3   If you want private transactions use a privacy...   Neutral\n",
              "4   As Novo Expects Bitcoin To Kill Other Crypto A...  Negative\n",
              "5   RT Free Bitcoin litecoin and many other coin m...  Positive\n",
              "6   Your honesty is superb we would have liked to ...  Negative\n",
              "7   The Real Stark Industries nashville Startups n...  Negative\n",
              "8   Block 522613 Size 129 27 kb Fee 0 11 kb Price ...   Neutral\n",
              "9   The Blockchain Platform that Makes Irritating ...  Negative\n",
              "10  Name Metaverse ETP Symbol ETP 24 hour change 1...  Negative\n",
              "11  Google Reveals Two Blockchain Projects As It E...   Neutral\n",
              "12  Just stop this madness Ben is a chatbot that l...   Neutral\n",
              "13  Because you know Child abuse imagery found wit...   Neutral\n",
              "14         hackers in Atlanta need da Bitcoin or else   Neutral"
            ],
            "text/html": [
              "\n",
              "  <div id=\"df-ee60426e-5eea-4b8d-9279-4e6006a4f7d1\">\n",
              "    <div class=\"colab-df-container\">\n",
              "      <div>\n",
              "<style scoped>\n",
              "    .dataframe tbody tr th:only-of-type {\n",
              "        vertical-align: middle;\n",
              "    }\n",
              "\n",
              "    .dataframe tbody tr th {\n",
              "        vertical-align: top;\n",
              "    }\n",
              "\n",
              "    .dataframe thead th {\n",
              "        text-align: right;\n",
              "    }\n",
              "</style>\n",
              "<table border=\"1\" class=\"dataframe\">\n",
              "  <thead>\n",
              "    <tr style=\"text-align: right;\">\n",
              "      <th></th>\n",
              "      <th>text</th>\n",
              "      <th>sentiment</th>\n",
              "    </tr>\n",
              "  </thead>\n",
              "  <tbody>\n",
              "    <tr>\n",
              "      <th>0</th>\n",
              "      <td>RT Bitcoin Price Falls As Markets React To FAL...</td>\n",
              "      <td>Negative</td>\n",
              "    </tr>\n",
              "    <tr>\n",
              "      <th>1</th>\n",
              "      <td>RT 1 terabyte block capacity is coming to Bitc...</td>\n",
              "      <td>Neutral</td>\n",
              "    </tr>\n",
              "    <tr>\n",
              "      <th>2</th>\n",
              "      <td>bitcoin Is Record Business Optimism A Contrari...</td>\n",
              "      <td>Neutral</td>\n",
              "    </tr>\n",
              "    <tr>\n",
              "      <th>3</th>\n",
              "      <td>If you want private transactions use a privacy...</td>\n",
              "      <td>Neutral</td>\n",
              "    </tr>\n",
              "    <tr>\n",
              "      <th>4</th>\n",
              "      <td>As Novo Expects Bitcoin To Kill Other Crypto A...</td>\n",
              "      <td>Negative</td>\n",
              "    </tr>\n",
              "    <tr>\n",
              "      <th>5</th>\n",
              "      <td>RT Free Bitcoin litecoin and many other coin m...</td>\n",
              "      <td>Positive</td>\n",
              "    </tr>\n",
              "    <tr>\n",
              "      <th>6</th>\n",
              "      <td>Your honesty is superb we would have liked to ...</td>\n",
              "      <td>Negative</td>\n",
              "    </tr>\n",
              "    <tr>\n",
              "      <th>7</th>\n",
              "      <td>The Real Stark Industries nashville Startups n...</td>\n",
              "      <td>Negative</td>\n",
              "    </tr>\n",
              "    <tr>\n",
              "      <th>8</th>\n",
              "      <td>Block 522613 Size 129 27 kb Fee 0 11 kb Price ...</td>\n",
              "      <td>Neutral</td>\n",
              "    </tr>\n",
              "    <tr>\n",
              "      <th>9</th>\n",
              "      <td>The Blockchain Platform that Makes Irritating ...</td>\n",
              "      <td>Negative</td>\n",
              "    </tr>\n",
              "    <tr>\n",
              "      <th>10</th>\n",
              "      <td>Name Metaverse ETP Symbol ETP 24 hour change 1...</td>\n",
              "      <td>Negative</td>\n",
              "    </tr>\n",
              "    <tr>\n",
              "      <th>11</th>\n",
              "      <td>Google Reveals Two Blockchain Projects As It E...</td>\n",
              "      <td>Neutral</td>\n",
              "    </tr>\n",
              "    <tr>\n",
              "      <th>12</th>\n",
              "      <td>Just stop this madness Ben is a chatbot that l...</td>\n",
              "      <td>Neutral</td>\n",
              "    </tr>\n",
              "    <tr>\n",
              "      <th>13</th>\n",
              "      <td>Because you know Child abuse imagery found wit...</td>\n",
              "      <td>Neutral</td>\n",
              "    </tr>\n",
              "    <tr>\n",
              "      <th>14</th>\n",
              "      <td>hackers in Atlanta need da Bitcoin or else</td>\n",
              "      <td>Neutral</td>\n",
              "    </tr>\n",
              "  </tbody>\n",
              "</table>\n",
              "</div>\n",
              "      <button class=\"colab-df-convert\" onclick=\"convertToInteractive('df-ee60426e-5eea-4b8d-9279-4e6006a4f7d1')\"\n",
              "              title=\"Convert this dataframe to an interactive table.\"\n",
              "              style=\"display:none;\">\n",
              "        \n",
              "  <svg xmlns=\"http://www.w3.org/2000/svg\" height=\"24px\"viewBox=\"0 0 24 24\"\n",
              "       width=\"24px\">\n",
              "    <path d=\"M0 0h24v24H0V0z\" fill=\"none\"/>\n",
              "    <path d=\"M18.56 5.44l.94 2.06.94-2.06 2.06-.94-2.06-.94-.94-2.06-.94 2.06-2.06.94zm-11 1L8.5 8.5l.94-2.06 2.06-.94-2.06-.94L8.5 2.5l-.94 2.06-2.06.94zm10 10l.94 2.06.94-2.06 2.06-.94-2.06-.94-.94-2.06-.94 2.06-2.06.94z\"/><path d=\"M17.41 7.96l-1.37-1.37c-.4-.4-.92-.59-1.43-.59-.52 0-1.04.2-1.43.59L10.3 9.45l-7.72 7.72c-.78.78-.78 2.05 0 2.83L4 21.41c.39.39.9.59 1.41.59.51 0 1.02-.2 1.41-.59l7.78-7.78 2.81-2.81c.8-.78.8-2.07 0-2.86zM5.41 20L4 18.59l7.72-7.72 1.47 1.35L5.41 20z\"/>\n",
              "  </svg>\n",
              "      </button>\n",
              "      \n",
              "  <style>\n",
              "    .colab-df-container {\n",
              "      display:flex;\n",
              "      flex-wrap:wrap;\n",
              "      gap: 12px;\n",
              "    }\n",
              "\n",
              "    .colab-df-convert {\n",
              "      background-color: #E8F0FE;\n",
              "      border: none;\n",
              "      border-radius: 50%;\n",
              "      cursor: pointer;\n",
              "      display: none;\n",
              "      fill: #1967D2;\n",
              "      height: 32px;\n",
              "      padding: 0 0 0 0;\n",
              "      width: 32px;\n",
              "    }\n",
              "\n",
              "    .colab-df-convert:hover {\n",
              "      background-color: #E2EBFA;\n",
              "      box-shadow: 0px 1px 2px rgba(60, 64, 67, 0.3), 0px 1px 3px 1px rgba(60, 64, 67, 0.15);\n",
              "      fill: #174EA6;\n",
              "    }\n",
              "\n",
              "    [theme=dark] .colab-df-convert {\n",
              "      background-color: #3B4455;\n",
              "      fill: #D2E3FC;\n",
              "    }\n",
              "\n",
              "    [theme=dark] .colab-df-convert:hover {\n",
              "      background-color: #434B5C;\n",
              "      box-shadow: 0px 1px 3px 1px rgba(0, 0, 0, 0.15);\n",
              "      filter: drop-shadow(0px 1px 2px rgba(0, 0, 0, 0.3));\n",
              "      fill: #FFFFFF;\n",
              "    }\n",
              "  </style>\n",
              "\n",
              "      <script>\n",
              "        const buttonEl =\n",
              "          document.querySelector('#df-ee60426e-5eea-4b8d-9279-4e6006a4f7d1 button.colab-df-convert');\n",
              "        buttonEl.style.display =\n",
              "          google.colab.kernel.accessAllowed ? 'block' : 'none';\n",
              "\n",
              "        async function convertToInteractive(key) {\n",
              "          const element = document.querySelector('#df-ee60426e-5eea-4b8d-9279-4e6006a4f7d1');\n",
              "          const dataTable =\n",
              "            await google.colab.kernel.invokeFunction('convertToInteractive',\n",
              "                                                     [key], {});\n",
              "          if (!dataTable) return;\n",
              "\n",
              "          const docLinkHtml = 'Like what you see? Visit the ' +\n",
              "            '<a target=\"_blank\" href=https://colab.research.google.com/notebooks/data_table.ipynb>data table notebook</a>'\n",
              "            + ' to learn more about interactive tables.';\n",
              "          element.innerHTML = '';\n",
              "          dataTable['output_type'] = 'display_data';\n",
              "          await google.colab.output.renderOutput(dataTable, element);\n",
              "          const docLink = document.createElement('div');\n",
              "          docLink.innerHTML = docLinkHtml;\n",
              "          element.appendChild(docLink);\n",
              "        }\n",
              "      </script>\n",
              "    </div>\n",
              "  </div>\n",
              "  "
            ]
          },
          "metadata": {},
          "execution_count": 8
        }
      ]
    },
    {
      "cell_type": "code",
      "source": [
        "test.rename(columns = {'Sentiment':'sentiment'}, inplace = True)"
      ],
      "metadata": {
        "id": "LosgyI84d-yc"
      },
      "execution_count": null,
      "outputs": []
    },
    {
      "cell_type": "code",
      "execution_count": null,
      "metadata": {
        "execution": {
          "iopub.execute_input": "2020-10-06T21:19:41.980569Z",
          "iopub.status.busy": "2020-10-06T21:19:41.979730Z",
          "iopub.status.idle": "2020-10-06T21:19:41.983566Z",
          "shell.execute_reply": "2020-10-06T21:19:41.983073Z"
        },
        "papermill": {
          "duration": 0.041264,
          "end_time": "2020-10-06T21:19:41.983666",
          "exception": false,
          "start_time": "2020-10-06T21:19:41.942402",
          "status": "completed"
        },
        "tags": [],
        "colab": {
          "base_uri": "https://localhost:8080/"
        },
        "id": "MIpHQydg3i9x",
        "outputId": "716a5e4d-1059-4c17-c36e-9b772d495570"
      },
      "outputs": [
        {
          "output_type": "execute_result",
          "data": {
            "text/plain": [
              "20082"
            ]
          },
          "metadata": {},
          "execution_count": 10
        }
      ],
      "source": [
        "#Let's get the dataset lenght\n",
        "len(train)"
      ]
    },
    {
      "cell_type": "code",
      "execution_count": null,
      "metadata": {
        "execution": {
          "iopub.execute_input": "2020-10-06T21:19:42.060070Z",
          "iopub.status.busy": "2020-10-06T21:19:42.059141Z",
          "iopub.status.idle": "2020-10-06T21:19:42.064587Z",
          "shell.execute_reply": "2020-10-06T21:19:42.064115Z"
        },
        "papermill": {
          "duration": 0.047577,
          "end_time": "2020-10-06T21:19:42.064691",
          "exception": false,
          "start_time": "2020-10-06T21:19:42.017114",
          "status": "completed"
        },
        "tags": [],
        "colab": {
          "base_uri": "https://localhost:8080/"
        },
        "id": "bnVz_vdp3i91",
        "outputId": "19ec8470-cc16-492d-e499-6960b6eff54a"
      },
      "outputs": [
        {
          "output_type": "execute_result",
          "data": {
            "text/plain": [
              "array(['Neutral', 'Negative', 'Positive'], dtype=object)"
            ]
          },
          "metadata": {},
          "execution_count": 11
        }
      ],
      "source": [
        "#Is there any other different value than neutral, negative and positive?\n",
        "train['sentiment'].unique()"
      ]
    },
    {
      "cell_type": "code",
      "execution_count": null,
      "metadata": {
        "execution": {
          "iopub.execute_input": "2020-10-06T21:19:42.143106Z",
          "iopub.status.busy": "2020-10-06T21:19:42.142318Z",
          "iopub.status.idle": "2020-10-06T21:19:42.185676Z",
          "shell.execute_reply": "2020-10-06T21:19:42.186310Z"
        },
        "papermill": {
          "duration": 0.088183,
          "end_time": "2020-10-06T21:19:42.186453",
          "exception": false,
          "start_time": "2020-10-06T21:19:42.098270",
          "status": "completed"
        },
        "tags": [],
        "colab": {
          "base_uri": "https://localhost:8080/",
          "height": 175
        },
        "id": "6G1P7aeC3i96",
        "outputId": "2dfd2f75-ad40-4b0d-ab63-e61f8686e740"
      },
      "outputs": [
        {
          "output_type": "execute_result",
          "data": {
            "text/plain": [
              "           text\n",
              "sentiment      \n",
              "Negative   5939\n",
              "Neutral    7975\n",
              "Positive   6168"
            ],
            "text/html": [
              "\n",
              "  <div id=\"df-f849ba29-0fe2-443a-aef8-c43b430ab7ad\">\n",
              "    <div class=\"colab-df-container\">\n",
              "      <div>\n",
              "<style scoped>\n",
              "    .dataframe tbody tr th:only-of-type {\n",
              "        vertical-align: middle;\n",
              "    }\n",
              "\n",
              "    .dataframe tbody tr th {\n",
              "        vertical-align: top;\n",
              "    }\n",
              "\n",
              "    .dataframe thead th {\n",
              "        text-align: right;\n",
              "    }\n",
              "</style>\n",
              "<table border=\"1\" class=\"dataframe\">\n",
              "  <thead>\n",
              "    <tr style=\"text-align: right;\">\n",
              "      <th></th>\n",
              "      <th>text</th>\n",
              "    </tr>\n",
              "    <tr>\n",
              "      <th>sentiment</th>\n",
              "      <th></th>\n",
              "    </tr>\n",
              "  </thead>\n",
              "  <tbody>\n",
              "    <tr>\n",
              "      <th>Negative</th>\n",
              "      <td>5939</td>\n",
              "    </tr>\n",
              "    <tr>\n",
              "      <th>Neutral</th>\n",
              "      <td>7975</td>\n",
              "    </tr>\n",
              "    <tr>\n",
              "      <th>Positive</th>\n",
              "      <td>6168</td>\n",
              "    </tr>\n",
              "  </tbody>\n",
              "</table>\n",
              "</div>\n",
              "      <button class=\"colab-df-convert\" onclick=\"convertToInteractive('df-f849ba29-0fe2-443a-aef8-c43b430ab7ad')\"\n",
              "              title=\"Convert this dataframe to an interactive table.\"\n",
              "              style=\"display:none;\">\n",
              "        \n",
              "  <svg xmlns=\"http://www.w3.org/2000/svg\" height=\"24px\"viewBox=\"0 0 24 24\"\n",
              "       width=\"24px\">\n",
              "    <path d=\"M0 0h24v24H0V0z\" fill=\"none\"/>\n",
              "    <path d=\"M18.56 5.44l.94 2.06.94-2.06 2.06-.94-2.06-.94-.94-2.06-.94 2.06-2.06.94zm-11 1L8.5 8.5l.94-2.06 2.06-.94-2.06-.94L8.5 2.5l-.94 2.06-2.06.94zm10 10l.94 2.06.94-2.06 2.06-.94-2.06-.94-.94-2.06-.94 2.06-2.06.94z\"/><path d=\"M17.41 7.96l-1.37-1.37c-.4-.4-.92-.59-1.43-.59-.52 0-1.04.2-1.43.59L10.3 9.45l-7.72 7.72c-.78.78-.78 2.05 0 2.83L4 21.41c.39.39.9.59 1.41.59.51 0 1.02-.2 1.41-.59l7.78-7.78 2.81-2.81c.8-.78.8-2.07 0-2.86zM5.41 20L4 18.59l7.72-7.72 1.47 1.35L5.41 20z\"/>\n",
              "  </svg>\n",
              "      </button>\n",
              "      \n",
              "  <style>\n",
              "    .colab-df-container {\n",
              "      display:flex;\n",
              "      flex-wrap:wrap;\n",
              "      gap: 12px;\n",
              "    }\n",
              "\n",
              "    .colab-df-convert {\n",
              "      background-color: #E8F0FE;\n",
              "      border: none;\n",
              "      border-radius: 50%;\n",
              "      cursor: pointer;\n",
              "      display: none;\n",
              "      fill: #1967D2;\n",
              "      height: 32px;\n",
              "      padding: 0 0 0 0;\n",
              "      width: 32px;\n",
              "    }\n",
              "\n",
              "    .colab-df-convert:hover {\n",
              "      background-color: #E2EBFA;\n",
              "      box-shadow: 0px 1px 2px rgba(60, 64, 67, 0.3), 0px 1px 3px 1px rgba(60, 64, 67, 0.15);\n",
              "      fill: #174EA6;\n",
              "    }\n",
              "\n",
              "    [theme=dark] .colab-df-convert {\n",
              "      background-color: #3B4455;\n",
              "      fill: #D2E3FC;\n",
              "    }\n",
              "\n",
              "    [theme=dark] .colab-df-convert:hover {\n",
              "      background-color: #434B5C;\n",
              "      box-shadow: 0px 1px 3px 1px rgba(0, 0, 0, 0.15);\n",
              "      filter: drop-shadow(0px 1px 2px rgba(0, 0, 0, 0.3));\n",
              "      fill: #FFFFFF;\n",
              "    }\n",
              "  </style>\n",
              "\n",
              "      <script>\n",
              "        const buttonEl =\n",
              "          document.querySelector('#df-f849ba29-0fe2-443a-aef8-c43b430ab7ad button.colab-df-convert');\n",
              "        buttonEl.style.display =\n",
              "          google.colab.kernel.accessAllowed ? 'block' : 'none';\n",
              "\n",
              "        async function convertToInteractive(key) {\n",
              "          const element = document.querySelector('#df-f849ba29-0fe2-443a-aef8-c43b430ab7ad');\n",
              "          const dataTable =\n",
              "            await google.colab.kernel.invokeFunction('convertToInteractive',\n",
              "                                                     [key], {});\n",
              "          if (!dataTable) return;\n",
              "\n",
              "          const docLinkHtml = 'Like what you see? Visit the ' +\n",
              "            '<a target=\"_blank\" href=https://colab.research.google.com/notebooks/data_table.ipynb>data table notebook</a>'\n",
              "            + ' to learn more about interactive tables.';\n",
              "          element.innerHTML = '';\n",
              "          dataTable['output_type'] = 'display_data';\n",
              "          await google.colab.output.renderOutput(dataTable, element);\n",
              "          const docLink = document.createElement('div');\n",
              "          docLink.innerHTML = docLinkHtml;\n",
              "          element.appendChild(docLink);\n",
              "        }\n",
              "      </script>\n",
              "    </div>\n",
              "  </div>\n",
              "  "
            ]
          },
          "metadata": {},
          "execution_count": 12
        }
      ],
      "source": [
        "#How's distributed the dataset? Is it biased?\n",
        "train.groupby('sentiment').nunique()"
      ]
    },
    {
      "cell_type": "code",
      "execution_count": null,
      "metadata": {
        "execution": {
          "iopub.execute_input": "2020-10-06T21:19:41.980569Z",
          "iopub.status.busy": "2020-10-06T21:19:41.979730Z",
          "iopub.status.idle": "2020-10-06T21:19:41.983566Z",
          "shell.execute_reply": "2020-10-06T21:19:41.983073Z"
        },
        "papermill": {
          "duration": 0.041264,
          "end_time": "2020-10-06T21:19:41.983666",
          "exception": false,
          "start_time": "2020-10-06T21:19:41.942402",
          "status": "completed"
        },
        "tags": [],
        "colab": {
          "base_uri": "https://localhost:8080/"
        },
        "outputId": "e20039e6-aa47-429b-d07a-71d2bda1ec1c",
        "id": "Bs1oqtpHiLSV"
      },
      "outputs": [
        {
          "output_type": "execute_result",
          "data": {
            "text/plain": [
              "5021"
            ]
          },
          "metadata": {},
          "execution_count": 13
        }
      ],
      "source": [
        "#Let's get the dataset lenght\n",
        "len(test)"
      ]
    },
    {
      "cell_type": "code",
      "execution_count": null,
      "metadata": {
        "execution": {
          "iopub.execute_input": "2020-10-06T21:19:42.060070Z",
          "iopub.status.busy": "2020-10-06T21:19:42.059141Z",
          "iopub.status.idle": "2020-10-06T21:19:42.064587Z",
          "shell.execute_reply": "2020-10-06T21:19:42.064115Z"
        },
        "papermill": {
          "duration": 0.047577,
          "end_time": "2020-10-06T21:19:42.064691",
          "exception": false,
          "start_time": "2020-10-06T21:19:42.017114",
          "status": "completed"
        },
        "tags": [],
        "colab": {
          "base_uri": "https://localhost:8080/"
        },
        "outputId": "b498bfd0-0528-45d3-e1f8-033a2da27725",
        "id": "1zIKtPp5iLSa"
      },
      "outputs": [
        {
          "output_type": "execute_result",
          "data": {
            "text/plain": [
              "array(['Negative', 'Neutral', 'Positive'], dtype=object)"
            ]
          },
          "metadata": {},
          "execution_count": 14
        }
      ],
      "source": [
        "#Is there any other different value than neutral, negative and positive?\n",
        "test['sentiment'].unique()"
      ]
    },
    {
      "cell_type": "code",
      "execution_count": null,
      "metadata": {
        "execution": {
          "iopub.execute_input": "2020-10-06T21:19:42.143106Z",
          "iopub.status.busy": "2020-10-06T21:19:42.142318Z",
          "iopub.status.idle": "2020-10-06T21:19:42.185676Z",
          "shell.execute_reply": "2020-10-06T21:19:42.186310Z"
        },
        "papermill": {
          "duration": 0.088183,
          "end_time": "2020-10-06T21:19:42.186453",
          "exception": false,
          "start_time": "2020-10-06T21:19:42.098270",
          "status": "completed"
        },
        "tags": [],
        "colab": {
          "base_uri": "https://localhost:8080/",
          "height": 175
        },
        "outputId": "eaef49be-6a20-41ba-8e36-f9cfc8f4e1ea",
        "id": "uNmAgdBOiLSc"
      },
      "outputs": [
        {
          "output_type": "execute_result",
          "data": {
            "text/plain": [
              "           text\n",
              "sentiment      \n",
              "Negative   1511\n",
              "Neutral    1940\n",
              "Positive   1570"
            ],
            "text/html": [
              "\n",
              "  <div id=\"df-d4404d59-40a8-4ec9-b8c5-820434de27d8\">\n",
              "    <div class=\"colab-df-container\">\n",
              "      <div>\n",
              "<style scoped>\n",
              "    .dataframe tbody tr th:only-of-type {\n",
              "        vertical-align: middle;\n",
              "    }\n",
              "\n",
              "    .dataframe tbody tr th {\n",
              "        vertical-align: top;\n",
              "    }\n",
              "\n",
              "    .dataframe thead th {\n",
              "        text-align: right;\n",
              "    }\n",
              "</style>\n",
              "<table border=\"1\" class=\"dataframe\">\n",
              "  <thead>\n",
              "    <tr style=\"text-align: right;\">\n",
              "      <th></th>\n",
              "      <th>text</th>\n",
              "    </tr>\n",
              "    <tr>\n",
              "      <th>sentiment</th>\n",
              "      <th></th>\n",
              "    </tr>\n",
              "  </thead>\n",
              "  <tbody>\n",
              "    <tr>\n",
              "      <th>Negative</th>\n",
              "      <td>1511</td>\n",
              "    </tr>\n",
              "    <tr>\n",
              "      <th>Neutral</th>\n",
              "      <td>1940</td>\n",
              "    </tr>\n",
              "    <tr>\n",
              "      <th>Positive</th>\n",
              "      <td>1570</td>\n",
              "    </tr>\n",
              "  </tbody>\n",
              "</table>\n",
              "</div>\n",
              "      <button class=\"colab-df-convert\" onclick=\"convertToInteractive('df-d4404d59-40a8-4ec9-b8c5-820434de27d8')\"\n",
              "              title=\"Convert this dataframe to an interactive table.\"\n",
              "              style=\"display:none;\">\n",
              "        \n",
              "  <svg xmlns=\"http://www.w3.org/2000/svg\" height=\"24px\"viewBox=\"0 0 24 24\"\n",
              "       width=\"24px\">\n",
              "    <path d=\"M0 0h24v24H0V0z\" fill=\"none\"/>\n",
              "    <path d=\"M18.56 5.44l.94 2.06.94-2.06 2.06-.94-2.06-.94-.94-2.06-.94 2.06-2.06.94zm-11 1L8.5 8.5l.94-2.06 2.06-.94-2.06-.94L8.5 2.5l-.94 2.06-2.06.94zm10 10l.94 2.06.94-2.06 2.06-.94-2.06-.94-.94-2.06-.94 2.06-2.06.94z\"/><path d=\"M17.41 7.96l-1.37-1.37c-.4-.4-.92-.59-1.43-.59-.52 0-1.04.2-1.43.59L10.3 9.45l-7.72 7.72c-.78.78-.78 2.05 0 2.83L4 21.41c.39.39.9.59 1.41.59.51 0 1.02-.2 1.41-.59l7.78-7.78 2.81-2.81c.8-.78.8-2.07 0-2.86zM5.41 20L4 18.59l7.72-7.72 1.47 1.35L5.41 20z\"/>\n",
              "  </svg>\n",
              "      </button>\n",
              "      \n",
              "  <style>\n",
              "    .colab-df-container {\n",
              "      display:flex;\n",
              "      flex-wrap:wrap;\n",
              "      gap: 12px;\n",
              "    }\n",
              "\n",
              "    .colab-df-convert {\n",
              "      background-color: #E8F0FE;\n",
              "      border: none;\n",
              "      border-radius: 50%;\n",
              "      cursor: pointer;\n",
              "      display: none;\n",
              "      fill: #1967D2;\n",
              "      height: 32px;\n",
              "      padding: 0 0 0 0;\n",
              "      width: 32px;\n",
              "    }\n",
              "\n",
              "    .colab-df-convert:hover {\n",
              "      background-color: #E2EBFA;\n",
              "      box-shadow: 0px 1px 2px rgba(60, 64, 67, 0.3), 0px 1px 3px 1px rgba(60, 64, 67, 0.15);\n",
              "      fill: #174EA6;\n",
              "    }\n",
              "\n",
              "    [theme=dark] .colab-df-convert {\n",
              "      background-color: #3B4455;\n",
              "      fill: #D2E3FC;\n",
              "    }\n",
              "\n",
              "    [theme=dark] .colab-df-convert:hover {\n",
              "      background-color: #434B5C;\n",
              "      box-shadow: 0px 1px 3px 1px rgba(0, 0, 0, 0.15);\n",
              "      filter: drop-shadow(0px 1px 2px rgba(0, 0, 0, 0.3));\n",
              "      fill: #FFFFFF;\n",
              "    }\n",
              "  </style>\n",
              "\n",
              "      <script>\n",
              "        const buttonEl =\n",
              "          document.querySelector('#df-d4404d59-40a8-4ec9-b8c5-820434de27d8 button.colab-df-convert');\n",
              "        buttonEl.style.display =\n",
              "          google.colab.kernel.accessAllowed ? 'block' : 'none';\n",
              "\n",
              "        async function convertToInteractive(key) {\n",
              "          const element = document.querySelector('#df-d4404d59-40a8-4ec9-b8c5-820434de27d8');\n",
              "          const dataTable =\n",
              "            await google.colab.kernel.invokeFunction('convertToInteractive',\n",
              "                                                     [key], {});\n",
              "          if (!dataTable) return;\n",
              "\n",
              "          const docLinkHtml = 'Like what you see? Visit the ' +\n",
              "            '<a target=\"_blank\" href=https://colab.research.google.com/notebooks/data_table.ipynb>data table notebook</a>'\n",
              "            + ' to learn more about interactive tables.';\n",
              "          element.innerHTML = '';\n",
              "          dataTable['output_type'] = 'display_data';\n",
              "          await google.colab.output.renderOutput(dataTable, element);\n",
              "          const docLink = document.createElement('div');\n",
              "          docLink.innerHTML = docLinkHtml;\n",
              "          element.appendChild(docLink);\n",
              "        }\n",
              "      </script>\n",
              "    </div>\n",
              "  </div>\n",
              "  "
            ]
          },
          "metadata": {},
          "execution_count": 15
        }
      ],
      "source": [
        "#How's distributed the dataset? Is it biased?\n",
        "test.groupby('sentiment').nunique()"
      ]
    },
    {
      "cell_type": "markdown",
      "source": [
        "**Test Part**"
      ],
      "metadata": {
        "id": "11oVprDriMhl"
      }
    },
    {
      "cell_type": "markdown",
      "metadata": {
        "papermill": {
          "duration": 0.033994,
          "end_time": "2020-10-06T21:19:42.255666",
          "exception": false,
          "start_time": "2020-10-06T21:19:42.221672",
          "status": "completed"
        },
        "tags": [],
        "id": "j4Utnq183i9-"
      },
      "source": [
        "# Data cleaning\n",
        "\n",
        "Even when the dataset is a little bit biased, we'll keep it this way because the differences are not significant."
      ]
    },
    {
      "cell_type": "code",
      "execution_count": null,
      "metadata": {
        "execution": {
          "iopub.execute_input": "2020-10-06T21:19:42.334657Z",
          "iopub.status.busy": "2020-10-06T21:19:42.333827Z",
          "iopub.status.idle": "2020-10-06T21:19:42.337209Z",
          "shell.execute_reply": "2020-10-06T21:19:42.337696Z"
        },
        "papermill": {
          "duration": 0.04812,
          "end_time": "2020-10-06T21:19:42.337823",
          "exception": false,
          "start_time": "2020-10-06T21:19:42.289703",
          "status": "completed"
        },
        "tags": [],
        "colab": {
          "base_uri": "https://localhost:8080/",
          "height": 424
        },
        "id": "yxGAi1Kr3i-B",
        "outputId": "9bf54b9c-4f92-44cd-a560-fbff2cc0b44f"
      },
      "outputs": [
        {
          "output_type": "execute_result",
          "data": {
            "text/plain": [
              "                                                    text sentiment\n",
              "0      Bitcoin is unfolding like the dot com crash ju...   Neutral\n",
              "1      XEM Price is 0 00003330 0 00000044 BTC 0 28641...  Negative\n",
              "2      RT Bitcoin daily snapshot 24hr CHANGE 6 4 OUTL...   Neutral\n",
              "3      Dutch Court Finds Bitcoin A Legitimate Transfe...   Neutral\n",
              "4      BTC STEEM AskRate 0 00024274 Bittrex STEEM STE...  Positive\n",
              "...                                                  ...       ...\n",
              "20077  Ethereum based virtual collectible game develo...  Negative\n",
              "20078  RT Two Hour Lull Update CryptoCompare Bitcoin ...   Neutral\n",
              "20079  RT NowPlaying Put It on You by GP LosAngeles H...   Neutral\n",
              "20080  Craig Wright files copyright registration for ...  Negative\n",
              "20081  XEM Price is 0 00003374 0 00000044 BTC 0 29008...  Negative\n",
              "\n",
              "[20082 rows x 2 columns]"
            ],
            "text/html": [
              "\n",
              "  <div id=\"df-2f03b2cc-446a-4994-9743-a014d6eb37aa\">\n",
              "    <div class=\"colab-df-container\">\n",
              "      <div>\n",
              "<style scoped>\n",
              "    .dataframe tbody tr th:only-of-type {\n",
              "        vertical-align: middle;\n",
              "    }\n",
              "\n",
              "    .dataframe tbody tr th {\n",
              "        vertical-align: top;\n",
              "    }\n",
              "\n",
              "    .dataframe thead th {\n",
              "        text-align: right;\n",
              "    }\n",
              "</style>\n",
              "<table border=\"1\" class=\"dataframe\">\n",
              "  <thead>\n",
              "    <tr style=\"text-align: right;\">\n",
              "      <th></th>\n",
              "      <th>text</th>\n",
              "      <th>sentiment</th>\n",
              "    </tr>\n",
              "  </thead>\n",
              "  <tbody>\n",
              "    <tr>\n",
              "      <th>0</th>\n",
              "      <td>Bitcoin is unfolding like the dot com crash ju...</td>\n",
              "      <td>Neutral</td>\n",
              "    </tr>\n",
              "    <tr>\n",
              "      <th>1</th>\n",
              "      <td>XEM Price is 0 00003330 0 00000044 BTC 0 28641...</td>\n",
              "      <td>Negative</td>\n",
              "    </tr>\n",
              "    <tr>\n",
              "      <th>2</th>\n",
              "      <td>RT Bitcoin daily snapshot 24hr CHANGE 6 4 OUTL...</td>\n",
              "      <td>Neutral</td>\n",
              "    </tr>\n",
              "    <tr>\n",
              "      <th>3</th>\n",
              "      <td>Dutch Court Finds Bitcoin A Legitimate Transfe...</td>\n",
              "      <td>Neutral</td>\n",
              "    </tr>\n",
              "    <tr>\n",
              "      <th>4</th>\n",
              "      <td>BTC STEEM AskRate 0 00024274 Bittrex STEEM STE...</td>\n",
              "      <td>Positive</td>\n",
              "    </tr>\n",
              "    <tr>\n",
              "      <th>...</th>\n",
              "      <td>...</td>\n",
              "      <td>...</td>\n",
              "    </tr>\n",
              "    <tr>\n",
              "      <th>20077</th>\n",
              "      <td>Ethereum based virtual collectible game develo...</td>\n",
              "      <td>Negative</td>\n",
              "    </tr>\n",
              "    <tr>\n",
              "      <th>20078</th>\n",
              "      <td>RT Two Hour Lull Update CryptoCompare Bitcoin ...</td>\n",
              "      <td>Neutral</td>\n",
              "    </tr>\n",
              "    <tr>\n",
              "      <th>20079</th>\n",
              "      <td>RT NowPlaying Put It on You by GP LosAngeles H...</td>\n",
              "      <td>Neutral</td>\n",
              "    </tr>\n",
              "    <tr>\n",
              "      <th>20080</th>\n",
              "      <td>Craig Wright files copyright registration for ...</td>\n",
              "      <td>Negative</td>\n",
              "    </tr>\n",
              "    <tr>\n",
              "      <th>20081</th>\n",
              "      <td>XEM Price is 0 00003374 0 00000044 BTC 0 29008...</td>\n",
              "      <td>Negative</td>\n",
              "    </tr>\n",
              "  </tbody>\n",
              "</table>\n",
              "<p>20082 rows × 2 columns</p>\n",
              "</div>\n",
              "      <button class=\"colab-df-convert\" onclick=\"convertToInteractive('df-2f03b2cc-446a-4994-9743-a014d6eb37aa')\"\n",
              "              title=\"Convert this dataframe to an interactive table.\"\n",
              "              style=\"display:none;\">\n",
              "        \n",
              "  <svg xmlns=\"http://www.w3.org/2000/svg\" height=\"24px\"viewBox=\"0 0 24 24\"\n",
              "       width=\"24px\">\n",
              "    <path d=\"M0 0h24v24H0V0z\" fill=\"none\"/>\n",
              "    <path d=\"M18.56 5.44l.94 2.06.94-2.06 2.06-.94-2.06-.94-.94-2.06-.94 2.06-2.06.94zm-11 1L8.5 8.5l.94-2.06 2.06-.94-2.06-.94L8.5 2.5l-.94 2.06-2.06.94zm10 10l.94 2.06.94-2.06 2.06-.94-2.06-.94-.94-2.06-.94 2.06-2.06.94z\"/><path d=\"M17.41 7.96l-1.37-1.37c-.4-.4-.92-.59-1.43-.59-.52 0-1.04.2-1.43.59L10.3 9.45l-7.72 7.72c-.78.78-.78 2.05 0 2.83L4 21.41c.39.39.9.59 1.41.59.51 0 1.02-.2 1.41-.59l7.78-7.78 2.81-2.81c.8-.78.8-2.07 0-2.86zM5.41 20L4 18.59l7.72-7.72 1.47 1.35L5.41 20z\"/>\n",
              "  </svg>\n",
              "      </button>\n",
              "      \n",
              "  <style>\n",
              "    .colab-df-container {\n",
              "      display:flex;\n",
              "      flex-wrap:wrap;\n",
              "      gap: 12px;\n",
              "    }\n",
              "\n",
              "    .colab-df-convert {\n",
              "      background-color: #E8F0FE;\n",
              "      border: none;\n",
              "      border-radius: 50%;\n",
              "      cursor: pointer;\n",
              "      display: none;\n",
              "      fill: #1967D2;\n",
              "      height: 32px;\n",
              "      padding: 0 0 0 0;\n",
              "      width: 32px;\n",
              "    }\n",
              "\n",
              "    .colab-df-convert:hover {\n",
              "      background-color: #E2EBFA;\n",
              "      box-shadow: 0px 1px 2px rgba(60, 64, 67, 0.3), 0px 1px 3px 1px rgba(60, 64, 67, 0.15);\n",
              "      fill: #174EA6;\n",
              "    }\n",
              "\n",
              "    [theme=dark] .colab-df-convert {\n",
              "      background-color: #3B4455;\n",
              "      fill: #D2E3FC;\n",
              "    }\n",
              "\n",
              "    [theme=dark] .colab-df-convert:hover {\n",
              "      background-color: #434B5C;\n",
              "      box-shadow: 0px 1px 3px 1px rgba(0, 0, 0, 0.15);\n",
              "      filter: drop-shadow(0px 1px 2px rgba(0, 0, 0, 0.3));\n",
              "      fill: #FFFFFF;\n",
              "    }\n",
              "  </style>\n",
              "\n",
              "      <script>\n",
              "        const buttonEl =\n",
              "          document.querySelector('#df-2f03b2cc-446a-4994-9743-a014d6eb37aa button.colab-df-convert');\n",
              "        buttonEl.style.display =\n",
              "          google.colab.kernel.accessAllowed ? 'block' : 'none';\n",
              "\n",
              "        async function convertToInteractive(key) {\n",
              "          const element = document.querySelector('#df-2f03b2cc-446a-4994-9743-a014d6eb37aa');\n",
              "          const dataTable =\n",
              "            await google.colab.kernel.invokeFunction('convertToInteractive',\n",
              "                                                     [key], {});\n",
              "          if (!dataTable) return;\n",
              "\n",
              "          const docLinkHtml = 'Like what you see? Visit the ' +\n",
              "            '<a target=\"_blank\" href=https://colab.research.google.com/notebooks/data_table.ipynb>data table notebook</a>'\n",
              "            + ' to learn more about interactive tables.';\n",
              "          element.innerHTML = '';\n",
              "          dataTable['output_type'] = 'display_data';\n",
              "          await google.colab.output.renderOutput(dataTable, element);\n",
              "          const docLink = document.createElement('div');\n",
              "          docLink.innerHTML = docLinkHtml;\n",
              "          element.appendChild(docLink);\n",
              "        }\n",
              "      </script>\n",
              "    </div>\n",
              "  </div>\n",
              "  "
            ]
          },
          "metadata": {},
          "execution_count": 16
        }
      ],
      "source": [
        "#Let's keep only the columns that we're going to use\n",
        "train = train[['text','sentiment']]\n",
        "train"
      ]
    },
    {
      "cell_type": "code",
      "execution_count": null,
      "metadata": {
        "execution": {
          "iopub.execute_input": "2020-10-06T21:19:42.415166Z",
          "iopub.status.busy": "2020-10-06T21:19:42.414365Z",
          "iopub.status.idle": "2020-10-06T21:19:42.418112Z",
          "shell.execute_reply": "2020-10-06T21:19:42.417659Z"
        },
        "papermill": {
          "duration": 0.0451,
          "end_time": "2020-10-06T21:19:42.418205",
          "exception": false,
          "start_time": "2020-10-06T21:19:42.373105",
          "status": "completed"
        },
        "tags": [],
        "colab": {
          "base_uri": "https://localhost:8080/"
        },
        "id": "Z92NzONN3i-E",
        "outputId": "a1ef2200-3895-41dd-ce3e-9d78aae0069f"
      },
      "outputs": [
        {
          "output_type": "execute_result",
          "data": {
            "text/plain": [
              "0"
            ]
          },
          "metadata": {},
          "execution_count": 17
        }
      ],
      "source": [
        "#Is there any null value?\n",
        "train[\"text\"].isnull().sum()"
      ]
    },
    {
      "cell_type": "code",
      "execution_count": null,
      "metadata": {
        "execution": {
          "iopub.execute_input": "2020-10-06T21:19:42.499946Z",
          "iopub.status.busy": "2020-10-06T21:19:42.498153Z",
          "iopub.status.idle": "2020-10-06T21:19:42.500760Z",
          "shell.execute_reply": "2020-10-06T21:19:42.501276Z"
        },
        "papermill": {
          "duration": 0.047154,
          "end_time": "2020-10-06T21:19:42.501409",
          "exception": false,
          "start_time": "2020-10-06T21:19:42.454255",
          "status": "completed"
        },
        "tags": [],
        "id": "BEi7X-Jp3i-G"
      },
      "outputs": [],
      "source": [
        "#Let's fill the only null value.\n",
        "train[\"text\"].fillna(\"No content\", inplace = True)"
      ]
    },
    {
      "cell_type": "code",
      "source": [
        "train = train.dropna()"
      ],
      "metadata": {
        "id": "1YPzIgl0VtIc"
      },
      "execution_count": null,
      "outputs": []
    },
    {
      "cell_type": "code",
      "source": [
        "train = train.drop_duplicates()"
      ],
      "metadata": {
        "id": "2TZg0nTByoEl"
      },
      "execution_count": null,
      "outputs": []
    },
    {
      "cell_type": "code",
      "execution_count": null,
      "metadata": {
        "execution": {
          "iopub.execute_input": "2020-10-06T21:19:41.980569Z",
          "iopub.status.busy": "2020-10-06T21:19:41.979730Z",
          "iopub.status.idle": "2020-10-06T21:19:41.983566Z",
          "shell.execute_reply": "2020-10-06T21:19:41.983073Z"
        },
        "papermill": {
          "duration": 0.041264,
          "end_time": "2020-10-06T21:19:41.983666",
          "exception": false,
          "start_time": "2020-10-06T21:19:41.942402",
          "status": "completed"
        },
        "tags": [],
        "colab": {
          "base_uri": "https://localhost:8080/",
          "height": 424
        },
        "outputId": "bed9a5f4-00b9-4372-a5d8-a45a62dd125c",
        "id": "2IxoK38ail-d"
      },
      "outputs": [
        {
          "output_type": "execute_result",
          "data": {
            "text/plain": [
              "                                                   text sentiment\n",
              "0     RT Bitcoin Price Falls As Markets React To FAL...  Negative\n",
              "1     RT 1 terabyte block capacity is coming to Bitc...   Neutral\n",
              "2     bitcoin Is Record Business Optimism A Contrari...   Neutral\n",
              "3     If you want private transactions use a privacy...   Neutral\n",
              "4     As Novo Expects Bitcoin To Kill Other Crypto A...  Negative\n",
              "...                                                 ...       ...\n",
              "5016  The Image MASSter Solo 101 Forensic Hard Drive...  Negative\n",
              "5017  Buy Bitcoin Bitcoin Cash Monero Zcash or Litec...  Positive\n",
              "5018  In April 2016 computer technicians at the Demo...   Neutral\n",
              "5019  The Gentlemen of Crypto EP 129 Bitcoin Blackli...   Neutral\n",
              "5020  Follow this private group before they close fr...  Negative\n",
              "\n",
              "[5021 rows x 2 columns]"
            ],
            "text/html": [
              "\n",
              "  <div id=\"df-bf1f4a1d-03f3-43fa-8102-9465fab75df8\">\n",
              "    <div class=\"colab-df-container\">\n",
              "      <div>\n",
              "<style scoped>\n",
              "    .dataframe tbody tr th:only-of-type {\n",
              "        vertical-align: middle;\n",
              "    }\n",
              "\n",
              "    .dataframe tbody tr th {\n",
              "        vertical-align: top;\n",
              "    }\n",
              "\n",
              "    .dataframe thead th {\n",
              "        text-align: right;\n",
              "    }\n",
              "</style>\n",
              "<table border=\"1\" class=\"dataframe\">\n",
              "  <thead>\n",
              "    <tr style=\"text-align: right;\">\n",
              "      <th></th>\n",
              "      <th>text</th>\n",
              "      <th>sentiment</th>\n",
              "    </tr>\n",
              "  </thead>\n",
              "  <tbody>\n",
              "    <tr>\n",
              "      <th>0</th>\n",
              "      <td>RT Bitcoin Price Falls As Markets React To FAL...</td>\n",
              "      <td>Negative</td>\n",
              "    </tr>\n",
              "    <tr>\n",
              "      <th>1</th>\n",
              "      <td>RT 1 terabyte block capacity is coming to Bitc...</td>\n",
              "      <td>Neutral</td>\n",
              "    </tr>\n",
              "    <tr>\n",
              "      <th>2</th>\n",
              "      <td>bitcoin Is Record Business Optimism A Contrari...</td>\n",
              "      <td>Neutral</td>\n",
              "    </tr>\n",
              "    <tr>\n",
              "      <th>3</th>\n",
              "      <td>If you want private transactions use a privacy...</td>\n",
              "      <td>Neutral</td>\n",
              "    </tr>\n",
              "    <tr>\n",
              "      <th>4</th>\n",
              "      <td>As Novo Expects Bitcoin To Kill Other Crypto A...</td>\n",
              "      <td>Negative</td>\n",
              "    </tr>\n",
              "    <tr>\n",
              "      <th>...</th>\n",
              "      <td>...</td>\n",
              "      <td>...</td>\n",
              "    </tr>\n",
              "    <tr>\n",
              "      <th>5016</th>\n",
              "      <td>The Image MASSter Solo 101 Forensic Hard Drive...</td>\n",
              "      <td>Negative</td>\n",
              "    </tr>\n",
              "    <tr>\n",
              "      <th>5017</th>\n",
              "      <td>Buy Bitcoin Bitcoin Cash Monero Zcash or Litec...</td>\n",
              "      <td>Positive</td>\n",
              "    </tr>\n",
              "    <tr>\n",
              "      <th>5018</th>\n",
              "      <td>In April 2016 computer technicians at the Demo...</td>\n",
              "      <td>Neutral</td>\n",
              "    </tr>\n",
              "    <tr>\n",
              "      <th>5019</th>\n",
              "      <td>The Gentlemen of Crypto EP 129 Bitcoin Blackli...</td>\n",
              "      <td>Neutral</td>\n",
              "    </tr>\n",
              "    <tr>\n",
              "      <th>5020</th>\n",
              "      <td>Follow this private group before they close fr...</td>\n",
              "      <td>Negative</td>\n",
              "    </tr>\n",
              "  </tbody>\n",
              "</table>\n",
              "<p>5021 rows × 2 columns</p>\n",
              "</div>\n",
              "      <button class=\"colab-df-convert\" onclick=\"convertToInteractive('df-bf1f4a1d-03f3-43fa-8102-9465fab75df8')\"\n",
              "              title=\"Convert this dataframe to an interactive table.\"\n",
              "              style=\"display:none;\">\n",
              "        \n",
              "  <svg xmlns=\"http://www.w3.org/2000/svg\" height=\"24px\"viewBox=\"0 0 24 24\"\n",
              "       width=\"24px\">\n",
              "    <path d=\"M0 0h24v24H0V0z\" fill=\"none\"/>\n",
              "    <path d=\"M18.56 5.44l.94 2.06.94-2.06 2.06-.94-2.06-.94-.94-2.06-.94 2.06-2.06.94zm-11 1L8.5 8.5l.94-2.06 2.06-.94-2.06-.94L8.5 2.5l-.94 2.06-2.06.94zm10 10l.94 2.06.94-2.06 2.06-.94-2.06-.94-.94-2.06-.94 2.06-2.06.94z\"/><path d=\"M17.41 7.96l-1.37-1.37c-.4-.4-.92-.59-1.43-.59-.52 0-1.04.2-1.43.59L10.3 9.45l-7.72 7.72c-.78.78-.78 2.05 0 2.83L4 21.41c.39.39.9.59 1.41.59.51 0 1.02-.2 1.41-.59l7.78-7.78 2.81-2.81c.8-.78.8-2.07 0-2.86zM5.41 20L4 18.59l7.72-7.72 1.47 1.35L5.41 20z\"/>\n",
              "  </svg>\n",
              "      </button>\n",
              "      \n",
              "  <style>\n",
              "    .colab-df-container {\n",
              "      display:flex;\n",
              "      flex-wrap:wrap;\n",
              "      gap: 12px;\n",
              "    }\n",
              "\n",
              "    .colab-df-convert {\n",
              "      background-color: #E8F0FE;\n",
              "      border: none;\n",
              "      border-radius: 50%;\n",
              "      cursor: pointer;\n",
              "      display: none;\n",
              "      fill: #1967D2;\n",
              "      height: 32px;\n",
              "      padding: 0 0 0 0;\n",
              "      width: 32px;\n",
              "    }\n",
              "\n",
              "    .colab-df-convert:hover {\n",
              "      background-color: #E2EBFA;\n",
              "      box-shadow: 0px 1px 2px rgba(60, 64, 67, 0.3), 0px 1px 3px 1px rgba(60, 64, 67, 0.15);\n",
              "      fill: #174EA6;\n",
              "    }\n",
              "\n",
              "    [theme=dark] .colab-df-convert {\n",
              "      background-color: #3B4455;\n",
              "      fill: #D2E3FC;\n",
              "    }\n",
              "\n",
              "    [theme=dark] .colab-df-convert:hover {\n",
              "      background-color: #434B5C;\n",
              "      box-shadow: 0px 1px 3px 1px rgba(0, 0, 0, 0.15);\n",
              "      filter: drop-shadow(0px 1px 2px rgba(0, 0, 0, 0.3));\n",
              "      fill: #FFFFFF;\n",
              "    }\n",
              "  </style>\n",
              "\n",
              "      <script>\n",
              "        const buttonEl =\n",
              "          document.querySelector('#df-bf1f4a1d-03f3-43fa-8102-9465fab75df8 button.colab-df-convert');\n",
              "        buttonEl.style.display =\n",
              "          google.colab.kernel.accessAllowed ? 'block' : 'none';\n",
              "\n",
              "        async function convertToInteractive(key) {\n",
              "          const element = document.querySelector('#df-bf1f4a1d-03f3-43fa-8102-9465fab75df8');\n",
              "          const dataTable =\n",
              "            await google.colab.kernel.invokeFunction('convertToInteractive',\n",
              "                                                     [key], {});\n",
              "          if (!dataTable) return;\n",
              "\n",
              "          const docLinkHtml = 'Like what you see? Visit the ' +\n",
              "            '<a target=\"_blank\" href=https://colab.research.google.com/notebooks/data_table.ipynb>data table notebook</a>'\n",
              "            + ' to learn more about interactive tables.';\n",
              "          element.innerHTML = '';\n",
              "          dataTable['output_type'] = 'display_data';\n",
              "          await google.colab.output.renderOutput(dataTable, element);\n",
              "          const docLink = document.createElement('div');\n",
              "          docLink.innerHTML = docLinkHtml;\n",
              "          element.appendChild(docLink);\n",
              "        }\n",
              "      </script>\n",
              "    </div>\n",
              "  </div>\n",
              "  "
            ]
          },
          "metadata": {},
          "execution_count": 18
        }
      ],
      "source": [
        "#Let's keep only the columns that we're going to use\n",
        "test = test[['text','sentiment']]\n",
        "test"
      ]
    },
    {
      "cell_type": "code",
      "execution_count": null,
      "metadata": {
        "execution": {
          "iopub.execute_input": "2020-10-06T21:19:42.060070Z",
          "iopub.status.busy": "2020-10-06T21:19:42.059141Z",
          "iopub.status.idle": "2020-10-06T21:19:42.064587Z",
          "shell.execute_reply": "2020-10-06T21:19:42.064115Z"
        },
        "papermill": {
          "duration": 0.047577,
          "end_time": "2020-10-06T21:19:42.064691",
          "exception": false,
          "start_time": "2020-10-06T21:19:42.017114",
          "status": "completed"
        },
        "tags": [],
        "colab": {
          "base_uri": "https://localhost:8080/"
        },
        "outputId": "43189cc2-fb49-48ac-f76e-34cc3b227985",
        "id": "cnpUNHLdil-h"
      },
      "outputs": [
        {
          "output_type": "execute_result",
          "data": {
            "text/plain": [
              "0"
            ]
          },
          "metadata": {},
          "execution_count": 19
        }
      ],
      "source": [
        "#Is there any null value?\n",
        "test[\"text\"].isnull().sum()"
      ]
    },
    {
      "cell_type": "markdown",
      "metadata": {
        "papermill": {
          "duration": 0.035753,
          "end_time": "2020-10-06T21:19:42.572975",
          "exception": false,
          "start_time": "2020-10-06T21:19:42.537222",
          "status": "completed"
        },
        "tags": [],
        "id": "FBPwEpGW3i-H"
      },
      "source": [
        "### The next steps about data cleaning will be:\n",
        "\n",
        "* Remove URLs from the tweets\n",
        "* Tokenize text\n",
        "* Remove emails\n",
        "* Remove new lines characters\n",
        "* Remove distracting single quotes\n",
        "* Remove all punctuation signs\n",
        "* Lowercase all text\n",
        "* Detokenize text\n",
        "* Convert list of texts to Numpy array"
      ]
    },
    {
      "cell_type": "code",
      "execution_count": null,
      "metadata": {
        "execution": {
          "iopub.execute_input": "2020-10-06T21:19:42.651469Z",
          "iopub.status.busy": "2020-10-06T21:19:42.650518Z",
          "iopub.status.idle": "2020-10-06T21:19:42.653091Z",
          "shell.execute_reply": "2020-10-06T21:19:42.653513Z"
        },
        "papermill": {
          "duration": 0.044735,
          "end_time": "2020-10-06T21:19:42.653654",
          "exception": false,
          "start_time": "2020-10-06T21:19:42.608919",
          "status": "completed"
        },
        "tags": [],
        "id": "7yOHzCXZ3i-I"
      },
      "outputs": [],
      "source": [
        "def depure_data(data):\n",
        "    \n",
        "    #Removing URLs with a regular expression\n",
        "    url_pattern = re.compile(r'https?://\\S+|www\\.\\S+')\n",
        "    data = url_pattern.sub(r'', data)\n",
        "\n",
        "    # Remove Emails\n",
        "    data = re.sub('\\S*@\\S*\\s?', '', data)\n",
        "\n",
        "    # Remove new line characters\n",
        "    data = re.sub('\\s+', ' ', data)\n",
        "\n",
        "    # Remove distracting single quotes\n",
        "    data = re.sub(\"\\'\", \"\", data)\n",
        "        \n",
        "    return data"
      ]
    },
    {
      "cell_type": "code",
      "execution_count": null,
      "metadata": {
        "execution": {
          "iopub.execute_input": "2020-10-06T21:19:42.742866Z",
          "iopub.status.busy": "2020-10-06T21:19:42.737799Z",
          "iopub.status.idle": "2020-10-06T21:19:43.099846Z",
          "shell.execute_reply": "2020-10-06T21:19:43.100317Z"
        },
        "papermill": {
          "duration": 0.411166,
          "end_time": "2020-10-06T21:19:43.100446",
          "exception": false,
          "start_time": "2020-10-06T21:19:42.689280",
          "status": "completed"
        },
        "tags": [],
        "colab": {
          "base_uri": "https://localhost:8080/"
        },
        "id": "3B5zaBvw3i-K",
        "outputId": "e87e8efa-e052-4e4d-e147-d50ae9717412"
      },
      "outputs": [
        {
          "output_type": "execute_result",
          "data": {
            "text/plain": [
              "['Bitcoin is unfolding like the dot com crash just 15 times faster BTC USD BITCOIN',\n",
              " 'XEM Price is 0 00003330 0 00000044 BTC 0 286412 0 00641 USD Market rank is 13 nem bitcoin blockchain',\n",
              " 'RT Bitcoin daily snapshot 24hr CHANGE 6 4 OUTLOOK Cautiously bearish Bear doji reversal favors sell off But ve',\n",
              " 'Dutch Court Finds Bitcoin A Legitimate Transferable Value XBT BTC Bitcoin',\n",
              " 'BTC STEEM AskRate 0 00024274 Bittrex STEEM STEEM STEEM altcoin altcoins bitcoin FOLLOW for PROFIT']"
            ]
          },
          "metadata": {},
          "execution_count": 21
        }
      ],
      "source": [
        "temp = []\n",
        "#Splitting pd.Series to list\n",
        "data_to_list = train['text'].values.tolist()\n",
        "for i in range(len(data_to_list)):\n",
        "    temp.append(depure_data(data_to_list[i]))\n",
        "list(temp[:5])"
      ]
    },
    {
      "cell_type": "code",
      "source": [
        "temp2 = []\n",
        "#Splitting pd.Series to list\n",
        "data_to_list = test['text'].values.tolist()\n",
        "for i in range(len(data_to_list)):\n",
        "    temp2.append(depure_data(data_to_list[i]))\n",
        "list(temp2[:5])"
      ],
      "metadata": {
        "colab": {
          "base_uri": "https://localhost:8080/"
        },
        "id": "_iv3lEOVje_n",
        "outputId": "400e5821-26d8-4846-a8a0-ca62f3bd30a6"
      },
      "execution_count": null,
      "outputs": [
        {
          "output_type": "execute_result",
          "data": {
            "text/plain": [
              "['RT Bitcoin Price Falls As Markets React To FALSE Japan Binance Threat UPDATED',\n",
              " 'RT 1 terabyte block capacity is coming to Bitcoin Cash and can work while maintaining enough decentralization Joahannes',\n",
              " 'bitcoin Is Record Business Optimism A Contrarian Indicator',\n",
              " 'If you want private transactions use a privacy coin Bitcoin doesn t need to be the worlds next payment sy',\n",
              " 'As Novo Expects Bitcoin To Kill Other Crypto Assets Altseason StillExpected']"
            ]
          },
          "metadata": {},
          "execution_count": 34
        }
      ]
    },
    {
      "cell_type": "code",
      "execution_count": null,
      "metadata": {
        "execution": {
          "iopub.execute_input": "2020-10-06T21:19:43.217126Z",
          "iopub.status.busy": "2020-10-06T21:19:43.201831Z",
          "iopub.status.idle": "2020-10-06T21:19:44.301157Z",
          "shell.execute_reply": "2020-10-06T21:19:44.300459Z"
        },
        "papermill": {
          "duration": 1.161143,
          "end_time": "2020-10-06T21:19:44.301321",
          "exception": false,
          "start_time": "2020-10-06T21:19:43.140178",
          "status": "completed"
        },
        "tags": [],
        "colab": {
          "base_uri": "https://localhost:8080/"
        },
        "id": "ZO_hSUut3i-N",
        "outputId": "d3a5d02f-ee56-4f62-c433-54ba5a790ab5"
      },
      "outputs": [
        {
          "output_type": "stream",
          "name": "stdout",
          "text": [
            "[['bitcoin', 'is', 'unfolding', 'like', 'the', 'dot', 'com', 'crash', 'just', 'times', 'faster', 'btc', 'usd', 'bitcoin'], ['xem', 'price', 'is', 'btc', 'usd', 'market', 'rank', 'is', 'nem', 'bitcoin', 'blockchain'], ['rt', 'bitcoin', 'daily', 'snapshot', 'hr', 'change', 'outlook', 'cautiously', 'bearish', 'bear', 'doji', 'reversal', 'favors', 'sell', 'off', 'but', 've'], ['dutch', 'court', 'finds', 'bitcoin', 'legitimate', 'transferable', 'value', 'xbt', 'btc', 'bitcoin'], ['btc', 'steem', 'askrate', 'bittrex', 'steem', 'steem', 'steem', 'altcoin', 'altcoins', 'bitcoin', 'follow', 'for', 'profit'], ['this', 'is', 'our', 'free', 'bitcoin', 'miner', 'pays', 'at', 'sathoshi'], ['bitcoin', 'basics', 'cryptocurrency', 'blockchain', 'and', 'the', 'new', 'digital', 'economy', 'digital', 'currency', 'cryptocurre', 'blockchain'], ['block', 'size', 'kb', 'fee', 'kb', 'price', 'bitcoin', 'btc', 'btc', 'xbt', 'xbt'], ['the', 'latest', 'the', 'aquilante', 'daily', 'thanks', 'to', 'cybersecurity', 'bitcoin'], ['rt', 'were', 'at', 'conference', 'in', 'tokyo', 'japan', 'everyone', 'here', 'wants', 'to', 'make', 'bitcoin', 'cash', 'the', 'best', 'money', 'the', 'world']]\n"
          ]
        }
      ],
      "source": [
        "def sent_to_words(sentences):\n",
        "    for sentence in sentences:\n",
        "        yield(gensim.utils.simple_preprocess(str(sentence), deacc=True))  # deacc=True removes punctuations\n",
        "        \n",
        "\n",
        "data_words = list(sent_to_words(temp))\n",
        "\n",
        "print(data_words[:10])"
      ]
    },
    {
      "cell_type": "code",
      "source": [
        "test_words = list(sent_to_words(temp2))\n",
        "\n",
        "print(test_words[:10])"
      ],
      "metadata": {
        "colab": {
          "base_uri": "https://localhost:8080/"
        },
        "id": "1oLcT6UBjsaR",
        "outputId": "1a64fb6d-b0ba-4d0f-ef4b-50535f16e7c4"
      },
      "execution_count": null,
      "outputs": [
        {
          "output_type": "stream",
          "name": "stdout",
          "text": [
            "[['rt', 'bitcoin', 'price', 'falls', 'as', 'markets', 'react', 'to', 'false', 'japan', 'binance', 'threat', 'updated'], ['rt', 'terabyte', 'block', 'capacity', 'is', 'coming', 'to', 'bitcoin', 'cash', 'and', 'can', 'work', 'while', 'maintaining', 'enough', 'joahannes'], ['bitcoin', 'is', 'record', 'business', 'optimism', 'contrarian', 'indicator'], ['if', 'you', 'want', 'private', 'transactions', 'use', 'privacy', 'coin', 'bitcoin', 'doesn', 'need', 'to', 'be', 'the', 'worlds', 'next', 'payment', 'sy'], ['as', 'novo', 'expects', 'bitcoin', 'to', 'kill', 'other', 'crypto', 'assets', 'altseason', 'stillexpected'], ['rt', 'free', 'bitcoin', 'litecoin', 'and', 'many', 'other', 'coin', 'mine', 'in', 'easy', 'way'], ['your', 'honesty', 'is', 'superb', 'we', 'would', 'have', 'liked', 'to', 'have', 'been', 'mooning', 'but', 'the', 'reality', 'is', 'years', 'jeez', 'people', 'bitcoin', 'took', 'years', 'lets', 'just', 'relax', 'we', 'are', 'onto', 'winner'], ['the', 'real', 'stark', 'industries', 'nashville', 'startups', 'netherlands', 'madison', 'neworleans', 'seattle', 'brazil', 'indianapolis', 'tokyo', 'detroit', 'pittsburgh', 'paris', 'denver', 'abraaj', 'pittsburgh', 'startup', 'ethereum', 'bitcoin', 'nashville', 'startup', 'eth'], ['block', 'size', 'kb', 'fee', 'kb', 'price', 'btc', 'bitcoincash', 'bch', 'bch', 'bcc', 'bcc'], ['the', 'blockchain', 'platform', 'that', 'makes', 'irritating', 'pop', 'ups', 'obsolete', 'bitcoin']]\n"
          ]
        }
      ]
    },
    {
      "cell_type": "code",
      "execution_count": null,
      "metadata": {
        "execution": {
          "iopub.execute_input": "2020-10-06T21:19:44.381205Z",
          "iopub.status.busy": "2020-10-06T21:19:44.380312Z",
          "iopub.status.idle": "2020-10-06T21:19:44.384281Z",
          "shell.execute_reply": "2020-10-06T21:19:44.383753Z"
        },
        "papermill": {
          "duration": 0.045481,
          "end_time": "2020-10-06T21:19:44.384376",
          "exception": false,
          "start_time": "2020-10-06T21:19:44.338895",
          "status": "completed"
        },
        "tags": [],
        "colab": {
          "base_uri": "https://localhost:8080/"
        },
        "id": "pYlgNGhr3i-P",
        "outputId": "af0920dd-4d1b-4650-c252-813b02d32969"
      },
      "outputs": [
        {
          "output_type": "execute_result",
          "data": {
            "text/plain": [
              "20082"
            ]
          },
          "metadata": {},
          "execution_count": 23
        }
      ],
      "source": [
        "len(data_words)"
      ]
    },
    {
      "cell_type": "code",
      "source": [
        "len(test_words)"
      ],
      "metadata": {
        "colab": {
          "base_uri": "https://localhost:8080/"
        },
        "id": "2-lLz2xsjx3y",
        "outputId": "12eb2a5d-47ea-4bc2-e9cd-cd1a18f8e50f"
      },
      "execution_count": null,
      "outputs": [
        {
          "output_type": "execute_result",
          "data": {
            "text/plain": [
              "5021"
            ]
          },
          "metadata": {},
          "execution_count": 36
        }
      ]
    },
    {
      "cell_type": "code",
      "execution_count": null,
      "metadata": {
        "execution": {
          "iopub.execute_input": "2020-10-06T21:19:44.465126Z",
          "iopub.status.busy": "2020-10-06T21:19:44.464351Z",
          "iopub.status.idle": "2020-10-06T21:19:44.467376Z",
          "shell.execute_reply": "2020-10-06T21:19:44.466918Z"
        },
        "papermill": {
          "duration": 0.045096,
          "end_time": "2020-10-06T21:19:44.467470",
          "exception": false,
          "start_time": "2020-10-06T21:19:44.422374",
          "status": "completed"
        },
        "tags": [],
        "id": "jT4Ay39w3i-S"
      },
      "outputs": [],
      "source": [
        "def detokenize(text):\n",
        "    return TreebankWordDetokenizer().detokenize(text)"
      ]
    },
    {
      "cell_type": "code",
      "execution_count": null,
      "metadata": {
        "execution": {
          "iopub.execute_input": "2020-10-06T21:19:44.561022Z",
          "iopub.status.busy": "2020-10-06T21:19:44.550825Z",
          "iopub.status.idle": "2020-10-06T21:19:47.831584Z",
          "shell.execute_reply": "2020-10-06T21:19:47.832620Z"
        },
        "papermill": {
          "duration": 3.326682,
          "end_time": "2020-10-06T21:19:47.832800",
          "exception": false,
          "start_time": "2020-10-06T21:19:44.506118",
          "status": "completed"
        },
        "tags": [],
        "colab": {
          "base_uri": "https://localhost:8080/"
        },
        "id": "ZcdYyxT_3i-T",
        "outputId": "cb70ca38-c62b-4891-9b51-0d57b2862811"
      },
      "outputs": [
        {
          "output_type": "stream",
          "name": "stdout",
          "text": [
            "['bitcoin is unfolding like the dot com crash just times faster btc usd bitcoin', 'xem price is btc usd market rank is nem bitcoin blockchain', 'rt bitcoin daily snapshot hr change outlook cautiously bearish bear doji reversal favors sell off but ve', 'dutch court finds bitcoin legitimate transferable value xbt btc bitcoin', 'btc steem askrate bittrex steem steem steem altcoin altcoins bitcoin follow for profit']\n"
          ]
        }
      ],
      "source": [
        "data = []\n",
        "for i in range(len(data_words)):\n",
        "    data.append(detokenize(data_words[i]))\n",
        "print(data[:5])"
      ]
    },
    {
      "cell_type": "code",
      "source": [
        "data2 = []\n",
        "for i in range(len(test_words)):\n",
        "    data2.append(detokenize(test_words[i]))\n",
        "print(data2[:5])"
      ],
      "metadata": {
        "colab": {
          "base_uri": "https://localhost:8080/"
        },
        "id": "bKh3t6Pzj2sb",
        "outputId": "c8af91a0-472e-4497-e047-9d5a14958aee"
      },
      "execution_count": null,
      "outputs": [
        {
          "output_type": "stream",
          "name": "stdout",
          "text": [
            "['rt bitcoin price falls as markets react to false japan binance threat updated', 'rt terabyte block capacity is coming to bitcoin cash and can work while maintaining enough joahannes', 'bitcoin is record business optimism contrarian indicator', 'if you want private transactions use privacy coin bitcoin doesn need to be the worlds next payment sy', 'as novo expects bitcoin to kill other crypto assets altseason stillexpected']\n"
          ]
        }
      ]
    },
    {
      "cell_type": "code",
      "execution_count": null,
      "metadata": {
        "execution": {
          "iopub.execute_input": "2020-10-06T21:19:47.936780Z",
          "iopub.status.busy": "2020-10-06T21:19:47.934885Z",
          "iopub.status.idle": "2020-10-06T21:19:47.937552Z",
          "shell.execute_reply": "2020-10-06T21:19:47.938090Z"
        },
        "papermill": {
          "duration": 0.06542,
          "end_time": "2020-10-06T21:19:47.938217",
          "exception": false,
          "start_time": "2020-10-06T21:19:47.872797",
          "status": "completed"
        },
        "tags": [],
        "id": "rU48hDt03i-W"
      },
      "outputs": [],
      "source": [
        "data = np.array(data)"
      ]
    },
    {
      "cell_type": "code",
      "source": [
        "data2 = np.array(data2)"
      ],
      "metadata": {
        "id": "qa6xSaZ8kA09"
      },
      "execution_count": null,
      "outputs": []
    },
    {
      "cell_type": "markdown",
      "metadata": {
        "papermill": {
          "duration": 0.037183,
          "end_time": "2020-10-06T21:19:48.013459",
          "exception": false,
          "start_time": "2020-10-06T21:19:47.976276",
          "status": "completed"
        },
        "tags": [],
        "id": "FHt7NqTG3i-Y"
      },
      "source": [
        "# Label encoding\n",
        "\n",
        "As the dataset is categorical, we need to convert the sentiment labels from Neutral, Negative and Positive to a float type that our model can understand. To achieve this task, we'll implement the to_categorical method from Keras."
      ]
    },
    {
      "cell_type": "code",
      "execution_count": null,
      "metadata": {
        "execution": {
          "iopub.execute_input": "2020-10-06T21:19:48.122784Z",
          "iopub.status.busy": "2020-10-06T21:19:48.121518Z",
          "iopub.status.idle": "2020-10-06T21:19:48.125042Z",
          "shell.execute_reply": "2020-10-06T21:19:48.125481Z"
        },
        "papermill": {
          "duration": 0.074223,
          "end_time": "2020-10-06T21:19:48.125627",
          "exception": false,
          "start_time": "2020-10-06T21:19:48.051404",
          "status": "completed"
        },
        "tags": [],
        "id": "MuyGyeRH3i-Z"
      },
      "outputs": [],
      "source": [
        "labels = np.array(train['sentiment'])\n",
        "y = []\n",
        "\n",
        "\n",
        "for i in range(len(labels)):\n",
        "    if labels[i] == \"Neutral\":\n",
        "        y.append(0)\n",
        "    if labels[i] == \"Negative\":\n",
        "        y.append(1)\n",
        "    if labels[i] == \"Positive\":\n",
        "        y.append(2)\n",
        "\n",
        "\n",
        "\"\"\"\n",
        "\n",
        "for i in range(len(labels)):\n",
        "    if labels[i] == 0.0:\n",
        "        y.append(0)\n",
        "    if labels[i] == -1.0:\n",
        "        y.append(1)\n",
        "    if labels[i] == 1.0:\n",
        "        y.append(2)\n",
        "\n",
        "\"\"\"\n",
        "y = np.array(y)\n",
        "labels = tf.keras.utils.to_categorical(y, 3, dtype=\"float32\")\n",
        "del y\n"
      ]
    },
    {
      "cell_type": "code",
      "source": [
        "labels2 = np.array(test['sentiment'])\n",
        "y = []\n",
        "\n",
        "\n",
        "for i in range(len(labels2)):\n",
        "    if labels2[i] == \"Neutral\":\n",
        "        y.append(0)\n",
        "    if labels2[i] == \"Negative\":\n",
        "        y.append(1)\n",
        "    if labels2[i] == \"Positive\":\n",
        "        y.append(2)\n",
        "\n",
        "\n",
        "\"\"\"\n",
        "\n",
        "for i in range(len(labels)):\n",
        "    if labels[i] == 0.0:\n",
        "        y.append(0)\n",
        "    if labels[i] == -1.0:\n",
        "        y.append(1)\n",
        "    if labels[i] == 1.0:\n",
        "        y.append(2)\n",
        "\n",
        "\"\"\"\n",
        "y = np.array(y)\n",
        "labels2 = tf.keras.utils.to_categorical(y, 3, dtype=\"float32\")\n",
        "del y\n"
      ],
      "metadata": {
        "id": "Os48PH9hkKog"
      },
      "execution_count": null,
      "outputs": []
    },
    {
      "cell_type": "code",
      "execution_count": null,
      "metadata": {
        "execution": {
          "iopub.execute_input": "2020-10-06T21:19:48.206863Z",
          "iopub.status.busy": "2020-10-06T21:19:48.206068Z",
          "iopub.status.idle": "2020-10-06T21:19:48.209920Z",
          "shell.execute_reply": "2020-10-06T21:19:48.209425Z"
        },
        "papermill": {
          "duration": 0.046647,
          "end_time": "2020-10-06T21:19:48.210021",
          "exception": false,
          "start_time": "2020-10-06T21:19:48.163374",
          "status": "completed"
        },
        "tags": [],
        "colab": {
          "base_uri": "https://localhost:8080/"
        },
        "id": "QnIRXxpU3i-b",
        "outputId": "26c9e1d5-b21a-4bbc-b13b-de5514a3413e"
      },
      "outputs": [
        {
          "output_type": "execute_result",
          "data": {
            "text/plain": [
              "20082"
            ]
          },
          "metadata": {},
          "execution_count": 28
        }
      ],
      "source": [
        "len(labels)"
      ]
    },
    {
      "cell_type": "code",
      "source": [
        "len(labels2)"
      ],
      "metadata": {
        "colab": {
          "base_uri": "https://localhost:8080/"
        },
        "id": "v2T-xVl7kWWX",
        "outputId": "1f98c4be-23bb-4501-e771-a260f3d641f2"
      },
      "execution_count": null,
      "outputs": [
        {
          "output_type": "execute_result",
          "data": {
            "text/plain": [
              "5021"
            ]
          },
          "metadata": {},
          "execution_count": 40
        }
      ]
    },
    {
      "cell_type": "markdown",
      "metadata": {
        "papermill": {
          "duration": 0.038298,
          "end_time": "2020-10-06T21:19:48.287312",
          "exception": false,
          "start_time": "2020-10-06T21:19:48.249014",
          "status": "completed"
        },
        "tags": [],
        "id": "RsXTXu1x3i-c"
      },
      "source": [
        "# Data sequencing and splitting\n",
        "\n",
        "We'll implement the Keras tokenizer as well as its pad_sequences method to transform our text data into 3D float data, otherwise our neural networks won't be able to be trained on it."
      ]
    },
    {
      "cell_type": "code",
      "execution_count": null,
      "metadata": {
        "execution": {
          "iopub.execute_input": "2020-10-06T21:19:48.373707Z",
          "iopub.status.busy": "2020-10-06T21:19:48.372469Z",
          "iopub.status.idle": "2020-10-06T21:19:49.386819Z",
          "shell.execute_reply": "2020-10-06T21:19:49.387562Z"
        },
        "papermill": {
          "duration": 1.062302,
          "end_time": "2020-10-06T21:19:49.387739",
          "exception": false,
          "start_time": "2020-10-06T21:19:48.325437",
          "status": "completed"
        },
        "tags": [],
        "colab": {
          "base_uri": "https://localhost:8080/"
        },
        "id": "owX2LyZx3i-d",
        "outputId": "64b66c25-9c7a-4e86-8a5b-fddad3585abb"
      },
      "outputs": [
        {
          "output_type": "stream",
          "name": "stdout",
          "text": [
            "[[   0    0    0 ...    4   42    1]\n",
            " [   0    0    0 ...  582    1   10]\n",
            " [   0    0    0 ...  239   70  360]\n",
            " ...\n",
            " [   0    0    0 ... 2494 2660 2351]\n",
            " [   0    0    0 ... 3522  234 2904]\n",
            " [   0    0    0 ...  582    1   10]]\n"
          ]
        }
      ],
      "source": [
        "from keras.models import Sequential\n",
        "from keras import layers\n",
        "from keras.optimizers import RMSprop,Adam\n",
        "from keras.preprocessing.text import Tokenizer\n",
        "from tensorflow.keras.preprocessing.sequence import pad_sequences\n",
        "from keras import regularizers\n",
        "from keras import backend as K\n",
        "from keras.callbacks import ModelCheckpoint\n",
        "\n",
        "max_words = 5000\n",
        "max_len = 200\n",
        "\n",
        "tokenizer = Tokenizer(num_words=max_words)\n",
        "tokenizer.fit_on_texts(data)\n",
        "sequences = tokenizer.texts_to_sequences(data)\n",
        "tweets = pad_sequences(sequences, maxlen=max_len)\n",
        "print(tweets)"
      ]
    },
    {
      "cell_type": "code",
      "source": [
        "tokenizer.fit_on_texts(data2)\n",
        "sequences = tokenizer.texts_to_sequences(data2)\n",
        "t_tweets = pad_sequences(sequences, maxlen=max_len)\n",
        "print(t_tweets)"
      ],
      "metadata": {
        "colab": {
          "base_uri": "https://localhost:8080/"
        },
        "id": "oMrEfmA8kcIZ",
        "outputId": "47a031e4-9b41-48cc-92cd-27f334387456"
      },
      "execution_count": null,
      "outputs": [
        {
          "output_type": "stream",
          "name": "stdout",
          "text": [
            "[[   0    0    0 ...   71 1337 1198]\n",
            " [   0    0    0 ...  300  328  826]\n",
            " [   0    0    0 ... 1877  201 2659]\n",
            " ...\n",
            " [   0    0    0 ...  656   77    1]\n",
            " [   0    0    0 ... 1032   27  419]\n",
            " [   0    0    0 ...  416   74  118]]\n"
          ]
        }
      ]
    },
    {
      "cell_type": "code",
      "execution_count": null,
      "metadata": {
        "execution": {
          "iopub.execute_input": "2020-10-06T21:19:49.478734Z",
          "iopub.status.busy": "2020-10-06T21:19:49.477823Z",
          "iopub.status.idle": "2020-10-06T21:19:49.482217Z",
          "shell.execute_reply": "2020-10-06T21:19:49.483329Z"
        },
        "papermill": {
          "duration": 0.054099,
          "end_time": "2020-10-06T21:19:49.483550",
          "exception": false,
          "start_time": "2020-10-06T21:19:49.429451",
          "status": "completed"
        },
        "tags": [],
        "colab": {
          "base_uri": "https://localhost:8080/"
        },
        "id": "4vt_YEm-3i-e",
        "outputId": "f0e43dac-6cb5-491b-9c33-86ba94acc0a6"
      },
      "outputs": [
        {
          "output_type": "stream",
          "name": "stdout",
          "text": [
            "[[1. 0. 0.]\n",
            " [0. 1. 0.]\n",
            " [1. 0. 0.]\n",
            " ...\n",
            " [1. 0. 0.]\n",
            " [0. 1. 0.]\n",
            " [0. 1. 0.]]\n"
          ]
        }
      ],
      "source": [
        "print(labels)"
      ]
    },
    {
      "cell_type": "code",
      "execution_count": null,
      "metadata": {
        "execution": {
          "iopub.execute_input": "2020-10-06T21:19:49.585814Z",
          "iopub.status.busy": "2020-10-06T21:19:49.584576Z",
          "iopub.status.idle": "2020-10-06T21:19:49.600360Z",
          "shell.execute_reply": "2020-10-06T21:19:49.601002Z"
        },
        "papermill": {
          "duration": 0.069178,
          "end_time": "2020-10-06T21:19:49.601136",
          "exception": false,
          "start_time": "2020-10-06T21:19:49.531958",
          "status": "completed"
        },
        "tags": [],
        "colab": {
          "base_uri": "https://localhost:8080/"
        },
        "id": "lV2IwsrC3i-f",
        "outputId": "d92a1021-aa51-4201-93df-af4a8927494d"
      },
      "outputs": [
        {
          "output_type": "stream",
          "name": "stdout",
          "text": [
            "17069 17069 3013 3013\n"
          ]
        }
      ],
      "source": [
        "#Splitting the data\n",
        "X_train, X_val, y_train, y_val = train_test_split(tweets,labels, test_size = 0.15, random_state=42)\n",
        "print (len(X_train),len(y_train), len(X_val), len(y_val))"
      ]
    },
    {
      "cell_type": "code",
      "source": [
        "#Splitting the data (validation and testing)\n",
        "X_test, y_test = t_tweets, labels2\n",
        "print (len(X_test), len(y_test))"
      ],
      "metadata": {
        "colab": {
          "base_uri": "https://localhost:8080/"
        },
        "id": "VWcfCn7ikv6_",
        "outputId": "ce82be91-4cce-4cc1-f7d9-41b4e78aa68e"
      },
      "execution_count": null,
      "outputs": [
        {
          "output_type": "stream",
          "name": "stdout",
          "text": [
            "5021 5021\n"
          ]
        }
      ]
    },
    {
      "cell_type": "markdown",
      "metadata": {
        "papermill": {
          "duration": 0.044723,
          "end_time": "2020-10-06T21:19:49.690338",
          "exception": false,
          "start_time": "2020-10-06T21:19:49.645615",
          "status": "completed"
        },
        "tags": [],
        "id": "gy5FqBQ73i-h"
      },
      "source": [
        "# Model building\n",
        "\n",
        "Alright, in the next cells I'll guide you through the process of building 3 Recurrent Neural Networks. I'll implement sequential models from the Keras API to achieve this task. Essentially, I'll start with a single layer **LSTM** network which is known by achieving good results in NLP tasks when the dataset is relatively small (I could have started with a SimpleRNN which is even simpler, but to be honest it's actually not deployed in production environments because it is too simple - however I'll leave it commented in case you want to know it's built). The next one will be a Bidirectional LSTM model, a more complex one and this particular one is known to achieve great metrics when talking about text classification. To go beyond the classic NLP approach, finally we'll implement a very unusual model: a Convolutional 1D network, known as well by delivering good metrics when talking about NLP. If everything goes ok, we should get the best results with the BidRNN, let's see what happens.\n",
        "\n",
        "Let's get hands on:"
      ]
    },
    {
      "cell_type": "markdown",
      "metadata": {
        "papermill": {
          "duration": 0.045363,
          "end_time": "2020-10-06T21:19:49.779234",
          "exception": false,
          "start_time": "2020-10-06T21:19:49.733871",
          "status": "completed"
        },
        "tags": [],
        "id": "YTv2477S3i-i"
      },
      "source": [
        "## SimpleRNN model (Bonus)"
      ]
    },
    {
      "cell_type": "code",
      "execution_count": null,
      "metadata": {
        "execution": {
          "iopub.execute_input": "2020-10-06T21:19:49.876465Z",
          "iopub.status.busy": "2020-10-06T21:19:49.875466Z",
          "iopub.status.idle": "2020-10-06T21:19:49.878789Z",
          "shell.execute_reply": "2020-10-06T21:19:49.878237Z"
        },
        "papermill": {
          "duration": 0.054472,
          "end_time": "2020-10-06T21:19:49.878902",
          "exception": false,
          "start_time": "2020-10-06T21:19:49.824430",
          "status": "completed"
        },
        "tags": [],
        "id": "hs68evm13i-k"
      },
      "outputs": [],
      "source": [
        "#model0 = Sequential()\n",
        "#model0.add(layers.Embedding(max_words, 15))\n",
        "#model0.add(layers.SimpleRNN(15))\n",
        "#model0.add(layers.Dense(3,activation='softmax'))\n",
        "\n",
        "\n",
        "#model0.compile(optimizer='rmsprop',loss='categorical_crossentropy', metrics=['accuracy'])\n",
        "#Implementing model checkpoins to save the best metric and do not lose it on training.\n",
        "#checkpoint0 = ModelCheckpoint(\"best_model0.hdf5\", monitor='val_accuracy', verbose=1,save_best_only=True, mode='auto', period=1,save_weights_only=False)\n",
        "#history = model0.fit(X_train, y_train, epochs=5,validation_data=(X_test, y_test),callbacks=[checkpoint0])"
      ]
    },
    {
      "cell_type": "markdown",
      "metadata": {
        "papermill": {
          "duration": 0.044937,
          "end_time": "2020-10-06T21:19:49.968644",
          "exception": false,
          "start_time": "2020-10-06T21:19:49.923707",
          "status": "completed"
        },
        "tags": [],
        "id": "fD25FyMM3i-l"
      },
      "source": [
        "## Single LSTM layer model"
      ]
    },
    {
      "cell_type": "code",
      "execution_count": null,
      "metadata": {
        "execution": {
          "iopub.execute_input": "2020-10-06T21:19:50.068632Z",
          "iopub.status.busy": "2020-10-06T21:19:50.067909Z",
          "iopub.status.idle": "2020-10-06T21:30:02.803265Z",
          "shell.execute_reply": "2020-10-06T21:30:02.805203Z"
        },
        "papermill": {
          "duration": 612.793273,
          "end_time": "2020-10-06T21:30:02.806611",
          "exception": false,
          "start_time": "2020-10-06T21:19:50.013338",
          "status": "completed"
        },
        "tags": [],
        "colab": {
          "base_uri": "https://localhost:8080/"
        },
        "id": "jq7oV4L43i-n",
        "outputId": "51466903-2e32-45a9-d1be-d1bb5f44ed13"
      },
      "outputs": [
        {
          "output_type": "stream",
          "name": "stdout",
          "text": [
            "Epoch 1/10\n",
            "534/534 [==============================] - ETA: 0s - loss: 0.9068 - accuracy: 0.5787\n",
            "Epoch 1: val_accuracy improved from -inf to 0.70295, saving model to Model_LSTM1.hdf5\n",
            "534/534 [==============================] - 59s 107ms/step - loss: 0.9068 - accuracy: 0.5787 - val_loss: 0.7218 - val_accuracy: 0.7030\n",
            "Epoch 2/10\n",
            "534/534 [==============================] - ETA: 0s - loss: 0.6250 - accuracy: 0.7460\n",
            "Epoch 2: val_accuracy improved from 0.70295 to 0.78493, saving model to Model_LSTM1.hdf5\n",
            "534/534 [==============================] - 49s 93ms/step - loss: 0.6250 - accuracy: 0.7460 - val_loss: 0.5453 - val_accuracy: 0.7849\n",
            "Epoch 3/10\n",
            "534/534 [==============================] - ETA: 0s - loss: 0.5057 - accuracy: 0.8011\n",
            "Epoch 3: val_accuracy improved from 0.78493 to 0.81115, saving model to Model_LSTM1.hdf5\n",
            "534/534 [==============================] - 58s 108ms/step - loss: 0.5057 - accuracy: 0.8011 - val_loss: 0.4767 - val_accuracy: 0.8112\n",
            "Epoch 4/10\n",
            "534/534 [==============================] - ETA: 0s - loss: 0.4472 - accuracy: 0.8281\n",
            "Epoch 4: val_accuracy improved from 0.81115 to 0.82376, saving model to Model_LSTM1.hdf5\n",
            "534/534 [==============================] - 53s 100ms/step - loss: 0.4472 - accuracy: 0.8281 - val_loss: 0.4618 - val_accuracy: 0.8238\n",
            "Epoch 5/10\n",
            "534/534 [==============================] - ETA: 0s - loss: 0.4170 - accuracy: 0.8385\n",
            "Epoch 5: val_accuracy improved from 0.82376 to 0.82642, saving model to Model_LSTM1.hdf5\n",
            "534/534 [==============================] - 53s 100ms/step - loss: 0.4170 - accuracy: 0.8385 - val_loss: 0.4419 - val_accuracy: 0.8264\n",
            "Epoch 6/10\n",
            "534/534 [==============================] - ETA: 0s - loss: 0.4020 - accuracy: 0.8485\n",
            "Epoch 6: val_accuracy improved from 0.82642 to 0.83571, saving model to Model_LSTM1.hdf5\n",
            "534/534 [==============================] - 56s 104ms/step - loss: 0.4020 - accuracy: 0.8485 - val_loss: 0.4210 - val_accuracy: 0.8357\n",
            "Epoch 7/10\n",
            "534/534 [==============================] - ETA: 0s - loss: 0.3840 - accuracy: 0.8555\n",
            "Epoch 7: val_accuracy improved from 0.83571 to 0.83604, saving model to Model_LSTM1.hdf5\n",
            "534/534 [==============================] - 61s 114ms/step - loss: 0.3840 - accuracy: 0.8555 - val_loss: 0.4217 - val_accuracy: 0.8360\n",
            "Epoch 8/10\n",
            "534/534 [==============================] - ETA: 0s - loss: 0.3670 - accuracy: 0.8629\n",
            "Epoch 8: val_accuracy improved from 0.83604 to 0.84235, saving model to Model_LSTM1.hdf5\n",
            "534/534 [==============================] - 56s 104ms/step - loss: 0.3670 - accuracy: 0.8629 - val_loss: 0.4037 - val_accuracy: 0.8423\n",
            "Epoch 9/10\n",
            "534/534 [==============================] - ETA: 0s - loss: 0.3577 - accuracy: 0.8678\n",
            "Epoch 9: val_accuracy improved from 0.84235 to 0.84434, saving model to Model_LSTM1.hdf5\n",
            "534/534 [==============================] - 56s 105ms/step - loss: 0.3577 - accuracy: 0.8678 - val_loss: 0.4020 - val_accuracy: 0.8443\n",
            "Epoch 10/10\n",
            "534/534 [==============================] - ETA: 0s - loss: 0.3456 - accuracy: 0.8730\n",
            "Epoch 10: val_accuracy improved from 0.84434 to 0.84766, saving model to Model_LSTM1.hdf5\n",
            "534/534 [==============================] - 56s 104ms/step - loss: 0.3456 - accuracy: 0.8730 - val_loss: 0.4034 - val_accuracy: 0.8477\n"
          ]
        }
      ],
      "source": [
        "model1 = Sequential()\n",
        "model1.add(layers.Embedding(max_words, 20))\n",
        "model1.add(layers.LSTM(15,dropout=0.5))\n",
        "model1.add(layers.Dense(3,activation='softmax'))\n",
        "\n",
        "\n",
        "RMSprop(learning_rate=0.00003, name='rmsprop')\n",
        "model1.compile(optimizer='RMSprop', loss='categorical_crossentropy', metrics=['accuracy'])\n",
        "#Implementing model checkpoins to save the best metric and do not lose it on training.\n",
        "checkpoint1 = ModelCheckpoint(\"Model_LSTM1.hdf5\", monitor='val_accuracy', verbose=1,save_best_only=True, mode='auto', save_freq = 'epoch',save_weights_only=False)\n",
        "history = model1.fit(X_train, y_train, epochs=10,validation_data=(X_val, y_val),callbacks=[checkpoint1])"
      ]
    },
    {
      "cell_type": "code",
      "source": [
        "# plot accuracy (train vs val)\n",
        "plt.plot(history.history['accuracy'])\n",
        "plt.plot(history.history['val_accuracy'])\n",
        "plt.title('Training Vs Validation Accuracy')\n",
        "plt.ylabel('accuracy')\n",
        "plt.xlabel('epoch')\n",
        "plt.legend(['train', 'test'], loc='upper left')\n",
        "plt.show()"
      ],
      "metadata": {
        "colab": {
          "base_uri": "https://localhost:8080/",
          "height": 295
        },
        "id": "IPQfJIN658T3",
        "outputId": "2b7b5a6e-7e36-43c6-99fa-8715e84c87c8"
      },
      "execution_count": null,
      "outputs": [
        {
          "output_type": "display_data",
          "data": {
            "text/plain": [
              "<Figure size 432x288 with 1 Axes>"
            ],
            "image/png": "[encoded data removed]"
          },
          "metadata": {
            "needs_background": "light"
          }
        }
      ]
    },
    {
      "cell_type": "code",
      "source": [
        "# plot loss (train vs val)\n",
        "plt.plot(history.history['loss'])\n",
        "plt.plot(history.history['val_loss'])\n",
        "plt.title('Training Vs Validation Loss')\n",
        "plt.ylabel('loss')\n",
        "plt.xlabel('epoch')\n",
        "plt.legend(['train', 'test'], loc='upper left')\n",
        "plt.show()"
      ],
      "metadata": {
        "colab": {
          "base_uri": "https://localhost:8080/",
          "height": 295
        },
        "id": "Ek1V5Hq86E-m",
        "outputId": "dba9fb29-d1fc-4e29-ef3a-272199e4508d"
      },
      "execution_count": null,
      "outputs": [
        {
          "output_type": "display_data",
          "data": {
            "text/plain": [
              "<Figure size 432x288 with 1 Axes>"
            ],
            "image/png": "[encoded data removed]"
          },
          "metadata": {
            "needs_background": "light"
          }
        }
      ]
    },
    {
      "cell_type": "markdown",
      "metadata": {
        "papermill": {
          "duration": 3.837682,
          "end_time": "2020-10-06T21:30:10.817414",
          "exception": false,
          "start_time": "2020-10-06T21:30:06.979732",
          "status": "completed"
        },
        "tags": [],
        "id": "Ph1UJ1ep3i-p"
      },
      "source": [
        "## Bidirectional LTSM model"
      ]
    },
    {
      "cell_type": "code",
      "execution_count": null,
      "metadata": {
        "execution": {
          "iopub.execute_input": "2020-10-06T21:30:18.875895Z",
          "iopub.status.busy": "2020-10-06T21:30:18.874621Z",
          "iopub.status.idle": "2020-10-06T21:49:59.410271Z",
          "shell.execute_reply": "2020-10-06T21:49:59.411560Z"
        },
        "papermill": {
          "duration": 1184.636954,
          "end_time": "2020-10-06T21:49:59.411827",
          "exception": false,
          "start_time": "2020-10-06T21:30:14.774873",
          "status": "completed"
        },
        "tags": [],
        "colab": {
          "base_uri": "https://localhost:8080/"
        },
        "id": "yL6Va7FF3i-q",
        "outputId": "a5d8439c-5475-4c90-e18c-aa11c434c39d"
      },
      "outputs": [
        {
          "output_type": "stream",
          "name": "stderr",
          "text": [
            "WARNING:tensorflow:`period` argument is deprecated. Please use `save_freq` to specify the frequency in number of batches seen.\n"
          ]
        },
        {
          "output_type": "stream",
          "name": "stdout",
          "text": [
            "Epoch 1/20\n",
            "471/471 [==============================] - ETA: 0s - loss: 1.0787 - accuracy: 0.3927\n",
            "Epoch 1: val_accuracy improved from -inf to 0.39634, saving model to /content/drive/MyDrive/Ant_Thesis/Logs/best_model2.hdf5\n",
            "471/471 [==============================] - 79s 156ms/step - loss: 1.0787 - accuracy: 0.3927 - val_loss: 1.0541 - val_accuracy: 0.3963\n",
            "Epoch 2/20\n",
            "471/471 [==============================] - ETA: 0s - loss: 1.0211 - accuracy: 0.4941\n",
            "Epoch 2: val_accuracy improved from 0.39634 to 0.54690, saving model to /content/drive/MyDrive/Ant_Thesis/Logs/best_model2.hdf5\n",
            "471/471 [==============================] - 71s 151ms/step - loss: 1.0211 - accuracy: 0.4941 - val_loss: 0.9823 - val_accuracy: 0.5469\n",
            "Epoch 3/20\n",
            "471/471 [==============================] - ETA: 0s - loss: 0.9550 - accuracy: 0.5701\n",
            "Epoch 3: val_accuracy improved from 0.54690 to 0.58554, saving model to /content/drive/MyDrive/Ant_Thesis/Logs/best_model2.hdf5\n",
            "471/471 [==============================] - 68s 145ms/step - loss: 0.9550 - accuracy: 0.5701 - val_loss: 0.9216 - val_accuracy: 0.5855\n",
            "Epoch 4/20\n",
            "471/471 [==============================] - ETA: 0s - loss: 0.9062 - accuracy: 0.5957\n",
            "Epoch 4: val_accuracy improved from 0.58554 to 0.59948, saving model to /content/drive/MyDrive/Ant_Thesis/Logs/best_model2.hdf5\n",
            "471/471 [==============================] - 71s 151ms/step - loss: 0.9062 - accuracy: 0.5957 - val_loss: 0.8797 - val_accuracy: 0.5995\n",
            "Epoch 5/20\n",
            "471/471 [==============================] - ETA: 0s - loss: 0.8635 - accuracy: 0.6180\n",
            "Epoch 5: val_accuracy improved from 0.59948 to 0.63175, saving model to /content/drive/MyDrive/Ant_Thesis/Logs/best_model2.hdf5\n",
            "471/471 [==============================] - 69s 146ms/step - loss: 0.8635 - accuracy: 0.6180 - val_loss: 0.8328 - val_accuracy: 0.6317\n",
            "Epoch 6/20\n",
            "471/471 [==============================] - ETA: 0s - loss: 0.8151 - accuracy: 0.6498\n",
            "Epoch 6: val_accuracy improved from 0.63175 to 0.66142, saving model to /content/drive/MyDrive/Ant_Thesis/Logs/best_model2.hdf5\n",
            "471/471 [==============================] - 69s 146ms/step - loss: 0.8151 - accuracy: 0.6498 - val_loss: 0.7859 - val_accuracy: 0.6614\n",
            "Epoch 7/20\n",
            "471/471 [==============================] - ETA: 0s - loss: 0.7641 - accuracy: 0.6800\n",
            "Epoch 7: val_accuracy improved from 0.66142 to 0.69090, saving model to /content/drive/MyDrive/Ant_Thesis/Logs/best_model2.hdf5\n",
            "471/471 [==============================] - 71s 151ms/step - loss: 0.7641 - accuracy: 0.6800 - val_loss: 0.7392 - val_accuracy: 0.6909\n",
            "Epoch 8/20\n",
            "471/471 [==============================] - ETA: 0s - loss: 0.7159 - accuracy: 0.7053\n",
            "Epoch 8: val_accuracy improved from 0.69090 to 0.71599, saving model to /content/drive/MyDrive/Ant_Thesis/Logs/best_model2.hdf5\n",
            "471/471 [==============================] - 70s 148ms/step - loss: 0.7159 - accuracy: 0.7053 - val_loss: 0.6897 - val_accuracy: 0.7160\n",
            "Epoch 9/20\n",
            "471/471 [==============================] - ETA: 0s - loss: 0.6753 - accuracy: 0.7276\n",
            "Epoch 9: val_accuracy improved from 0.71599 to 0.73591, saving model to /content/drive/MyDrive/Ant_Thesis/Logs/best_model2.hdf5\n",
            "471/471 [==============================] - 69s 147ms/step - loss: 0.6753 - accuracy: 0.7276 - val_loss: 0.6550 - val_accuracy: 0.7359\n",
            "Epoch 10/20\n",
            "471/471 [==============================] - ETA: 0s - loss: 0.6408 - accuracy: 0.7393\n",
            "Epoch 10: val_accuracy improved from 0.73591 to 0.75045, saving model to /content/drive/MyDrive/Ant_Thesis/Logs/best_model2.hdf5\n",
            "471/471 [==============================] - 71s 152ms/step - loss: 0.6408 - accuracy: 0.7393 - val_loss: 0.6253 - val_accuracy: 0.7504\n",
            "Epoch 11/20\n",
            "471/471 [==============================] - ETA: 0s - loss: 0.6134 - accuracy: 0.7559\n",
            "Epoch 11: val_accuracy improved from 0.75045 to 0.75204, saving model to /content/drive/MyDrive/Ant_Thesis/Logs/best_model2.hdf5\n",
            "471/471 [==============================] - 71s 150ms/step - loss: 0.6134 - accuracy: 0.7559 - val_loss: 0.6085 - val_accuracy: 0.7520\n",
            "Epoch 12/20\n",
            "471/471 [==============================] - ETA: 0s - loss: 0.5929 - accuracy: 0.7658\n",
            "Epoch 12: val_accuracy improved from 0.75204 to 0.76598, saving model to /content/drive/MyDrive/Ant_Thesis/Logs/best_model2.hdf5\n",
            "471/471 [==============================] - 71s 151ms/step - loss: 0.5929 - accuracy: 0.7658 - val_loss: 0.5889 - val_accuracy: 0.7660\n",
            "Epoch 13/20\n",
            "471/471 [==============================] - ETA: 0s - loss: 0.5734 - accuracy: 0.7750\n",
            "Epoch 13: val_accuracy improved from 0.76598 to 0.76997, saving model to /content/drive/MyDrive/Ant_Thesis/Logs/best_model2.hdf5\n",
            "471/471 [==============================] - 72s 153ms/step - loss: 0.5734 - accuracy: 0.7750 - val_loss: 0.5749 - val_accuracy: 0.7700\n",
            "Epoch 14/20\n",
            "471/471 [==============================] - ETA: 0s - loss: 0.5552 - accuracy: 0.7794\n",
            "Epoch 14: val_accuracy improved from 0.76997 to 0.77574, saving model to /content/drive/MyDrive/Ant_Thesis/Logs/best_model2.hdf5\n",
            "471/471 [==============================] - 70s 149ms/step - loss: 0.5552 - accuracy: 0.7794 - val_loss: 0.5610 - val_accuracy: 0.7757\n",
            "Epoch 15/20\n",
            "471/471 [==============================] - ETA: 0s - loss: 0.5409 - accuracy: 0.7863\n",
            "Epoch 15: val_accuracy improved from 0.77574 to 0.77674, saving model to /content/drive/MyDrive/Ant_Thesis/Logs/best_model2.hdf5\n",
            "471/471 [==============================] - 70s 149ms/step - loss: 0.5409 - accuracy: 0.7863 - val_loss: 0.5536 - val_accuracy: 0.7767\n",
            "Epoch 16/20\n",
            "471/471 [==============================] - ETA: 0s - loss: 0.5284 - accuracy: 0.7893\n",
            "Epoch 16: val_accuracy improved from 0.77674 to 0.78351, saving model to /content/drive/MyDrive/Ant_Thesis/Logs/best_model2.hdf5\n",
            "471/471 [==============================] - 72s 152ms/step - loss: 0.5284 - accuracy: 0.7893 - val_loss: 0.5416 - val_accuracy: 0.7835\n",
            "Epoch 17/20\n",
            "471/471 [==============================] - ETA: 0s - loss: 0.5164 - accuracy: 0.7971\n",
            "Epoch 17: val_accuracy improved from 0.78351 to 0.78650, saving model to /content/drive/MyDrive/Ant_Thesis/Logs/best_model2.hdf5\n",
            "471/471 [==============================] - 69s 147ms/step - loss: 0.5164 - accuracy: 0.7971 - val_loss: 0.5317 - val_accuracy: 0.7865\n",
            "Epoch 18/20\n",
            "471/471 [==============================] - ETA: 0s - loss: 0.5028 - accuracy: 0.8013\n",
            "Epoch 18: val_accuracy did not improve from 0.78650\n",
            "471/471 [==============================] - 68s 145ms/step - loss: 0.5028 - accuracy: 0.8013 - val_loss: 0.5281 - val_accuracy: 0.7859\n",
            "Epoch 19/20\n",
            "471/471 [==============================] - ETA: 0s - loss: 0.4911 - accuracy: 0.8088\n",
            "Epoch 19: val_accuracy did not improve from 0.78650\n",
            "471/471 [==============================] - 72s 152ms/step - loss: 0.4911 - accuracy: 0.8088 - val_loss: 0.5253 - val_accuracy: 0.7851\n",
            "Epoch 20/20\n",
            "471/471 [==============================] - ETA: 0s - loss: 0.4868 - accuracy: 0.8105\n",
            "Epoch 20: val_accuracy improved from 0.78650 to 0.79108, saving model to /content/drive/MyDrive/Ant_Thesis/Logs/best_model2.hdf5\n",
            "471/471 [==============================] - 70s 149ms/step - loss: 0.4868 - accuracy: 0.8105 - val_loss: 0.5177 - val_accuracy: 0.7911\n"
          ]
        }
      ],
      "source": [
        "model2 = Sequential()\n",
        "model2.add(layers.Embedding(max_words, 50, input_length=max_len))\n",
        "model2.add(layers.Bidirectional(layers.LSTM(20,dropout=0.6)))\n",
        "model2.add(layers.Dense(3,activation='softmax'))\n",
        "\n",
        "model2.compile(optimizer=RMSprop(learning_rate=0.0001),loss='categorical_crossentropy', metrics=['accuracy'])\n",
        "#Implementing model checkpoins to save the best metric and do not lose it on training.\n",
        "checkpoint2 = ModelCheckpoint(\"/content/drive/MyDrive/Ant_Thesis/Logs/best_model2.hdf5\", monitor='val_accuracy', verbose=1,save_best_only=True, mode='auto', period=1,save_weights_only=False)\n",
        "history = model2.fit(X_train, y_train, epochs=20,validation_data=(X_val, y_val),callbacks=[checkpoint2])"
      ]
    },
    {
      "cell_type": "code",
      "source": [
        "# plot accuracy (train vs val)\n",
        "plt.plot(history.history['accuracy'])\n",
        "plt.plot(history.history['val_accuracy'])\n",
        "plt.title('Training Vs Validation Accuracy')\n",
        "plt.ylabel('accuracy')\n",
        "plt.xlabel('epoch')\n",
        "plt.legend(['train', 'test'], loc='upper left')\n",
        "plt.show()"
      ],
      "metadata": {
        "id": "HeErreldJku_",
        "colab": {
          "base_uri": "https://localhost:8080/",
          "height": 295
        },
        "outputId": "2d2d147b-5b01-43e0-bf12-f39333653f47"
      },
      "execution_count": null,
      "outputs": [
        {
          "output_type": "display_data",
          "data": {
            "text/plain": [
              "<Figure size 432x288 with 1 Axes>"
            ],
            "image/png": "[encoded data removed]"
          },
          "metadata": {
            "needs_background": "light"
          }
        }
      ]
    },
    {
      "cell_type": "code",
      "source": [
        "# plot loss (train vs val)\n",
        "plt.plot(history.history['loss'])\n",
        "plt.plot(history.history['val_loss'])\n",
        "plt.title('Training Vs Validation Loss')\n",
        "plt.ylabel('loss')\n",
        "plt.xlabel('epoch')\n",
        "plt.legend(['train', 'test'], loc='upper left')\n",
        "plt.show()"
      ],
      "metadata": {
        "id": "wlaDmsJIJtYw",
        "colab": {
          "base_uri": "https://localhost:8080/",
          "height": 295
        },
        "outputId": "a11487ed-c00c-45fb-c63b-6d5925e69e91"
      },
      "execution_count": null,
      "outputs": [
        {
          "output_type": "display_data",
          "data": {
            "text/plain": [
              "<Figure size 432x288 with 1 Axes>"
            ],
            "image/png": "[encoded data removed]"
          },
          "metadata": {
            "needs_background": "light"
          }
        }
      ]
    },
    {
      "cell_type": "markdown",
      "metadata": {
        "papermill": {
          "duration": 11.452373,
          "end_time": "2020-10-06T21:50:21.772094",
          "exception": false,
          "start_time": "2020-10-06T21:50:10.319721",
          "status": "completed"
        },
        "tags": [],
        "id": "JsiMMl6J3i-s"
      },
      "source": [
        "## 1D Convolutional model\n",
        "\n",
        "Before diving into this model, I know by prior experience that it tends to overfit extremely fast on small datasets. In this sense, just will implement it to show you how to do it in case it's of your interest."
      ]
    },
    {
      "cell_type": "code",
      "execution_count": null,
      "metadata": {
        "execution": {
          "iopub.execute_input": "2020-10-06T21:50:43.900261Z",
          "iopub.status.busy": "2020-10-06T21:50:43.899061Z",
          "iopub.status.idle": "2020-10-06T21:56:48.149729Z",
          "shell.execute_reply": "2020-10-06T21:56:48.149055Z"
        },
        "papermill": {
          "duration": 375.351238,
          "end_time": "2020-10-06T21:56:48.149913",
          "exception": false,
          "start_time": "2020-10-06T21:50:32.798675",
          "status": "completed"
        },
        "tags": [],
        "colab": {
          "base_uri": "https://localhost:8080/",
          "height": 997
        },
        "id": "LFHFNMzB3i-t",
        "outputId": "c79264cf-613f-469d-d4e1-ef17af3e1408"
      },
      "outputs": [
        {
          "output_type": "stream",
          "name": "stderr",
          "text": [
            "WARNING:tensorflow:`period` argument is deprecated. Please use `save_freq` to specify the frequency in number of batches seen.\n"
          ]
        },
        {
          "output_type": "stream",
          "name": "stdout",
          "text": [
            "Epoch 1/30\n",
            "953/954 [============================>.] - ETA: 0s - loss: 1.0921 - accuracy: 0.4486\n",
            "Epoch 1: val_accuracy improved from -inf to 0.45124, saving model to best_model3.hdf5\n",
            "954/954 [==============================] - 50s 48ms/step - loss: 1.0921 - accuracy: 0.4484 - val_loss: 0.9930 - val_accuracy: 0.4512\n",
            "Epoch 2/30\n",
            "953/954 [============================>.] - ETA: 0s - loss: 1.0066 - accuracy: 0.4475\n",
            "Epoch 2: val_accuracy did not improve from 0.45124\n",
            "954/954 [==============================] - 44s 46ms/step - loss: 1.0067 - accuracy: 0.4474 - val_loss: 0.9928 - val_accuracy: 0.4512\n",
            "Epoch 3/30\n",
            "953/954 [============================>.] - ETA: 0s - loss: 1.0061 - accuracy: 0.4448\n",
            "Epoch 3: val_accuracy did not improve from 0.45124\n",
            "954/954 [==============================] - 44s 47ms/step - loss: 1.0062 - accuracy: 0.4448 - val_loss: 0.9932 - val_accuracy: 0.4512\n",
            "Epoch 4/30\n",
            "953/954 [============================>.] - ETA: 0s - loss: 1.0061 - accuracy: 0.4456\n",
            "Epoch 4: val_accuracy did not improve from 0.45124\n",
            "954/954 [==============================] - 45s 47ms/step - loss: 1.0060 - accuracy: 0.4457 - val_loss: 0.9928 - val_accuracy: 0.4512\n",
            "Epoch 5/30\n",
            "954/954 [==============================] - ETA: 0s - loss: 1.0059 - accuracy: 0.4476\n",
            "Epoch 5: val_accuracy did not improve from 0.45124\n",
            "954/954 [==============================] - 44s 46ms/step - loss: 1.0059 - accuracy: 0.4476 - val_loss: 0.9936 - val_accuracy: 0.4512\n",
            "Epoch 6/30\n",
            "954/954 [==============================] - ETA: 0s - loss: 1.0060 - accuracy: 0.4454\n",
            "Epoch 6: val_accuracy did not improve from 0.45124\n",
            "954/954 [==============================] - 44s 47ms/step - loss: 1.0060 - accuracy: 0.4454 - val_loss: 0.9932 - val_accuracy: 0.4512\n",
            "Epoch 7/30\n",
            "954/954 [==============================] - ETA: 0s - loss: 1.0060 - accuracy: 0.4445\n",
            "Epoch 7: val_accuracy did not improve from 0.45124\n",
            "954/954 [==============================] - 44s 46ms/step - loss: 1.0060 - accuracy: 0.4445 - val_loss: 0.9934 - val_accuracy: 0.4512\n",
            "Epoch 8/30\n",
            "954/954 [==============================] - ETA: 0s - loss: 1.0059 - accuracy: 0.4494\n",
            "Epoch 8: val_accuracy did not improve from 0.45124\n",
            "954/954 [==============================] - 44s 47ms/step - loss: 1.0059 - accuracy: 0.4494 - val_loss: 0.9934 - val_accuracy: 0.4380\n",
            "Epoch 9/30\n",
            "129/954 [===>..........................] - ETA: 35s - loss: 1.0020 - accuracy: 0.4448"
          ]
        },
        {
          "output_type": "error",
          "ename": "KeyboardInterrupt",
          "evalue": "ignored",
          "traceback": [
            "\u001b[0;31m---------------------------------------------------------------------------\u001b[0m",
            "\u001b[0;31mKeyboardInterrupt\u001b[0m                         Traceback (most recent call last)",
            "\u001b[0;32m<ipython-input-79-185ba9976852>\u001b[0m in \u001b[0;36m<module>\u001b[0;34m\u001b[0m\n\u001b[1;32m     11\u001b[0m \u001b[0mmodel3\u001b[0m\u001b[0;34m.\u001b[0m\u001b[0mcompile\u001b[0m\u001b[0;34m(\u001b[0m\u001b[0moptimizer\u001b[0m\u001b[0;34m=\u001b[0m\u001b[0;34m'rmsprop'\u001b[0m\u001b[0;34m,\u001b[0m\u001b[0mloss\u001b[0m\u001b[0;34m=\u001b[0m\u001b[0;34m'categorical_crossentropy'\u001b[0m\u001b[0;34m,\u001b[0m\u001b[0mmetrics\u001b[0m\u001b[0;34m=\u001b[0m\u001b[0;34m[\u001b[0m\u001b[0;34m'accuracy'\u001b[0m\u001b[0;34m]\u001b[0m\u001b[0;34m)\u001b[0m\u001b[0;34m\u001b[0m\u001b[0;34m\u001b[0m\u001b[0m\n\u001b[1;32m     12\u001b[0m \u001b[0mcheckpoint3\u001b[0m \u001b[0;34m=\u001b[0m \u001b[0mModelCheckpoint\u001b[0m\u001b[0;34m(\u001b[0m\u001b[0;34m\"best_model3.hdf5\"\u001b[0m\u001b[0;34m,\u001b[0m \u001b[0mmonitor\u001b[0m\u001b[0;34m=\u001b[0m\u001b[0;34m'val_accuracy'\u001b[0m\u001b[0;34m,\u001b[0m \u001b[0mverbose\u001b[0m\u001b[0;34m=\u001b[0m\u001b[0;36m1\u001b[0m\u001b[0;34m,\u001b[0m\u001b[0msave_best_only\u001b[0m\u001b[0;34m=\u001b[0m\u001b[0;32mTrue\u001b[0m\u001b[0;34m,\u001b[0m \u001b[0mmode\u001b[0m\u001b[0;34m=\u001b[0m\u001b[0;34m'auto'\u001b[0m\u001b[0;34m,\u001b[0m \u001b[0mperiod\u001b[0m\u001b[0;34m=\u001b[0m\u001b[0;36m1\u001b[0m\u001b[0;34m,\u001b[0m\u001b[0msave_weights_only\u001b[0m\u001b[0;34m=\u001b[0m\u001b[0;32mFalse\u001b[0m\u001b[0;34m)\u001b[0m\u001b[0;34m\u001b[0m\u001b[0;34m\u001b[0m\u001b[0m\n\u001b[0;32m---> 13\u001b[0;31m \u001b[0mhistory2\u001b[0m \u001b[0;34m=\u001b[0m \u001b[0mmodel3\u001b[0m\u001b[0;34m.\u001b[0m\u001b[0mfit\u001b[0m\u001b[0;34m(\u001b[0m\u001b[0mX_train\u001b[0m\u001b[0;34m,\u001b[0m \u001b[0my_train\u001b[0m\u001b[0;34m,\u001b[0m \u001b[0mepochs\u001b[0m\u001b[0;34m=\u001b[0m\u001b[0;36m30\u001b[0m\u001b[0;34m,\u001b[0m\u001b[0mvalidation_data\u001b[0m\u001b[0;34m=\u001b[0m\u001b[0;34m(\u001b[0m\u001b[0mX_val\u001b[0m\u001b[0;34m,\u001b[0m \u001b[0my_val\u001b[0m\u001b[0;34m)\u001b[0m\u001b[0;34m,\u001b[0m\u001b[0mcallbacks\u001b[0m\u001b[0;34m=\u001b[0m\u001b[0;34m[\u001b[0m\u001b[0mcheckpoint3\u001b[0m\u001b[0;34m]\u001b[0m\u001b[0;34m)\u001b[0m\u001b[0;34m\u001b[0m\u001b[0;34m\u001b[0m\u001b[0m\n\u001b[0m",
            "\u001b[0;32m/usr/local/lib/python3.8/dist-packages/keras/utils/traceback_utils.py\u001b[0m in \u001b[0;36merror_handler\u001b[0;34m(*args, **kwargs)\u001b[0m\n\u001b[1;32m     62\u001b[0m     \u001b[0mfiltered_tb\u001b[0m \u001b[0;34m=\u001b[0m \u001b[0;32mNone\u001b[0m\u001b[0;34m\u001b[0m\u001b[0;34m\u001b[0m\u001b[0m\n\u001b[1;32m     63\u001b[0m     \u001b[0;32mtry\u001b[0m\u001b[0;34m:\u001b[0m\u001b[0;34m\u001b[0m\u001b[0;34m\u001b[0m\u001b[0m\n\u001b[0;32m---> 64\u001b[0;31m       \u001b[0;32mreturn\u001b[0m \u001b[0mfn\u001b[0m\u001b[0;34m(\u001b[0m\u001b[0;34m*\u001b[0m\u001b[0margs\u001b[0m\u001b[0;34m,\u001b[0m \u001b[0;34m**\u001b[0m\u001b[0mkwargs\u001b[0m\u001b[0;34m)\u001b[0m\u001b[0;34m\u001b[0m\u001b[0;34m\u001b[0m\u001b[0m\n\u001b[0m\u001b[1;32m     65\u001b[0m     \u001b[0;32mexcept\u001b[0m \u001b[0mException\u001b[0m \u001b[0;32mas\u001b[0m \u001b[0me\u001b[0m\u001b[0;34m:\u001b[0m  \u001b[0;31m# pylint: disable=broad-except\u001b[0m\u001b[0;34m\u001b[0m\u001b[0;34m\u001b[0m\u001b[0m\n\u001b[1;32m     66\u001b[0m       \u001b[0mfiltered_tb\u001b[0m \u001b[0;34m=\u001b[0m \u001b[0m_process_traceback_frames\u001b[0m\u001b[0;34m(\u001b[0m\u001b[0me\u001b[0m\u001b[0;34m.\u001b[0m\u001b[0m__traceback__\u001b[0m\u001b[0;34m)\u001b[0m\u001b[0;34m\u001b[0m\u001b[0;34m\u001b[0m\u001b[0m\n",
            "\u001b[0;32m/usr/local/lib/python3.8/dist-packages/keras/engine/training.py\u001b[0m in \u001b[0;36mfit\u001b[0;34m(self, x, y, batch_size, epochs, verbose, callbacks, validation_split, validation_data, shuffle, class_weight, sample_weight, initial_epoch, steps_per_epoch, validation_steps, validation_batch_size, validation_freq, max_queue_size, workers, use_multiprocessing)\u001b[0m\n\u001b[1;32m   1407\u001b[0m                 _r=1):\n\u001b[1;32m   1408\u001b[0m               \u001b[0mcallbacks\u001b[0m\u001b[0;34m.\u001b[0m\u001b[0mon_train_batch_begin\u001b[0m\u001b[0;34m(\u001b[0m\u001b[0mstep\u001b[0m\u001b[0;34m)\u001b[0m\u001b[0;34m\u001b[0m\u001b[0;34m\u001b[0m\u001b[0m\n\u001b[0;32m-> 1409\u001b[0;31m               \u001b[0mtmp_logs\u001b[0m \u001b[0;34m=\u001b[0m \u001b[0mself\u001b[0m\u001b[0;34m.\u001b[0m\u001b[0mtrain_function\u001b[0m\u001b[0;34m(\u001b[0m\u001b[0miterator\u001b[0m\u001b[0;34m)\u001b[0m\u001b[0;34m\u001b[0m\u001b[0;34m\u001b[0m\u001b[0m\n\u001b[0m\u001b[1;32m   1410\u001b[0m               \u001b[0;32mif\u001b[0m \u001b[0mdata_handler\u001b[0m\u001b[0;34m.\u001b[0m\u001b[0mshould_sync\u001b[0m\u001b[0;34m:\u001b[0m\u001b[0;34m\u001b[0m\u001b[0;34m\u001b[0m\u001b[0m\n\u001b[1;32m   1411\u001b[0m                 \u001b[0mcontext\u001b[0m\u001b[0;34m.\u001b[0m\u001b[0masync_wait\u001b[0m\u001b[0;34m(\u001b[0m\u001b[0;34m)\u001b[0m\u001b[0;34m\u001b[0m\u001b[0;34m\u001b[0m\u001b[0m\n",
            "\u001b[0;32m/usr/local/lib/python3.8/dist-packages/tensorflow/python/util/traceback_utils.py\u001b[0m in \u001b[0;36merror_handler\u001b[0;34m(*args, **kwargs)\u001b[0m\n\u001b[1;32m    148\u001b[0m     \u001b[0mfiltered_tb\u001b[0m \u001b[0;34m=\u001b[0m \u001b[0;32mNone\u001b[0m\u001b[0;34m\u001b[0m\u001b[0;34m\u001b[0m\u001b[0m\n\u001b[1;32m    149\u001b[0m     \u001b[0;32mtry\u001b[0m\u001b[0;34m:\u001b[0m\u001b[0;34m\u001b[0m\u001b[0;34m\u001b[0m\u001b[0m\n\u001b[0;32m--> 150\u001b[0;31m       \u001b[0;32mreturn\u001b[0m \u001b[0mfn\u001b[0m\u001b[0;34m(\u001b[0m\u001b[0;34m*\u001b[0m\u001b[0margs\u001b[0m\u001b[0;34m,\u001b[0m \u001b[0;34m**\u001b[0m\u001b[0mkwargs\u001b[0m\u001b[0;34m)\u001b[0m\u001b[0;34m\u001b[0m\u001b[0;34m\u001b[0m\u001b[0m\n\u001b[0m\u001b[1;32m    151\u001b[0m     \u001b[0;32mexcept\u001b[0m \u001b[0mException\u001b[0m \u001b[0;32mas\u001b[0m \u001b[0me\u001b[0m\u001b[0;34m:\u001b[0m\u001b[0;34m\u001b[0m\u001b[0;34m\u001b[0m\u001b[0m\n\u001b[1;32m    152\u001b[0m       \u001b[0mfiltered_tb\u001b[0m \u001b[0;34m=\u001b[0m \u001b[0m_process_traceback_frames\u001b[0m\u001b[0;34m(\u001b[0m\u001b[0me\u001b[0m\u001b[0;34m.\u001b[0m\u001b[0m__traceback__\u001b[0m\u001b[0;34m)\u001b[0m\u001b[0;34m\u001b[0m\u001b[0;34m\u001b[0m\u001b[0m\n",
            "\u001b[0;32m/usr/local/lib/python3.8/dist-packages/tensorflow/python/eager/def_function.py\u001b[0m in \u001b[0;36m__call__\u001b[0;34m(self, *args, **kwds)\u001b[0m\n\u001b[1;32m    913\u001b[0m \u001b[0;34m\u001b[0m\u001b[0m\n\u001b[1;32m    914\u001b[0m       \u001b[0;32mwith\u001b[0m \u001b[0mOptionalXlaContext\u001b[0m\u001b[0;34m(\u001b[0m\u001b[0mself\u001b[0m\u001b[0;34m.\u001b[0m\u001b[0m_jit_compile\u001b[0m\u001b[0;34m)\u001b[0m\u001b[0;34m:\u001b[0m\u001b[0;34m\u001b[0m\u001b[0;34m\u001b[0m\u001b[0m\n\u001b[0;32m--> 915\u001b[0;31m         \u001b[0mresult\u001b[0m \u001b[0;34m=\u001b[0m \u001b[0mself\u001b[0m\u001b[0;34m.\u001b[0m\u001b[0m_call\u001b[0m\u001b[0;34m(\u001b[0m\u001b[0;34m*\u001b[0m\u001b[0margs\u001b[0m\u001b[0;34m,\u001b[0m \u001b[0;34m**\u001b[0m\u001b[0mkwds\u001b[0m\u001b[0;34m)\u001b[0m\u001b[0;34m\u001b[0m\u001b[0;34m\u001b[0m\u001b[0m\n\u001b[0m\u001b[1;32m    916\u001b[0m \u001b[0;34m\u001b[0m\u001b[0m\n\u001b[1;32m    917\u001b[0m       \u001b[0mnew_tracing_count\u001b[0m \u001b[0;34m=\u001b[0m \u001b[0mself\u001b[0m\u001b[0;34m.\u001b[0m\u001b[0mexperimental_get_tracing_count\u001b[0m\u001b[0;34m(\u001b[0m\u001b[0;34m)\u001b[0m\u001b[0;34m\u001b[0m\u001b[0;34m\u001b[0m\u001b[0m\n",
            "\u001b[0;32m/usr/local/lib/python3.8/dist-packages/tensorflow/python/eager/def_function.py\u001b[0m in \u001b[0;36m_call\u001b[0;34m(self, *args, **kwds)\u001b[0m\n\u001b[1;32m    945\u001b[0m       \u001b[0;31m# In this case we have created variables on the first call, so we run the\u001b[0m\u001b[0;34m\u001b[0m\u001b[0;34m\u001b[0m\u001b[0;34m\u001b[0m\u001b[0m\n\u001b[1;32m    946\u001b[0m       \u001b[0;31m# defunned version which is guaranteed to never create variables.\u001b[0m\u001b[0;34m\u001b[0m\u001b[0;34m\u001b[0m\u001b[0;34m\u001b[0m\u001b[0m\n\u001b[0;32m--> 947\u001b[0;31m       \u001b[0;32mreturn\u001b[0m \u001b[0mself\u001b[0m\u001b[0;34m.\u001b[0m\u001b[0m_stateless_fn\u001b[0m\u001b[0;34m(\u001b[0m\u001b[0;34m*\u001b[0m\u001b[0margs\u001b[0m\u001b[0;34m,\u001b[0m \u001b[0;34m**\u001b[0m\u001b[0mkwds\u001b[0m\u001b[0;34m)\u001b[0m  \u001b[0;31m# pylint: disable=not-callable\u001b[0m\u001b[0;34m\u001b[0m\u001b[0;34m\u001b[0m\u001b[0m\n\u001b[0m\u001b[1;32m    948\u001b[0m     \u001b[0;32melif\u001b[0m \u001b[0mself\u001b[0m\u001b[0;34m.\u001b[0m\u001b[0m_stateful_fn\u001b[0m \u001b[0;32mis\u001b[0m \u001b[0;32mnot\u001b[0m \u001b[0;32mNone\u001b[0m\u001b[0;34m:\u001b[0m\u001b[0;34m\u001b[0m\u001b[0;34m\u001b[0m\u001b[0m\n\u001b[1;32m    949\u001b[0m       \u001b[0;31m# Release the lock early so that multiple threads can perform the call\u001b[0m\u001b[0;34m\u001b[0m\u001b[0;34m\u001b[0m\u001b[0;34m\u001b[0m\u001b[0m\n",
            "\u001b[0;32m/usr/local/lib/python3.8/dist-packages/tensorflow/python/eager/function.py\u001b[0m in \u001b[0;36m__call__\u001b[0;34m(self, *args, **kwargs)\u001b[0m\n\u001b[1;32m   2451\u001b[0m       (graph_function,\n\u001b[1;32m   2452\u001b[0m        filtered_flat_args) = self._maybe_define_function(args, kwargs)\n\u001b[0;32m-> 2453\u001b[0;31m     return graph_function._call_flat(\n\u001b[0m\u001b[1;32m   2454\u001b[0m         filtered_flat_args, captured_inputs=graph_function.captured_inputs)  # pylint: disable=protected-access\n\u001b[1;32m   2455\u001b[0m \u001b[0;34m\u001b[0m\u001b[0m\n",
            "\u001b[0;32m/usr/local/lib/python3.8/dist-packages/tensorflow/python/eager/function.py\u001b[0m in \u001b[0;36m_call_flat\u001b[0;34m(self, args, captured_inputs, cancellation_manager)\u001b[0m\n\u001b[1;32m   1858\u001b[0m         and executing_eagerly):\n\u001b[1;32m   1859\u001b[0m       \u001b[0;31m# No tape is watching; skip to running the function.\u001b[0m\u001b[0;34m\u001b[0m\u001b[0;34m\u001b[0m\u001b[0;34m\u001b[0m\u001b[0m\n\u001b[0;32m-> 1860\u001b[0;31m       return self._build_call_outputs(self._inference_function.call(\n\u001b[0m\u001b[1;32m   1861\u001b[0m           ctx, args, cancellation_manager=cancellation_manager))\n\u001b[1;32m   1862\u001b[0m     forward_backward = self._select_forward_and_backward_functions(\n",
            "\u001b[0;32m/usr/local/lib/python3.8/dist-packages/tensorflow/python/eager/function.py\u001b[0m in \u001b[0;36mcall\u001b[0;34m(self, ctx, args, cancellation_manager)\u001b[0m\n\u001b[1;32m    495\u001b[0m       \u001b[0;32mwith\u001b[0m \u001b[0m_InterpolateFunctionError\u001b[0m\u001b[0;34m(\u001b[0m\u001b[0mself\u001b[0m\u001b[0;34m)\u001b[0m\u001b[0;34m:\u001b[0m\u001b[0;34m\u001b[0m\u001b[0;34m\u001b[0m\u001b[0m\n\u001b[1;32m    496\u001b[0m         \u001b[0;32mif\u001b[0m \u001b[0mcancellation_manager\u001b[0m \u001b[0;32mis\u001b[0m \u001b[0;32mNone\u001b[0m\u001b[0;34m:\u001b[0m\u001b[0;34m\u001b[0m\u001b[0;34m\u001b[0m\u001b[0m\n\u001b[0;32m--> 497\u001b[0;31m           outputs = execute.execute(\n\u001b[0m\u001b[1;32m    498\u001b[0m               \u001b[0mstr\u001b[0m\u001b[0;34m(\u001b[0m\u001b[0mself\u001b[0m\u001b[0;34m.\u001b[0m\u001b[0msignature\u001b[0m\u001b[0;34m.\u001b[0m\u001b[0mname\u001b[0m\u001b[0;34m)\u001b[0m\u001b[0;34m,\u001b[0m\u001b[0;34m\u001b[0m\u001b[0;34m\u001b[0m\u001b[0m\n\u001b[1;32m    499\u001b[0m               \u001b[0mnum_outputs\u001b[0m\u001b[0;34m=\u001b[0m\u001b[0mself\u001b[0m\u001b[0;34m.\u001b[0m\u001b[0m_num_outputs\u001b[0m\u001b[0;34m,\u001b[0m\u001b[0;34m\u001b[0m\u001b[0;34m\u001b[0m\u001b[0m\n",
            "\u001b[0;32m/usr/local/lib/python3.8/dist-packages/tensorflow/python/eager/execute.py\u001b[0m in \u001b[0;36mquick_execute\u001b[0;34m(op_name, num_outputs, inputs, attrs, ctx, name)\u001b[0m\n\u001b[1;32m     52\u001b[0m   \u001b[0;32mtry\u001b[0m\u001b[0;34m:\u001b[0m\u001b[0;34m\u001b[0m\u001b[0;34m\u001b[0m\u001b[0m\n\u001b[1;32m     53\u001b[0m     \u001b[0mctx\u001b[0m\u001b[0;34m.\u001b[0m\u001b[0mensure_initialized\u001b[0m\u001b[0;34m(\u001b[0m\u001b[0;34m)\u001b[0m\u001b[0;34m\u001b[0m\u001b[0;34m\u001b[0m\u001b[0m\n\u001b[0;32m---> 54\u001b[0;31m     tensors = pywrap_tfe.TFE_Py_Execute(ctx._handle, device_name, op_name,\n\u001b[0m\u001b[1;32m     55\u001b[0m                                         inputs, attrs, num_outputs)\n\u001b[1;32m     56\u001b[0m   \u001b[0;32mexcept\u001b[0m \u001b[0mcore\u001b[0m\u001b[0;34m.\u001b[0m\u001b[0m_NotOkStatusException\u001b[0m \u001b[0;32mas\u001b[0m \u001b[0me\u001b[0m\u001b[0;34m:\u001b[0m\u001b[0;34m\u001b[0m\u001b[0;34m\u001b[0m\u001b[0m\n",
            "\u001b[0;31mKeyboardInterrupt\u001b[0m: "
          ]
        }
      ],
      "source": [
        "from keras import regularizers\n",
        "model3 = Sequential()\n",
        "model3.add(layers.Embedding(max_words, 40, input_length=max_len))\n",
        "model3.add(layers.Conv1D(64, 7, activation='relu'))\n",
        "model3.add(layers.MaxPooling1D(5))\n",
        "model3.add(layers.Conv1D(32, 5, activation='relu'))\n",
        "model3.add(layers.MaxPooling1D(2))\n",
        "model3.add(layers.LSTM(16, return_sequences=True, dropout=0.3))\n",
        "model3.add(layers.LSTM(8, dropout=0.2))\n",
        "model3.add(layers.Dense(3,activation='softmax'))\n",
        "model3.compile(optimizer='rmsprop',loss='categorical_crossentropy',metrics=['accuracy'])\n",
        "checkpoint3 = ModelCheckpoint(\"best_model3.hdf5\", monitor='val_accuracy', verbose=1,save_best_only=True, mode='auto', period=1,save_weights_only=False)\n",
        "history2 = model3.fit(X_train, y_train, epochs=30,validation_data=(X_val, y_val),callbacks=[checkpoint3])"
      ]
    },
    {
      "cell_type": "markdown",
      "metadata": {
        "papermill": {
          "duration": 13.181114,
          "end_time": "2020-10-06T21:57:15.037099",
          "exception": false,
          "start_time": "2020-10-06T21:57:01.855985",
          "status": "completed"
        },
        "tags": [],
        "id": "_Ab2WVpI3i-v"
      },
      "source": [
        "If you check the val_accuracy metric in the training logs you won't find better score than the one achieved by the BidRNN. Again, the previous model is not the best for this task becaue is majorly used for short translation tasks, but the good thing to notice is its speed to train.\n",
        "\n",
        "Let's move on."
      ]
    },
    {
      "cell_type": "markdown",
      "metadata": {
        "papermill": {
          "duration": 13.897718,
          "end_time": "2020-10-06T21:57:43.244943",
          "exception": false,
          "start_time": "2020-10-06T21:57:29.347225",
          "status": "completed"
        },
        "tags": [],
        "id": "MFu2CuWq3i-x"
      },
      "source": [
        "# Best model validation\n",
        "(Before final commit, the best model obtained was the BidRNN)"
      ]
    },
    {
      "cell_type": "code",
      "execution_count": null,
      "metadata": {
        "execution": {
          "iopub.execute_input": "2020-10-06T21:58:11.467383Z",
          "iopub.status.busy": "2020-10-06T21:58:11.466210Z",
          "iopub.status.idle": "2020-10-06T21:58:12.123269Z",
          "shell.execute_reply": "2020-10-06T21:58:12.122665Z"
        },
        "papermill": {
          "duration": 14.579894,
          "end_time": "2020-10-06T21:58:12.123401",
          "exception": false,
          "start_time": "2020-10-06T21:57:57.543507",
          "status": "completed"
        },
        "tags": [],
        "id": "kr-dQswb3i-z"
      },
      "outputs": [],
      "source": [
        "#Let's load the best model obtained during training\n",
        "best_model = keras.models.load_model(\"/content/Model_LSTM1.hdf5\")"
      ]
    },
    {
      "cell_type": "markdown",
      "source": [],
      "metadata": {
        "id": "F47jnRurj4-7"
      }
    },
    {
      "cell_type": "code",
      "execution_count": null,
      "metadata": {
        "execution": {
          "iopub.execute_input": "2020-10-06T21:58:39.201557Z",
          "iopub.status.busy": "2020-10-06T21:58:39.200429Z",
          "iopub.status.idle": "2020-10-06T21:58:42.153698Z",
          "shell.execute_reply": "2020-10-06T21:58:42.152736Z"
        },
        "papermill": {
          "duration": 16.163436,
          "end_time": "2020-10-06T21:58:42.153869",
          "exception": false,
          "start_time": "2020-10-06T21:58:25.990433",
          "status": "completed"
        },
        "tags": [],
        "colab": {
          "base_uri": "https://localhost:8080/"
        },
        "id": "ZpWY9O503i-0",
        "outputId": "053208bb-4f94-46cd-87a2-782a35c2f2dd"
      },
      "outputs": [
        {
          "output_type": "stream",
          "name": "stdout",
          "text": [
            "157/157 - 3s - loss: 1.6453 - accuracy: 0.4969 - 3s/epoch - 20ms/step\n",
            "Model accuracy:  0.49691295623779297\n"
          ]
        }
      ],
      "source": [
        "test_loss, test_acc = best_model.evaluate(X_test, y_test, verbose=2)\n",
        "print('Model accuracy: ',test_acc)"
      ]
    },
    {
      "cell_type": "code",
      "source": [
        "y_test"
      ],
      "metadata": {
        "colab": {
          "base_uri": "https://localhost:8080/"
        },
        "id": "QDBgab6UnxUL",
        "outputId": "1bd70975-b51c-4ad9-d289-11c841d95496"
      },
      "execution_count": null,
      "outputs": [
        {
          "output_type": "execute_result",
          "data": {
            "text/plain": [
              "array([[0., 1., 0.],\n",
              "       [1., 0., 0.],\n",
              "       [1., 0., 0.],\n",
              "       ...,\n",
              "       [1., 0., 0.],\n",
              "       [1., 0., 0.],\n",
              "       [0., 1., 0.]], dtype=float32)"
            ]
          },
          "metadata": {},
          "execution_count": 58
        }
      ]
    },
    {
      "cell_type": "code",
      "execution_count": null,
      "metadata": {
        "execution": {
          "iopub.execute_input": "2020-10-06T21:59:08.598704Z",
          "iopub.status.busy": "2020-10-06T21:59:08.597660Z",
          "iopub.status.idle": "2020-10-06T21:59:11.143379Z",
          "shell.execute_reply": "2020-10-06T21:59:11.144225Z"
        },
        "papermill": {
          "duration": 15.873978,
          "end_time": "2020-10-06T21:59:11.144400",
          "exception": false,
          "start_time": "2020-10-06T21:58:55.270422",
          "status": "completed"
        },
        "tags": [],
        "colab": {
          "base_uri": "https://localhost:8080/"
        },
        "id": "SF_GvTuB3i-1",
        "outputId": "c1c037ba-7fd0-4481-ea1d-f0c682d45569"
      },
      "outputs": [
        {
          "output_type": "stream",
          "name": "stdout",
          "text": [
            "157/157 [==============================] - 5s 26ms/step\n"
          ]
        }
      ],
      "source": [
        "predictions = best_model.predict(X_test)"
      ]
    },
    {
      "cell_type": "markdown",
      "metadata": {
        "papermill": {
          "duration": 13.54467,
          "end_time": "2020-10-06T21:59:38.859073",
          "exception": false,
          "start_time": "2020-10-06T21:59:25.314403",
          "status": "completed"
        },
        "tags": [],
        "id": "CfayKXb83i-2"
      },
      "source": [
        "## Confusion matrix\n",
        "\n",
        "Alright, we all know the accuracy is not a good metric to measure how well a model is. That's the reason why I like to always see its confusion matrix, that way I have a better understanding of its classification and generalization ability. Let's plot it."
      ]
    },
    {
      "cell_type": "code",
      "execution_count": null,
      "metadata": {
        "execution": {
          "iopub.execute_input": "2020-10-06T22:00:05.244627Z",
          "iopub.status.busy": "2020-10-06T22:00:05.243340Z",
          "iopub.status.idle": "2020-10-06T22:00:05.261173Z",
          "shell.execute_reply": "2020-10-06T22:00:05.260523Z"
        },
        "papermill": {
          "duration": 13.356845,
          "end_time": "2020-10-06T22:00:05.261290",
          "exception": false,
          "start_time": "2020-10-06T21:59:51.904445",
          "status": "completed"
        },
        "tags": [],
        "id": "tTfCf9zy3i-2"
      },
      "outputs": [],
      "source": [
        "from sklearn.metrics import confusion_matrix\n",
        "matrix = confusion_matrix(y_test.argmax(axis=1), np.around(predictions, decimals=0).argmax(axis=1))"
      ]
    },
    {
      "cell_type": "code",
      "execution_count": null,
      "metadata": {
        "execution": {
          "iopub.execute_input": "2020-10-06T22:00:32.586908Z",
          "iopub.status.busy": "2020-10-06T22:00:32.586210Z",
          "iopub.status.idle": "2020-10-06T22:00:33.285612Z",
          "shell.execute_reply": "2020-10-06T22:00:33.285009Z"
        },
        "papermill": {
          "duration": 14.015558,
          "end_time": "2020-10-06T22:00:33.285736",
          "exception": false,
          "start_time": "2020-10-06T22:00:19.270178",
          "status": "completed"
        },
        "tags": [],
        "colab": {
          "base_uri": "https://localhost:8080/",
          "height": 881
        },
        "id": "CqusdvL93i-5",
        "outputId": "2d5dfb91-9b0e-4041-88c2-af4b1f5ebc3f"
      },
      "outputs": [
        {
          "output_type": "execute_result",
          "data": {
            "text/plain": [
              "<matplotlib.axes._subplots.AxesSubplot at 0x7f9da4ac47c0>"
            ]
          },
          "metadata": {},
          "execution_count": 57
        },
        {
          "output_type": "display_data",
          "data": {
            "text/plain": [
              "<Figure size 1080x1080 with 2 Axes>"
            ],
            "image/png": "[encoded data removed]"
          },
          "metadata": {
            "needs_background": "light"
          }
        }
      ],
      "source": [
        "import seaborn as sns\n",
        "conf_matrix = pd.DataFrame(matrix, index = ['Neutral','Negative','Positive'],columns = ['Neutral','Negative','Positive'])\n",
        "#Normalizing\n",
        "conf_matrix = conf_matrix.astype('float') / conf_matrix.sum(axis=1)[:, np.newaxis]\n",
        "plt.figure(figsize = (15,15))\n",
        "sns.heatmap(conf_matrix, annot=True, annot_kws={\"size\": 15})"
      ]
    },
    {
      "cell_type": "markdown",
      "metadata": {
        "papermill": {
          "duration": 12.906403,
          "end_time": "2020-10-06T22:00:59.275554",
          "exception": false,
          "start_time": "2020-10-06T22:00:46.369151",
          "status": "completed"
        },
        "tags": [],
        "id": "J3inL59d3i-6"
      },
      "source": [
        "Again, the model's score is very poor, but keep in mind it hasn't gone through hyperparameter tuning. Let's see how it performs on some test text."
      ]
    },
    {
      "cell_type": "code",
      "execution_count": null,
      "metadata": {
        "execution": {
          "iopub.execute_input": "2020-10-06T22:01:26.949303Z",
          "iopub.status.busy": "2020-10-06T22:01:26.947906Z",
          "iopub.status.idle": "2020-10-06T22:01:26.951809Z",
          "shell.execute_reply": "2020-10-06T22:01:26.951229Z"
        },
        "papermill": {
          "duration": 14.303017,
          "end_time": "2020-10-06T22:01:26.951936",
          "exception": false,
          "start_time": "2020-10-06T22:01:12.648919",
          "status": "completed"
        },
        "tags": [],
        "id": "_1k9RVa53i-8"
      },
      "outputs": [],
      "source": [
        "sentiment = ['Neutral','Negative','Positive']"
      ]
    },
    {
      "cell_type": "code",
      "execution_count": null,
      "metadata": {
        "execution": {
          "iopub.execute_input": "2020-10-06T22:01:53.611240Z",
          "iopub.status.busy": "2020-10-06T22:01:53.610198Z",
          "iopub.status.idle": "2020-10-06T22:01:53.680730Z",
          "shell.execute_reply": "2020-10-06T22:01:53.679943Z"
        },
        "papermill": {
          "duration": 13.274625,
          "end_time": "2020-10-06T22:01:53.680880",
          "exception": false,
          "start_time": "2020-10-06T22:01:40.406255",
          "status": "completed"
        },
        "tags": [],
        "colab": {
          "base_uri": "https://localhost:8080/",
          "height": 53
        },
        "id": "wR8rpTqC3i-_",
        "outputId": "addf312e-bad4-4ed4-af15-353739c4cecd"
      },
      "outputs": [
        {
          "output_type": "stream",
          "name": "stdout",
          "text": [
            "1/1 [==============================] - 0s 27ms/step\n"
          ]
        },
        {
          "output_type": "execute_result",
          "data": {
            "text/plain": [
              "'Negative'"
            ],
            "application/vnd.google.colaboratory.intrinsic+json": {
              "type": "string"
            }
          },
          "metadata": {},
          "execution_count": 50
        }
      ],
      "source": [
        "sequence = tokenizer.texts_to_sequences(['bitcoin value decreased by 1% today, hurrah for altcoin'])\n",
        "test = pad_sequences(sequence, maxlen=max_len)\n",
        "sentiment[np.around(best_model.predict(test), decimals=0).argmax(axis=1)[0]]"
      ]
    },
    {
      "cell_type": "code",
      "execution_count": null,
      "metadata": {
        "execution": {
          "iopub.execute_input": "2020-10-06T22:02:21.215521Z",
          "iopub.status.busy": "2020-10-06T22:02:21.214548Z",
          "iopub.status.idle": "2020-10-06T22:02:21.272639Z",
          "shell.execute_reply": "2020-10-06T22:02:21.271230Z"
        },
        "papermill": {
          "duration": 14.445195,
          "end_time": "2020-10-06T22:02:21.272790",
          "exception": false,
          "start_time": "2020-10-06T22:02:06.827595",
          "status": "completed"
        },
        "tags": [],
        "colab": {
          "base_uri": "https://localhost:8080/",
          "height": 53
        },
        "id": "sscSmaFR3i_F",
        "outputId": "1a593e24-56df-491c-b8de-9d2c8d19d52b"
      },
      "outputs": [
        {
          "output_type": "stream",
          "name": "stdout",
          "text": [
            "1/1 [==============================] - 0s 31ms/step\n"
          ]
        },
        {
          "output_type": "execute_result",
          "data": {
            "text/plain": [
              "'Positive'"
            ],
            "application/vnd.google.colaboratory.intrinsic+json": {
              "type": "string"
            }
          },
          "metadata": {},
          "execution_count": 45
        }
      ],
      "source": [
        "sequence = tokenizer.texts_to_sequences(['this data science article is the best ever'])\n",
        "test = pad_sequences(sequence, maxlen=max_len)\n",
        "sentiment[np.around(best_model.predict(test), decimals=0).argmax(axis=1)[0]]"
      ]
    },
    {
      "cell_type": "code",
      "execution_count": null,
      "metadata": {
        "execution": {
          "iopub.execute_input": "2020-10-06T22:02:48.026609Z",
          "iopub.status.busy": "2020-10-06T22:02:48.025563Z",
          "iopub.status.idle": "2020-10-06T22:02:48.086453Z",
          "shell.execute_reply": "2020-10-06T22:02:48.085808Z"
        },
        "papermill": {
          "duration": 13.396502,
          "end_time": "2020-10-06T22:02:48.086621",
          "exception": false,
          "start_time": "2020-10-06T22:02:34.690119",
          "status": "completed"
        },
        "tags": [],
        "colab": {
          "base_uri": "https://localhost:8080/",
          "height": 53
        },
        "id": "nXp7iDKS3i_O",
        "outputId": "fd7daf9a-bb42-463f-cbac-747eca3b326a"
      },
      "outputs": [
        {
          "output_type": "stream",
          "name": "stdout",
          "text": [
            "1/1 [==============================] - 0s 32ms/step\n"
          ]
        },
        {
          "output_type": "execute_result",
          "data": {
            "text/plain": [
              "'Negative'"
            ],
            "application/vnd.google.colaboratory.intrinsic+json": {
              "type": "string"
            }
          },
          "metadata": {},
          "execution_count": 46
        }
      ],
      "source": [
        "sequence = tokenizer.texts_to_sequences(['i hate youtube ads, they are annoying'])\n",
        "test = pad_sequences(sequence, maxlen=max_len)\n",
        "sentiment[np.around(best_model.predict(test), decimals=0).argmax(axis=1)[0]]"
      ]
    },
    {
      "cell_type": "code",
      "execution_count": null,
      "metadata": {
        "execution": {
          "iopub.execute_input": "2020-10-06T22:03:14.961947Z",
          "iopub.status.busy": "2020-10-06T22:03:14.960920Z",
          "iopub.status.idle": "2020-10-06T22:03:15.014373Z",
          "shell.execute_reply": "2020-10-06T22:03:15.013738Z"
        },
        "papermill": {
          "duration": 13.646468,
          "end_time": "2020-10-06T22:03:15.014510",
          "exception": false,
          "start_time": "2020-10-06T22:03:01.368042",
          "status": "completed"
        },
        "tags": [],
        "colab": {
          "base_uri": "https://localhost:8080/",
          "height": 53
        },
        "id": "gFAx71Vs3i_Q",
        "outputId": "1a66ef90-02cf-4322-8f83-f04e13abde1d"
      },
      "outputs": [
        {
          "output_type": "stream",
          "name": "stdout",
          "text": [
            "1/1 [==============================] - 0s 29ms/step\n"
          ]
        },
        {
          "output_type": "execute_result",
          "data": {
            "text/plain": [
              "'Positive'"
            ],
            "application/vnd.google.colaboratory.intrinsic+json": {
              "type": "string"
            }
          },
          "metadata": {},
          "execution_count": 47
        }
      ],
      "source": [
        "sequence = tokenizer.texts_to_sequences(['i really loved how the technician helped me with the issue that i had'])\n",
        "test = pad_sequences(sequence, maxlen=max_len)\n",
        "sentiment[np.around(best_model.predict(test), decimals=0).argmax(axis=1)[0]]"
      ]
    },
    {
      "cell_type": "markdown",
      "source": [
        "**Testing with test.csv**"
      ],
      "metadata": {
        "id": "hWS5lmHWOmpQ"
      }
    },
    {
      "cell_type": "code",
      "source": [
        "test['sentiment'].unique()"
      ],
      "metadata": {
        "colab": {
          "base_uri": "https://localhost:8080/"
        },
        "id": "JPVKUwz4O3wF",
        "outputId": "4d70dd8b-b854-4a8a-f67b-bde57f054d4d"
      },
      "execution_count": null,
      "outputs": [
        {
          "output_type": "execute_result",
          "data": {
            "text/plain": [
              "array(['Negative', 'Neutral', 'Positive'], dtype=object)"
            ]
          },
          "metadata": {},
          "execution_count": 59
        }
      ]
    },
    {
      "cell_type": "code",
      "source": [
        "test"
      ],
      "metadata": {
        "colab": {
          "base_uri": "https://localhost:8080/",
          "height": 424
        },
        "id": "-mX9osZZn_YR",
        "outputId": "af3f71ed-a75c-4779-e704-0b96aa2e3c85"
      },
      "execution_count": null,
      "outputs": [
        {
          "output_type": "execute_result",
          "data": {
            "text/plain": [
              "                                                   text sentiment\n",
              "0     RT Bitcoin Price Falls As Markets React To FAL...  Negative\n",
              "1     RT 1 terabyte block capacity is coming to Bitc...   Neutral\n",
              "2     bitcoin Is Record Business Optimism A Contrari...   Neutral\n",
              "3     If you want private transactions use a privacy...   Neutral\n",
              "4     As Novo Expects Bitcoin To Kill Other Crypto A...  Negative\n",
              "...                                                 ...       ...\n",
              "5016  The Image MASSter Solo 101 Forensic Hard Drive...  Negative\n",
              "5017  Buy Bitcoin Bitcoin Cash Monero Zcash or Litec...  Positive\n",
              "5018  In April 2016 computer technicians at the Demo...   Neutral\n",
              "5019  The Gentlemen of Crypto EP 129 Bitcoin Blackli...   Neutral\n",
              "5020  Follow this private group before they close fr...  Negative\n",
              "\n",
              "[5021 rows x 2 columns]"
            ],
            "text/html": [
              "\n",
              "  <div id=\"df-17807a8c-1b0c-4c45-b5b3-43b3a5e861d1\">\n",
              "    <div class=\"colab-df-container\">\n",
              "      <div>\n",
              "<style scoped>\n",
              "    .dataframe tbody tr th:only-of-type {\n",
              "        vertical-align: middle;\n",
              "    }\n",
              "\n",
              "    .dataframe tbody tr th {\n",
              "        vertical-align: top;\n",
              "    }\n",
              "\n",
              "    .dataframe thead th {\n",
              "        text-align: right;\n",
              "    }\n",
              "</style>\n",
              "<table border=\"1\" class=\"dataframe\">\n",
              "  <thead>\n",
              "    <tr style=\"text-align: right;\">\n",
              "      <th></th>\n",
              "      <th>text</th>\n",
              "      <th>sentiment</th>\n",
              "    </tr>\n",
              "  </thead>\n",
              "  <tbody>\n",
              "    <tr>\n",
              "      <th>0</th>\n",
              "      <td>RT Bitcoin Price Falls As Markets React To FAL...</td>\n",
              "      <td>Negative</td>\n",
              "    </tr>\n",
              "    <tr>\n",
              "      <th>1</th>\n",
              "      <td>RT 1 terabyte block capacity is coming to Bitc...</td>\n",
              "      <td>Neutral</td>\n",
              "    </tr>\n",
              "    <tr>\n",
              "      <th>2</th>\n",
              "      <td>bitcoin Is Record Business Optimism A Contrari...</td>\n",
              "      <td>Neutral</td>\n",
              "    </tr>\n",
              "    <tr>\n",
              "      <th>3</th>\n",
              "      <td>If you want private transactions use a privacy...</td>\n",
              "      <td>Neutral</td>\n",
              "    </tr>\n",
              "    <tr>\n",
              "      <th>4</th>\n",
              "      <td>As Novo Expects Bitcoin To Kill Other Crypto A...</td>\n",
              "      <td>Negative</td>\n",
              "    </tr>\n",
              "    <tr>\n",
              "      <th>...</th>\n",
              "      <td>...</td>\n",
              "      <td>...</td>\n",
              "    </tr>\n",
              "    <tr>\n",
              "      <th>5016</th>\n",
              "      <td>The Image MASSter Solo 101 Forensic Hard Drive...</td>\n",
              "      <td>Negative</td>\n",
              "    </tr>\n",
              "    <tr>\n",
              "      <th>5017</th>\n",
              "      <td>Buy Bitcoin Bitcoin Cash Monero Zcash or Litec...</td>\n",
              "      <td>Positive</td>\n",
              "    </tr>\n",
              "    <tr>\n",
              "      <th>5018</th>\n",
              "      <td>In April 2016 computer technicians at the Demo...</td>\n",
              "      <td>Neutral</td>\n",
              "    </tr>\n",
              "    <tr>\n",
              "      <th>5019</th>\n",
              "      <td>The Gentlemen of Crypto EP 129 Bitcoin Blackli...</td>\n",
              "      <td>Neutral</td>\n",
              "    </tr>\n",
              "    <tr>\n",
              "      <th>5020</th>\n",
              "      <td>Follow this private group before they close fr...</td>\n",
              "      <td>Negative</td>\n",
              "    </tr>\n",
              "  </tbody>\n",
              "</table>\n",
              "<p>5021 rows × 2 columns</p>\n",
              "</div>\n",
              "      <button class=\"colab-df-convert\" onclick=\"convertToInteractive('df-17807a8c-1b0c-4c45-b5b3-43b3a5e861d1')\"\n",
              "              title=\"Convert this dataframe to an interactive table.\"\n",
              "              style=\"display:none;\">\n",
              "        \n",
              "  <svg xmlns=\"http://www.w3.org/2000/svg\" height=\"24px\"viewBox=\"0 0 24 24\"\n",
              "       width=\"24px\">\n",
              "    <path d=\"M0 0h24v24H0V0z\" fill=\"none\"/>\n",
              "    <path d=\"M18.56 5.44l.94 2.06.94-2.06 2.06-.94-2.06-.94-.94-2.06-.94 2.06-2.06.94zm-11 1L8.5 8.5l.94-2.06 2.06-.94-2.06-.94L8.5 2.5l-.94 2.06-2.06.94zm10 10l.94 2.06.94-2.06 2.06-.94-2.06-.94-.94-2.06-.94 2.06-2.06.94z\"/><path d=\"M17.41 7.96l-1.37-1.37c-.4-.4-.92-.59-1.43-.59-.52 0-1.04.2-1.43.59L10.3 9.45l-7.72 7.72c-.78.78-.78 2.05 0 2.83L4 21.41c.39.39.9.59 1.41.59.51 0 1.02-.2 1.41-.59l7.78-7.78 2.81-2.81c.8-.78.8-2.07 0-2.86zM5.41 20L4 18.59l7.72-7.72 1.47 1.35L5.41 20z\"/>\n",
              "  </svg>\n",
              "      </button>\n",
              "      \n",
              "  <style>\n",
              "    .colab-df-container {\n",
              "      display:flex;\n",
              "      flex-wrap:wrap;\n",
              "      gap: 12px;\n",
              "    }\n",
              "\n",
              "    .colab-df-convert {\n",
              "      background-color: #E8F0FE;\n",
              "      border: none;\n",
              "      border-radius: 50%;\n",
              "      cursor: pointer;\n",
              "      display: none;\n",
              "      fill: #1967D2;\n",
              "      height: 32px;\n",
              "      padding: 0 0 0 0;\n",
              "      width: 32px;\n",
              "    }\n",
              "\n",
              "    .colab-df-convert:hover {\n",
              "      background-color: #E2EBFA;\n",
              "      box-shadow: 0px 1px 2px rgba(60, 64, 67, 0.3), 0px 1px 3px 1px rgba(60, 64, 67, 0.15);\n",
              "      fill: #174EA6;\n",
              "    }\n",
              "\n",
              "    [theme=dark] .colab-df-convert {\n",
              "      background-color: #3B4455;\n",
              "      fill: #D2E3FC;\n",
              "    }\n",
              "\n",
              "    [theme=dark] .colab-df-convert:hover {\n",
              "      background-color: #434B5C;\n",
              "      box-shadow: 0px 1px 3px 1px rgba(0, 0, 0, 0.15);\n",
              "      filter: drop-shadow(0px 1px 2px rgba(0, 0, 0, 0.3));\n",
              "      fill: #FFFFFF;\n",
              "    }\n",
              "  </style>\n",
              "\n",
              "      <script>\n",
              "        const buttonEl =\n",
              "          document.querySelector('#df-17807a8c-1b0c-4c45-b5b3-43b3a5e861d1 button.colab-df-convert');\n",
              "        buttonEl.style.display =\n",
              "          google.colab.kernel.accessAllowed ? 'block' : 'none';\n",
              "\n",
              "        async function convertToInteractive(key) {\n",
              "          const element = document.querySelector('#df-17807a8c-1b0c-4c45-b5b3-43b3a5e861d1');\n",
              "          const dataTable =\n",
              "            await google.colab.kernel.invokeFunction('convertToInteractive',\n",
              "                                                     [key], {});\n",
              "          if (!dataTable) return;\n",
              "\n",
              "          const docLinkHtml = 'Like what you see? Visit the ' +\n",
              "            '<a target=\"_blank\" href=https://colab.research.google.com/notebooks/data_table.ipynb>data table notebook</a>'\n",
              "            + ' to learn more about interactive tables.';\n",
              "          element.innerHTML = '';\n",
              "          dataTable['output_type'] = 'display_data';\n",
              "          await google.colab.output.renderOutput(dataTable, element);\n",
              "          const docLink = document.createElement('div');\n",
              "          docLink.innerHTML = docLinkHtml;\n",
              "          element.appendChild(docLink);\n",
              "        }\n",
              "      </script>\n",
              "    </div>\n",
              "  </div>\n",
              "  "
            ]
          },
          "metadata": {},
          "execution_count": 60
        }
      ]
    },
    {
      "cell_type": "code",
      "source": [
        "test.rename(columns = {'text':'Cleaned_tweets'}, inplace = True)"
      ],
      "metadata": {
        "id": "NW9O00IFeLNl"
      },
      "execution_count": null,
      "outputs": []
    },
    {
      "cell_type": "code",
      "source": [
        "#Is there any null value?\n",
        "test[\"text\"].isnull().sum()"
      ],
      "metadata": {
        "colab": {
          "base_uri": "https://localhost:8080/"
        },
        "id": "MfnKy6XQPFt_",
        "outputId": "99b57f87-b249-4c47-c4b5-09a3eeb7e649"
      },
      "execution_count": null,
      "outputs": [
        {
          "output_type": "execute_result",
          "data": {
            "text/plain": [
              "0"
            ]
          },
          "metadata": {},
          "execution_count": 62
        }
      ]
    },
    {
      "cell_type": "code",
      "source": [
        "t_temp = []\n",
        "#Splitting pd.Series to list\n",
        "data_to_list = test['text'].values.tolist()\n",
        "for i in range(len(data_to_list)):\n",
        "    t_temp.append(depure_data(data_to_list[i]))\n",
        "list(t_temp[:5])"
      ],
      "metadata": {
        "colab": {
          "base_uri": "https://localhost:8080/"
        },
        "id": "P6wLmQuPPrID",
        "outputId": "76ee7f30-5c57-4ffb-e8fd-cb87a9aba8c2"
      },
      "execution_count": null,
      "outputs": [
        {
          "output_type": "execute_result",
          "data": {
            "text/plain": [
              "['RT Bitcoin Price Falls As Markets React To FALSE Japan Binance Threat UPDATED',\n",
              " 'RT 1 terabyte block capacity is coming to Bitcoin Cash and can work while maintaining enough decentralization Joahannes',\n",
              " 'bitcoin Is Record Business Optimism A Contrarian Indicator',\n",
              " 'If you want private transactions use a privacy coin Bitcoin doesn t need to be the worlds next payment sy',\n",
              " 'As Novo Expects Bitcoin To Kill Other Crypto Assets Altseason StillExpected']"
            ]
          },
          "metadata": {},
          "execution_count": 64
        }
      ]
    },
    {
      "cell_type": "code",
      "source": [
        "t_data_words = list(sent_to_words(t_temp))\n",
        "\n",
        "print(t_data_words[:10])"
      ],
      "metadata": {
        "colab": {
          "base_uri": "https://localhost:8080/"
        },
        "id": "IpPtgpHaP442",
        "outputId": "dd0611c4-9b48-4539-9478-0fec7d550fe3"
      },
      "execution_count": null,
      "outputs": [
        {
          "output_type": "stream",
          "name": "stdout",
          "text": [
            "[['rt', 'bitcoin', 'price', 'falls', 'as', 'markets', 'react', 'to', 'false', 'japan', 'binance', 'threat', 'updated'], ['rt', 'terabyte', 'block', 'capacity', 'is', 'coming', 'to', 'bitcoin', 'cash', 'and', 'can', 'work', 'while', 'maintaining', 'enough', 'joahannes'], ['bitcoin', 'is', 'record', 'business', 'optimism', 'contrarian', 'indicator'], ['if', 'you', 'want', 'private', 'transactions', 'use', 'privacy', 'coin', 'bitcoin', 'doesn', 'need', 'to', 'be', 'the', 'worlds', 'next', 'payment', 'sy'], ['as', 'novo', 'expects', 'bitcoin', 'to', 'kill', 'other', 'crypto', 'assets', 'altseason', 'stillexpected'], ['rt', 'free', 'bitcoin', 'litecoin', 'and', 'many', 'other', 'coin', 'mine', 'in', 'easy', 'way'], ['your', 'honesty', 'is', 'superb', 'we', 'would', 'have', 'liked', 'to', 'have', 'been', 'mooning', 'but', 'the', 'reality', 'is', 'years', 'jeez', 'people', 'bitcoin', 'took', 'years', 'lets', 'just', 'relax', 'we', 'are', 'onto', 'winner'], ['the', 'real', 'stark', 'industries', 'nashville', 'startups', 'netherlands', 'madison', 'neworleans', 'seattle', 'brazil', 'indianapolis', 'tokyo', 'detroit', 'pittsburgh', 'paris', 'denver', 'abraaj', 'pittsburgh', 'startup', 'ethereum', 'bitcoin', 'nashville', 'startup', 'eth'], ['block', 'size', 'kb', 'fee', 'kb', 'price', 'btc', 'bitcoincash', 'bch', 'bch', 'bcc', 'bcc'], ['the', 'blockchain', 'platform', 'that', 'makes', 'irritating', 'pop', 'ups', 'obsolete', 'bitcoin']]\n"
          ]
        }
      ]
    },
    {
      "cell_type": "code",
      "source": [
        "len(t_data_words)"
      ],
      "metadata": {
        "colab": {
          "base_uri": "https://localhost:8080/"
        },
        "id": "dfJgTncIP_aa",
        "outputId": "386ac52a-a0db-4218-e91c-ca306ba50b39"
      },
      "execution_count": null,
      "outputs": [
        {
          "output_type": "execute_result",
          "data": {
            "text/plain": [
              "5021"
            ]
          },
          "metadata": {},
          "execution_count": 66
        }
      ]
    },
    {
      "cell_type": "code",
      "source": [
        "test_data = []\n",
        "for i in range(len(t_data_words)):\n",
        "    test_data.append(detokenize(t_data_words[i]))\n",
        "print(test_data[:5])"
      ],
      "metadata": {
        "colab": {
          "base_uri": "https://localhost:8080/"
        },
        "id": "-X5a9YBEQDpq",
        "outputId": "9f146722-ac6b-4210-fad3-75666b19546b"
      },
      "execution_count": null,
      "outputs": [
        {
          "output_type": "stream",
          "name": "stdout",
          "text": [
            "['rt bitcoin price falls as markets react to false japan binance threat updated', 'rt terabyte block capacity is coming to bitcoin cash and can work while maintaining enough joahannes', 'bitcoin is record business optimism contrarian indicator', 'if you want private transactions use privacy coin bitcoin doesn need to be the worlds next payment sy', 'as novo expects bitcoin to kill other crypto assets altseason stillexpected']\n"
          ]
        }
      ]
    },
    {
      "cell_type": "code",
      "source": [
        "test_data = np.array(test_data)"
      ],
      "metadata": {
        "id": "qtRJcaxYQNQ8"
      },
      "execution_count": null,
      "outputs": []
    },
    {
      "cell_type": "code",
      "source": [
        "t_labels = np.array(test['sentiment'])\n",
        "y_test = []\n",
        "\n",
        "\"\"\"\n",
        "for i in range(len(t_labels)):\n",
        "    if t_labels[i] == 0:\n",
        "        y_test.append(0)\n",
        "    if t_labels[i] == -1:\n",
        "        y_test.append(1)\n",
        "    if t_labels[i] == 1:\n",
        "        y_test.append(2)\n",
        "\"\"\"\n",
        "\n",
        "for i in range(len(t_labels)):\n",
        "    if t_labels[i] == \"Neutral\":\n",
        "        y_test.append(0)\n",
        "    if t_labels[i] == \"Negative\":\n",
        "        y_test.append(1)\n",
        "    if t_labels[i] == \"Positive\":\n",
        "        y_test.append(2)\n",
        "\n",
        "y_test = np.array(y_test)\n",
        "t_labels = tf.keras.utils.to_categorical(y_test, 3, dtype=\"float32\")\n",
        "del y_test"
      ],
      "metadata": {
        "id": "eUfHpYdfQYdb"
      },
      "execution_count": null,
      "outputs": []
    },
    {
      "cell_type": "code",
      "source": [
        "len(t_labels)"
      ],
      "metadata": {
        "colab": {
          "base_uri": "https://localhost:8080/"
        },
        "id": "ZpA8YU3ZQ7H3",
        "outputId": "38d8af94-3c9a-4e6d-841a-42ca47edb5e9"
      },
      "execution_count": null,
      "outputs": [
        {
          "output_type": "execute_result",
          "data": {
            "text/plain": [
              "5021"
            ]
          },
          "metadata": {},
          "execution_count": 71
        }
      ]
    },
    {
      "cell_type": "code",
      "source": [
        "test"
      ],
      "metadata": {
        "colab": {
          "base_uri": "https://localhost:8080/",
          "height": 424
        },
        "id": "7O83tn_nARXb",
        "outputId": "958b5e99-51c3-4ce5-eedd-52f4770590c9"
      },
      "execution_count": null,
      "outputs": [
        {
          "output_type": "execute_result",
          "data": {
            "text/plain": [
              "                                                   text sentiment\n",
              "0     RT Bitcoin Price Falls As Markets React To FAL...  Negative\n",
              "1     RT 1 terabyte block capacity is coming to Bitc...   Neutral\n",
              "2     bitcoin Is Record Business Optimism A Contrari...   Neutral\n",
              "3     If you want private transactions use a privacy...   Neutral\n",
              "4     As Novo Expects Bitcoin To Kill Other Crypto A...  Negative\n",
              "...                                                 ...       ...\n",
              "5016  The Image MASSter Solo 101 Forensic Hard Drive...  Negative\n",
              "5017  Buy Bitcoin Bitcoin Cash Monero Zcash or Litec...  Positive\n",
              "5018  In April 2016 computer technicians at the Demo...   Neutral\n",
              "5019  The Gentlemen of Crypto EP 129 Bitcoin Blackli...   Neutral\n",
              "5020  Follow this private group before they close fr...  Negative\n",
              "\n",
              "[5021 rows x 2 columns]"
            ],
            "text/html": [
              "\n",
              "  <div id=\"df-15a4b8aa-e8f6-481d-9a08-c123bff65149\">\n",
              "    <div class=\"colab-df-container\">\n",
              "      <div>\n",
              "<style scoped>\n",
              "    .dataframe tbody tr th:only-of-type {\n",
              "        vertical-align: middle;\n",
              "    }\n",
              "\n",
              "    .dataframe tbody tr th {\n",
              "        vertical-align: top;\n",
              "    }\n",
              "\n",
              "    .dataframe thead th {\n",
              "        text-align: right;\n",
              "    }\n",
              "</style>\n",
              "<table border=\"1\" class=\"dataframe\">\n",
              "  <thead>\n",
              "    <tr style=\"text-align: right;\">\n",
              "      <th></th>\n",
              "      <th>text</th>\n",
              "      <th>sentiment</th>\n",
              "    </tr>\n",
              "  </thead>\n",
              "  <tbody>\n",
              "    <tr>\n",
              "      <th>0</th>\n",
              "      <td>RT Bitcoin Price Falls As Markets React To FAL...</td>\n",
              "      <td>Negative</td>\n",
              "    </tr>\n",
              "    <tr>\n",
              "      <th>1</th>\n",
              "      <td>RT 1 terabyte block capacity is coming to Bitc...</td>\n",
              "      <td>Neutral</td>\n",
              "    </tr>\n",
              "    <tr>\n",
              "      <th>2</th>\n",
              "      <td>bitcoin Is Record Business Optimism A Contrari...</td>\n",
              "      <td>Neutral</td>\n",
              "    </tr>\n",
              "    <tr>\n",
              "      <th>3</th>\n",
              "      <td>If you want private transactions use a privacy...</td>\n",
              "      <td>Neutral</td>\n",
              "    </tr>\n",
              "    <tr>\n",
              "      <th>4</th>\n",
              "      <td>As Novo Expects Bitcoin To Kill Other Crypto A...</td>\n",
              "      <td>Negative</td>\n",
              "    </tr>\n",
              "    <tr>\n",
              "      <th>...</th>\n",
              "      <td>...</td>\n",
              "      <td>...</td>\n",
              "    </tr>\n",
              "    <tr>\n",
              "      <th>5016</th>\n",
              "      <td>The Image MASSter Solo 101 Forensic Hard Drive...</td>\n",
              "      <td>Negative</td>\n",
              "    </tr>\n",
              "    <tr>\n",
              "      <th>5017</th>\n",
              "      <td>Buy Bitcoin Bitcoin Cash Monero Zcash or Litec...</td>\n",
              "      <td>Positive</td>\n",
              "    </tr>\n",
              "    <tr>\n",
              "      <th>5018</th>\n",
              "      <td>In April 2016 computer technicians at the Demo...</td>\n",
              "      <td>Neutral</td>\n",
              "    </tr>\n",
              "    <tr>\n",
              "      <th>5019</th>\n",
              "      <td>The Gentlemen of Crypto EP 129 Bitcoin Blackli...</td>\n",
              "      <td>Neutral</td>\n",
              "    </tr>\n",
              "    <tr>\n",
              "      <th>5020</th>\n",
              "      <td>Follow this private group before they close fr...</td>\n",
              "      <td>Negative</td>\n",
              "    </tr>\n",
              "  </tbody>\n",
              "</table>\n",
              "<p>5021 rows × 2 columns</p>\n",
              "</div>\n",
              "      <button class=\"colab-df-convert\" onclick=\"convertToInteractive('df-15a4b8aa-e8f6-481d-9a08-c123bff65149')\"\n",
              "              title=\"Convert this dataframe to an interactive table.\"\n",
              "              style=\"display:none;\">\n",
              "        \n",
              "  <svg xmlns=\"http://www.w3.org/2000/svg\" height=\"24px\"viewBox=\"0 0 24 24\"\n",
              "       width=\"24px\">\n",
              "    <path d=\"M0 0h24v24H0V0z\" fill=\"none\"/>\n",
              "    <path d=\"M18.56 5.44l.94 2.06.94-2.06 2.06-.94-2.06-.94-.94-2.06-.94 2.06-2.06.94zm-11 1L8.5 8.5l.94-2.06 2.06-.94-2.06-.94L8.5 2.5l-.94 2.06-2.06.94zm10 10l.94 2.06.94-2.06 2.06-.94-2.06-.94-.94-2.06-.94 2.06-2.06.94z\"/><path d=\"M17.41 7.96l-1.37-1.37c-.4-.4-.92-.59-1.43-.59-.52 0-1.04.2-1.43.59L10.3 9.45l-7.72 7.72c-.78.78-.78 2.05 0 2.83L4 21.41c.39.39.9.59 1.41.59.51 0 1.02-.2 1.41-.59l7.78-7.78 2.81-2.81c.8-.78.8-2.07 0-2.86zM5.41 20L4 18.59l7.72-7.72 1.47 1.35L5.41 20z\"/>\n",
              "  </svg>\n",
              "      </button>\n",
              "      \n",
              "  <style>\n",
              "    .colab-df-container {\n",
              "      display:flex;\n",
              "      flex-wrap:wrap;\n",
              "      gap: 12px;\n",
              "    }\n",
              "\n",
              "    .colab-df-convert {\n",
              "      background-color: #E8F0FE;\n",
              "      border: none;\n",
              "      border-radius: 50%;\n",
              "      cursor: pointer;\n",
              "      display: none;\n",
              "      fill: #1967D2;\n",
              "      height: 32px;\n",
              "      padding: 0 0 0 0;\n",
              "      width: 32px;\n",
              "    }\n",
              "\n",
              "    .colab-df-convert:hover {\n",
              "      background-color: #E2EBFA;\n",
              "      box-shadow: 0px 1px 2px rgba(60, 64, 67, 0.3), 0px 1px 3px 1px rgba(60, 64, 67, 0.15);\n",
              "      fill: #174EA6;\n",
              "    }\n",
              "\n",
              "    [theme=dark] .colab-df-convert {\n",
              "      background-color: #3B4455;\n",
              "      fill: #D2E3FC;\n",
              "    }\n",
              "\n",
              "    [theme=dark] .colab-df-convert:hover {\n",
              "      background-color: #434B5C;\n",
              "      box-shadow: 0px 1px 3px 1px rgba(0, 0, 0, 0.15);\n",
              "      filter: drop-shadow(0px 1px 2px rgba(0, 0, 0, 0.3));\n",
              "      fill: #FFFFFF;\n",
              "    }\n",
              "  </style>\n",
              "\n",
              "      <script>\n",
              "        const buttonEl =\n",
              "          document.querySelector('#df-15a4b8aa-e8f6-481d-9a08-c123bff65149 button.colab-df-convert');\n",
              "        buttonEl.style.display =\n",
              "          google.colab.kernel.accessAllowed ? 'block' : 'none';\n",
              "\n",
              "        async function convertToInteractive(key) {\n",
              "          const element = document.querySelector('#df-15a4b8aa-e8f6-481d-9a08-c123bff65149');\n",
              "          const dataTable =\n",
              "            await google.colab.kernel.invokeFunction('convertToInteractive',\n",
              "                                                     [key], {});\n",
              "          if (!dataTable) return;\n",
              "\n",
              "          const docLinkHtml = 'Like what you see? Visit the ' +\n",
              "            '<a target=\"_blank\" href=https://colab.research.google.com/notebooks/data_table.ipynb>data table notebook</a>'\n",
              "            + ' to learn more about interactive tables.';\n",
              "          element.innerHTML = '';\n",
              "          dataTable['output_type'] = 'display_data';\n",
              "          await google.colab.output.renderOutput(dataTable, element);\n",
              "          const docLink = document.createElement('div');\n",
              "          docLink.innerHTML = docLinkHtml;\n",
              "          element.appendChild(docLink);\n",
              "        }\n",
              "      </script>\n",
              "    </div>\n",
              "  </div>\n",
              "  "
            ]
          },
          "metadata": {},
          "execution_count": 72
        }
      ]
    },
    {
      "cell_type": "code",
      "source": [
        "t_labels"
      ],
      "metadata": {
        "colab": {
          "base_uri": "https://localhost:8080/"
        },
        "id": "jDkx0AzWRX9M",
        "outputId": "ef0be10c-8fda-46b8-cad2-79589207eaec"
      },
      "execution_count": null,
      "outputs": [
        {
          "output_type": "execute_result",
          "data": {
            "text/plain": [
              "array([[0., 1., 0.],\n",
              "       [1., 0., 0.],\n",
              "       [1., 0., 0.],\n",
              "       ...,\n",
              "       [1., 0., 0.],\n",
              "       [1., 0., 0.],\n",
              "       [0., 1., 0.]], dtype=float32)"
            ]
          },
          "metadata": {},
          "execution_count": 73
        }
      ]
    },
    {
      "cell_type": "code",
      "source": [
        "tokenizer.fit_on_texts(test_data)\n",
        "sequences = tokenizer.texts_to_sequences(test_data)\n",
        "t_tweets = pad_sequences(sequences, maxlen=max_len)\n",
        "print(t_tweets)"
      ],
      "metadata": {
        "colab": {
          "base_uri": "https://localhost:8080/"
        },
        "id": "x44999G7RbZy",
        "outputId": "6e6483f5-f8a1-459e-ec90-d88a00e87094"
      },
      "execution_count": null,
      "outputs": [
        {
          "output_type": "stream",
          "name": "stdout",
          "text": [
            "[[   0    0    0 ...   72 1278 1205]\n",
            " [   0    0    0 ...  301  325  818]\n",
            " [   0    0    0 ...  207 4577 2661]\n",
            " ...\n",
            " [   0    0    0 ...  653   80    1]\n",
            " [   0    0    0 ... 1059   28  426]\n",
            " [   0    0    0 ...  405   73  118]]\n"
          ]
        }
      ]
    },
    {
      "cell_type": "code",
      "source": [
        "#Splitting the data\n",
        "X_t_test, y_t_test = t_tweets, t_labels\n",
        "print (len(X_t_test),len(y_t_test))"
      ],
      "metadata": {
        "colab": {
          "base_uri": "https://localhost:8080/"
        },
        "id": "C6Y9zYJaRtuw",
        "outputId": "96b31a5d-840d-4753-9c0a-41256243d554"
      },
      "execution_count": null,
      "outputs": [
        {
          "output_type": "stream",
          "name": "stdout",
          "text": [
            "5021 5021\n"
          ]
        }
      ]
    },
    {
      "cell_type": "code",
      "source": [
        "t_predictions = best_model.predict(X_t_test)"
      ],
      "metadata": {
        "colab": {
          "base_uri": "https://localhost:8080/"
        },
        "id": "aSNZQTOETCcB",
        "outputId": "b6137cef-6513-434d-fff3-ef0243b22fa4"
      },
      "execution_count": null,
      "outputs": [
        {
          "output_type": "stream",
          "name": "stdout",
          "text": [
            "157/157 [==============================] - 3s 17ms/step\n"
          ]
        }
      ]
    },
    {
      "cell_type": "code",
      "source": [
        "t_predictions.shape"
      ],
      "metadata": {
        "colab": {
          "base_uri": "https://localhost:8080/"
        },
        "id": "WZVM16tnAqir",
        "outputId": "27ecf09e-e827-4dea-cb51-65df581efba0"
      },
      "execution_count": null,
      "outputs": [
        {
          "output_type": "execute_result",
          "data": {
            "text/plain": [
              "(5021, 3)"
            ]
          },
          "metadata": {},
          "execution_count": 77
        }
      ]
    },
    {
      "cell_type": "code",
      "source": [
        "t_predictions = np.around(t_predictions, decimals=0)\n",
        "y_true=np.argmax(y_t_test, axis=1)\n",
        "y_pred=np.argmax(t_predictions, axis=1)"
      ],
      "metadata": {
        "id": "DgKrnlbxTTIL"
      },
      "execution_count": null,
      "outputs": []
    },
    {
      "cell_type": "code",
      "source": [
        "from sklearn.metrics import accuracy_score\n",
        "\n",
        "print('Prediction Accuracy:', \"{:.2f}\".format(100*accuracy_score(y_true, y_pred))+\"%\")"
      ],
      "metadata": {
        "colab": {
          "base_uri": "https://localhost:8080/"
        },
        "id": "g6g8aUKGTrgF",
        "outputId": "3abd619a-d16e-4bc5-8ff6-2dd8ee102d48"
      },
      "execution_count": null,
      "outputs": [
        {
          "output_type": "stream",
          "name": "stdout",
          "text": [
            "Prediction Accuracy: 47.02%\n"
          ]
        }
      ]
    },
    {
      "cell_type": "code",
      "source": [
        "t_predictions"
      ],
      "metadata": {
        "colab": {
          "base_uri": "https://localhost:8080/"
        },
        "id": "zyRa9XjBUnOx",
        "outputId": "6c9cc8e5-1cc9-4de8-cc8a-d6da6aaf0273"
      },
      "execution_count": null,
      "outputs": [
        {
          "output_type": "execute_result",
          "data": {
            "text/plain": [
              "array([[0., 0., 1.],\n",
              "       [1., 0., 0.],\n",
              "       [0., 0., 1.],\n",
              "       ...,\n",
              "       [0., 1., 0.],\n",
              "       [0., 0., 1.],\n",
              "       [0., 1., 0.]], dtype=float32)"
            ]
          },
          "metadata": {},
          "execution_count": 80
        }
      ]
    },
    {
      "cell_type": "code",
      "source": [
        "t_matrix = confusion_matrix(y_t_test.argmax(axis=1), np.around(t_predictions, decimals=0).argmax(axis=1))"
      ],
      "metadata": {
        "id": "VeSJo0w1UyQV"
      },
      "execution_count": null,
      "outputs": []
    },
    {
      "cell_type": "code",
      "source": [
        "conf_matrix = pd.DataFrame(t_matrix, index = ['Neutral','Negative','Positive'],columns = ['Neutral','Negative','Positive'])\n",
        "#Normalizing\n",
        "conf_matrix = conf_matrix.astype('float') / conf_matrix.sum(axis=1)[:, np.newaxis]\n",
        "plt.figure(figsize = (15,15))\n",
        "sns.heatmap(conf_matrix, annot=True, annot_kws={\"size\": 15})"
      ],
      "metadata": {
        "colab": {
          "base_uri": "https://localhost:8080/",
          "height": 881
        },
        "id": "JIGADGbvVEBl",
        "outputId": "05c53025-9932-4ffc-c4d2-7e4a1de7e2d0"
      },
      "execution_count": null,
      "outputs": [
        {
          "output_type": "execute_result",
          "data": {
            "text/plain": [
              "<matplotlib.axes._subplots.AxesSubplot at 0x7f9dabfdabe0>"
            ]
          },
          "metadata": {},
          "execution_count": 82
        },
        {
          "output_type": "display_data",
          "data": {
            "text/plain": [
              "<Figure size 1080x1080 with 2 Axes>"
            ],
            "image/png": "[encoded data removed]"
          },
          "metadata": {
            "needs_background": "light"
          }
        }
      ]
    }
  ],
  "metadata": {
    "kernelspec": {
      "display_name": "Python 3",
      "language": "python",
      "name": "python3"
    },
    "language_info": {
      "codemirror_mode": {
        "name": "ipython",
        "version": 3
      },
      "file_extension": ".py",
      "mimetype": "text/x-python",
      "name": "python",
      "nbconvert_exporter": "python",
      "pygments_lexer": "ipython3",
      "version": "3.7.6"
    },
    "papermill": {
      "duration": 2724.650172,
      "end_time": "2020-10-06T22:04:52.151005",
      "environment_variables": {},
      "exception": null,
      "input_path": "__notebook__.ipynb",
      "output_path": "__notebook__.ipynb",
      "parameters": {},
      "start_time": "2020-10-06T21:19:27.500833",
      "version": "2.1.0"
    },
    "colab": {
      "provenance": []
    }
  },
  "nbformat": 4,
  "nbformat_minor": 0
}