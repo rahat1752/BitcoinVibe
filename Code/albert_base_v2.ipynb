{
  "metadata": {
    "kernelspec": {
      "language": "python",
      "display_name": "Python 3",
      "name": "python3"
    },
    "language_info": {
      "name": "python",
      "version": "3.7.12",
      "mimetype": "text/x-python",
      "codemirror_mode": {
        "name": "ipython",
        "version": 3
      },
      "pygments_lexer": "ipython3",
      "nbconvert_exporter": "python",
      "file_extension": ".py"
    },
    "colab": {
      "provenance": []
    },
    "accelerator": "GPU",
    "gpuClass": "standard"
  },
  "nbformat_minor": 0,
  "nbformat": 4,
  "cells": [
    {
      "cell_type": "code",
      "source": [
        "from google.colab import drive\n",
        "drive.mount('/content/drive/')"
      ],
      "metadata": {
        "colab": {
          "base_uri": "https://localhost:8080/"
        },
        "id": "qcG68tCDdWjo",
        "outputId": "53210701-aafb-40a1-cafa-d6467aabf304"
      },
      "execution_count": null,
      "outputs": [
        {
          "output_type": "stream",
          "name": "stdout",
          "text": [
            "Drive already mounted at /content/drive/; to attempt to forcibly remount, call drive.mount(\"/content/drive/\", force_remount=True).\n"
          ]
        }
      ]
    },
    {
      "cell_type": "code",
      "source": [
        "#!pip install transformers\n",
        "!pip install transformers[SentencePiece]"
      ],
      "metadata": {
        "colab": {
          "base_uri": "https://localhost:8080/"
        },
        "id": "k9-uym1_dluT",
        "outputId": "b1d3bfb9-517e-4f59-da03-575bc571cfd3"
      },
      "execution_count": null,
      "outputs": [
        {
          "output_type": "stream",
          "name": "stdout",
          "text": [
            "Looking in indexes: https://pypi.org/simple, https://us-python.pkg.dev/colab-wheels/public/simple/\n",
            "Requirement already satisfied: transformers[SentencePiece] in /usr/local/lib/python3.8/dist-packages (4.26.1)\n",
            "Requirement already satisfied: packaging>=20.0 in /usr/local/lib/python3.8/dist-packages (from transformers[SentencePiece]) (23.0)\n",
            "Requirement already satisfied: numpy>=1.17 in /usr/local/lib/python3.8/dist-packages (from transformers[SentencePiece]) (1.21.6)\n",
            "Requirement already satisfied: tqdm>=4.27 in /usr/local/lib/python3.8/dist-packages (from transformers[SentencePiece]) (4.64.1)\n",
            "Requirement already satisfied: huggingface-hub<1.0,>=0.11.0 in /usr/local/lib/python3.8/dist-packages (from transformers[SentencePiece]) (0.12.1)\n",
            "Requirement already satisfied: tokenizers!=0.11.3,<0.14,>=0.11.1 in /usr/local/lib/python3.8/dist-packages (from transformers[SentencePiece]) (0.13.2)\n",
            "Requirement already satisfied: pyyaml>=5.1 in /usr/local/lib/python3.8/dist-packages (from transformers[SentencePiece]) (6.0)\n",
            "Requirement already satisfied: regex!=2019.12.17 in /usr/local/lib/python3.8/dist-packages (from transformers[SentencePiece]) (2022.6.2)\n",
            "Requirement already satisfied: filelock in /usr/local/lib/python3.8/dist-packages (from transformers[SentencePiece]) (3.9.0)\n",
            "Requirement already satisfied: requests in /usr/local/lib/python3.8/dist-packages (from transformers[SentencePiece]) (2.25.1)\n",
            "Requirement already satisfied: sentencepiece!=0.1.92,>=0.1.91 in /usr/local/lib/python3.8/dist-packages (from transformers[SentencePiece]) (0.1.97)\n",
            "Requirement already satisfied: protobuf<=3.20.2 in /usr/local/lib/python3.8/dist-packages (from transformers[SentencePiece]) (3.19.6)\n",
            "Requirement already satisfied: typing-extensions>=3.7.4.3 in /usr/local/lib/python3.8/dist-packages (from huggingface-hub<1.0,>=0.11.0->transformers[SentencePiece]) (4.5.0)\n",
            "Requirement already satisfied: chardet<5,>=3.0.2 in /usr/local/lib/python3.8/dist-packages (from requests->transformers[SentencePiece]) (4.0.0)\n",
            "Requirement already satisfied: idna<3,>=2.5 in /usr/local/lib/python3.8/dist-packages (from requests->transformers[SentencePiece]) (2.10)\n",
            "Requirement already satisfied: certifi>=2017.4.17 in /usr/local/lib/python3.8/dist-packages (from requests->transformers[SentencePiece]) (2022.12.7)\n",
            "Requirement already satisfied: urllib3<1.27,>=1.21.1 in /usr/local/lib/python3.8/dist-packages (from requests->transformers[SentencePiece]) (1.24.3)\n"
          ]
        }
      ]
    },
    {
      "cell_type": "code",
      "source": [
        "#general purpose packages\n",
        "import numpy as np\n",
        "import pandas as pd\n",
        "import tensorflow as tf\n",
        "import matplotlib.pyplot as plt\n",
        "import seaborn as sns\n",
        "\n",
        "#data processing\n",
        "import re, string\n",
        "import nltk\n",
        "\n",
        "from sklearn import preprocessing\n",
        "from imblearn.over_sampling import RandomOverSampler\n",
        "from sklearn.model_selection import train_test_split\n",
        "\n",
        "\n",
        "#Naive Bayes\n",
        "from sklearn.feature_extraction.text import CountVectorizer\n",
        "from sklearn.feature_extraction.text import TfidfTransformer\n",
        "from sklearn.naive_bayes import MultinomialNB\n",
        "\n",
        "#transformers\n",
        "from transformers import BertTokenizerFast\n",
        "from transformers import TFBertModel\n",
        "from transformers import RobertaTokenizerFast\n",
        "from transformers import TFRobertaModel\n",
        "\n",
        "#keras\n",
        "import tensorflow as tf\n",
        "from tensorflow import keras\n",
        "\n",
        "\n",
        "#metrics\n",
        "from sklearn.metrics import accuracy_score, f1_score\n",
        "from sklearn.metrics import classification_report, confusion_matrix\n",
        "\n",
        "#set seed for reproducibility\n",
        "seed=42\n",
        "\n",
        "#set style for plots\n",
        "sns.set_style(\"whitegrid\")\n",
        "sns.despine()\n",
        "plt.style.use(\"seaborn-whitegrid\")\n",
        "plt.rc(\"figure\", autolayout=True)\n",
        "plt.rc(\"axes\", labelweight=\"bold\", labelsize=\"large\", titleweight=\"bold\", titlepad=10)\n"
      ],
      "metadata": {
        "execution": {
          "iopub.status.busy": "2023-02-10T16:02:44.420848Z",
          "iopub.execute_input": "2023-02-10T16:02:44.421109Z",
          "iopub.status.idle": "2023-02-10T16:02:52.793798Z",
          "shell.execute_reply.started": "2023-02-10T16:02:44.421080Z",
          "shell.execute_reply": "2023-02-10T16:02:52.793096Z"
        },
        "trusted": true,
        "colab": {
          "base_uri": "https://localhost:8080/",
          "height": 35
        },
        "id": "K8-ZYdEddL4i",
        "outputId": "e161e180-6832-443a-ec89-0fd6d67c6e19"
      },
      "execution_count": null,
      "outputs": [
        {
          "output_type": "display_data",
          "data": {
            "text/plain": [
              "<Figure size 432x288 with 0 Axes>"
            ]
          },
          "metadata": {}
        }
      ]
    },
    {
      "cell_type": "markdown",
      "source": [
        "## Custom functions definition:"
      ],
      "metadata": {
        "id": "QHn9BPV0dL4n"
      }
    },
    {
      "cell_type": "code",
      "source": [
        "def conf_matrix(y, y_pred, title):\n",
        "    fig, ax =plt.subplots(figsize=(5,5))\n",
        "    labels=['Negative', 'Neutral', 'Positive']\n",
        "    ax=sns.heatmap(confusion_matrix(y, y_pred), annot=True, cmap=\"Blues\", fmt='g', cbar=False, annot_kws={\"size\":25})\n",
        "    plt.title(title, fontsize=20)\n",
        "    ax.xaxis.set_ticklabels(labels, fontsize=17) \n",
        "    ax.yaxis.set_ticklabels(labels, fontsize=17)\n",
        "    ax.set_ylabel('Test', fontsize=20)\n",
        "    ax.set_xlabel('Predicted', fontsize=20)\n",
        "    plt.show()"
      ],
      "metadata": {
        "_kg_hide-input": true,
        "execution": {
          "iopub.status.busy": "2023-02-10T16:02:59.385902Z",
          "iopub.execute_input": "2023-02-10T16:02:59.386164Z",
          "iopub.status.idle": "2023-02-10T16:02:59.393027Z",
          "shell.execute_reply.started": "2023-02-10T16:02:59.386134Z",
          "shell.execute_reply": "2023-02-10T16:02:59.392276Z"
        },
        "trusted": true,
        "id": "bK44mqEJdL4o"
      },
      "execution_count": null,
      "outputs": []
    },
    {
      "cell_type": "markdown",
      "source": [
        "# Loading the data"
      ],
      "metadata": {
        "id": "zxtTlZ7udL4q"
      }
    },
    {
      "cell_type": "code",
      "source": [
        "dff = pd.read_csv('/content/drive/MyDrive/Models/annotated_3cat_3_random.csv')"
      ],
      "metadata": {
        "execution": {
          "iopub.status.busy": "2023-02-10T16:03:45.659904Z",
          "iopub.execute_input": "2023-02-10T16:03:45.660165Z",
          "iopub.status.idle": "2023-02-10T16:03:45.737525Z",
          "shell.execute_reply.started": "2023-02-10T16:03:45.660136Z",
          "shell.execute_reply": "2023-02-10T16:03:45.736700Z"
        },
        "trusted": true,
        "id": "_KP76jyNdL4r"
      },
      "execution_count": null,
      "outputs": []
    },
    {
      "cell_type": "code",
      "source": [
        "dff.dropna(inplace=True)\n",
        "dff"
      ],
      "metadata": {
        "execution": {
          "iopub.status.busy": "2023-02-10T16:03:51.408692Z",
          "iopub.execute_input": "2023-02-10T16:03:51.408948Z",
          "iopub.status.idle": "2023-02-10T16:03:51.425219Z",
          "shell.execute_reply.started": "2023-02-10T16:03:51.408920Z",
          "shell.execute_reply": "2023-02-10T16:03:51.424259Z"
        },
        "trusted": true,
        "colab": {
          "base_uri": "https://localhost:8080/",
          "height": 423
        },
        "id": "gEdsk9qgdL4s",
        "outputId": "b14542cd-c36e-48ef-d156-7c38fc184fd1"
      },
      "execution_count": null,
      "outputs": [
        {
          "output_type": "execute_result",
          "data": {
            "text/plain": [
              "                                                    text Sentiment\n",
              "0      Bitcoin is unfolding like the dot com crash ju...   Neutral\n",
              "1      XEM Price is 0 00003330 0 00000044 BTC 0 28641...  Negative\n",
              "2      RT Bitcoin daily snapshot 24hr CHANGE 6 4 OUTL...   Neutral\n",
              "3      Dutch Court Finds Bitcoin A Legitimate Transfe...   Neutral\n",
              "4      BTC STEEM AskRate 0 00024274 Bittrex STEEM STE...  Positive\n",
              "...                                                  ...       ...\n",
              "25098  The Image MASSter Solo 101 Forensic Hard Drive...  Negative\n",
              "25099  Buy Bitcoin Bitcoin Cash Monero Zcash or Litec...  Positive\n",
              "25100  In April 2016 computer technicians at the Demo...   Neutral\n",
              "25101  The Gentlemen of Crypto EP 129 Bitcoin Blackli...   Neutral\n",
              "25102  Follow this private group before they close fr...  Negative\n",
              "\n",
              "[25101 rows x 2 columns]"
            ],
            "text/html": [
              "\n",
              "  <div id=\"df-dddd7fb4-7b91-4c32-8b52-6b549933c19b\">\n",
              "    <div class=\"colab-df-container\">\n",
              "      <div>\n",
              "<style scoped>\n",
              "    .dataframe tbody tr th:only-of-type {\n",
              "        vertical-align: middle;\n",
              "    }\n",
              "\n",
              "    .dataframe tbody tr th {\n",
              "        vertical-align: top;\n",
              "    }\n",
              "\n",
              "    .dataframe thead th {\n",
              "        text-align: right;\n",
              "    }\n",
              "</style>\n",
              "<table border=\"1\" class=\"dataframe\">\n",
              "  <thead>\n",
              "    <tr style=\"text-align: right;\">\n",
              "      <th></th>\n",
              "      <th>text</th>\n",
              "      <th>Sentiment</th>\n",
              "    </tr>\n",
              "  </thead>\n",
              "  <tbody>\n",
              "    <tr>\n",
              "      <th>0</th>\n",
              "      <td>Bitcoin is unfolding like the dot com crash ju...</td>\n",
              "      <td>Neutral</td>\n",
              "    </tr>\n",
              "    <tr>\n",
              "      <th>1</th>\n",
              "      <td>XEM Price is 0 00003330 0 00000044 BTC 0 28641...</td>\n",
              "      <td>Negative</td>\n",
              "    </tr>\n",
              "    <tr>\n",
              "      <th>2</th>\n",
              "      <td>RT Bitcoin daily snapshot 24hr CHANGE 6 4 OUTL...</td>\n",
              "      <td>Neutral</td>\n",
              "    </tr>\n",
              "    <tr>\n",
              "      <th>3</th>\n",
              "      <td>Dutch Court Finds Bitcoin A Legitimate Transfe...</td>\n",
              "      <td>Neutral</td>\n",
              "    </tr>\n",
              "    <tr>\n",
              "      <th>4</th>\n",
              "      <td>BTC STEEM AskRate 0 00024274 Bittrex STEEM STE...</td>\n",
              "      <td>Positive</td>\n",
              "    </tr>\n",
              "    <tr>\n",
              "      <th>...</th>\n",
              "      <td>...</td>\n",
              "      <td>...</td>\n",
              "    </tr>\n",
              "    <tr>\n",
              "      <th>25098</th>\n",
              "      <td>The Image MASSter Solo 101 Forensic Hard Drive...</td>\n",
              "      <td>Negative</td>\n",
              "    </tr>\n",
              "    <tr>\n",
              "      <th>25099</th>\n",
              "      <td>Buy Bitcoin Bitcoin Cash Monero Zcash or Litec...</td>\n",
              "      <td>Positive</td>\n",
              "    </tr>\n",
              "    <tr>\n",
              "      <th>25100</th>\n",
              "      <td>In April 2016 computer technicians at the Demo...</td>\n",
              "      <td>Neutral</td>\n",
              "    </tr>\n",
              "    <tr>\n",
              "      <th>25101</th>\n",
              "      <td>The Gentlemen of Crypto EP 129 Bitcoin Blackli...</td>\n",
              "      <td>Neutral</td>\n",
              "    </tr>\n",
              "    <tr>\n",
              "      <th>25102</th>\n",
              "      <td>Follow this private group before they close fr...</td>\n",
              "      <td>Negative</td>\n",
              "    </tr>\n",
              "  </tbody>\n",
              "</table>\n",
              "<p>25101 rows × 2 columns</p>\n",
              "</div>\n",
              "      <button class=\"colab-df-convert\" onclick=\"convertToInteractive('df-dddd7fb4-7b91-4c32-8b52-6b549933c19b')\"\n",
              "              title=\"Convert this dataframe to an interactive table.\"\n",
              "              style=\"display:none;\">\n",
              "        \n",
              "  <svg xmlns=\"http://www.w3.org/2000/svg\" height=\"24px\"viewBox=\"0 0 24 24\"\n",
              "       width=\"24px\">\n",
              "    <path d=\"M0 0h24v24H0V0z\" fill=\"none\"/>\n",
              "    <path d=\"M18.56 5.44l.94 2.06.94-2.06 2.06-.94-2.06-.94-.94-2.06-.94 2.06-2.06.94zm-11 1L8.5 8.5l.94-2.06 2.06-.94-2.06-.94L8.5 2.5l-.94 2.06-2.06.94zm10 10l.94 2.06.94-2.06 2.06-.94-2.06-.94-.94-2.06-.94 2.06-2.06.94z\"/><path d=\"M17.41 7.96l-1.37-1.37c-.4-.4-.92-.59-1.43-.59-.52 0-1.04.2-1.43.59L10.3 9.45l-7.72 7.72c-.78.78-.78 2.05 0 2.83L4 21.41c.39.39.9.59 1.41.59.51 0 1.02-.2 1.41-.59l7.78-7.78 2.81-2.81c.8-.78.8-2.07 0-2.86zM5.41 20L4 18.59l7.72-7.72 1.47 1.35L5.41 20z\"/>\n",
              "  </svg>\n",
              "      </button>\n",
              "      \n",
              "  <style>\n",
              "    .colab-df-container {\n",
              "      display:flex;\n",
              "      flex-wrap:wrap;\n",
              "      gap: 12px;\n",
              "    }\n",
              "\n",
              "    .colab-df-convert {\n",
              "      background-color: #E8F0FE;\n",
              "      border: none;\n",
              "      border-radius: 50%;\n",
              "      cursor: pointer;\n",
              "      display: none;\n",
              "      fill: #1967D2;\n",
              "      height: 32px;\n",
              "      padding: 0 0 0 0;\n",
              "      width: 32px;\n",
              "    }\n",
              "\n",
              "    .colab-df-convert:hover {\n",
              "      background-color: #E2EBFA;\n",
              "      box-shadow: 0px 1px 2px rgba(60, 64, 67, 0.3), 0px 1px 3px 1px rgba(60, 64, 67, 0.15);\n",
              "      fill: #174EA6;\n",
              "    }\n",
              "\n",
              "    [theme=dark] .colab-df-convert {\n",
              "      background-color: #3B4455;\n",
              "      fill: #D2E3FC;\n",
              "    }\n",
              "\n",
              "    [theme=dark] .colab-df-convert:hover {\n",
              "      background-color: #434B5C;\n",
              "      box-shadow: 0px 1px 3px 1px rgba(0, 0, 0, 0.15);\n",
              "      filter: drop-shadow(0px 1px 2px rgba(0, 0, 0, 0.3));\n",
              "      fill: #FFFFFF;\n",
              "    }\n",
              "  </style>\n",
              "\n",
              "      <script>\n",
              "        const buttonEl =\n",
              "          document.querySelector('#df-dddd7fb4-7b91-4c32-8b52-6b549933c19b button.colab-df-convert');\n",
              "        buttonEl.style.display =\n",
              "          google.colab.kernel.accessAllowed ? 'block' : 'none';\n",
              "\n",
              "        async function convertToInteractive(key) {\n",
              "          const element = document.querySelector('#df-dddd7fb4-7b91-4c32-8b52-6b549933c19b');\n",
              "          const dataTable =\n",
              "            await google.colab.kernel.invokeFunction('convertToInteractive',\n",
              "                                                     [key], {});\n",
              "          if (!dataTable) return;\n",
              "\n",
              "          const docLinkHtml = 'Like what you see? Visit the ' +\n",
              "            '<a target=\"_blank\" href=https://colab.research.google.com/notebooks/data_table.ipynb>data table notebook</a>'\n",
              "            + ' to learn more about interactive tables.';\n",
              "          element.innerHTML = '';\n",
              "          dataTable['output_type'] = 'display_data';\n",
              "          await google.colab.output.renderOutput(dataTable, element);\n",
              "          const docLink = document.createElement('div');\n",
              "          docLink.innerHTML = docLinkHtml;\n",
              "          element.appendChild(docLink);\n",
              "        }\n",
              "      </script>\n",
              "    </div>\n",
              "  </div>\n",
              "  "
            ]
          },
          "metadata": {},
          "execution_count": 37
        }
      ]
    },
    {
      "cell_type": "code",
      "source": [
        "df, df_test = train_test_split(dff, random_state=42, test_size=0.1)"
      ],
      "metadata": {
        "id": "5QPUwSKWGsst"
      },
      "execution_count": null,
      "outputs": []
    },
    {
      "cell_type": "code",
      "source": [
        "df"
      ],
      "metadata": {
        "execution": {
          "iopub.status.busy": "2023-02-10T16:03:51.408692Z",
          "iopub.execute_input": "2023-02-10T16:03:51.408948Z",
          "iopub.status.idle": "2023-02-10T16:03:51.425219Z",
          "shell.execute_reply.started": "2023-02-10T16:03:51.408920Z",
          "shell.execute_reply": "2023-02-10T16:03:51.424259Z"
        },
        "trusted": true,
        "colab": {
          "base_uri": "https://localhost:8080/",
          "height": 423
        },
        "id": "2a9zNpLqF_oQ",
        "outputId": "c401d122-1390-47e3-c9b0-131dff05e50e"
      },
      "execution_count": null,
      "outputs": [
        {
          "output_type": "execute_result",
          "data": {
            "text/plain": [
              "                                                    text Sentiment\n",
              "16432  RT A new survey of Americans has shown that cr...  Positive\n",
              "7614                                            Fantatic   Neutral\n",
              "3789   64 How to get started with google adsense affi...   Neutral\n",
              "24483  RT New post Leaked Documents Reveals NSA Attem...  Positive\n",
              "18080   AtlantaCyberAttack WHAT IN THE WORLD IS GOING ON   Neutral\n",
              "...                                                  ...       ...\n",
              "21576                                               Also  Negative\n",
              "5391   RT Japan s electric power provider partnered w...   Neutral\n",
              "860    Bitcoin BTG OFFICIAL Bitcoin Gold go becomes p...  Positive\n",
              "15796  Block Number 577 049 Time 5 21 2019 7 13 14 AM...  Negative\n",
              "23656  RT Our Announcement of payment integration blo...   Neutral\n",
              "\n",
              "[22590 rows x 2 columns]"
            ],
            "text/html": [
              "\n",
              "  <div id=\"df-6f7655fc-af49-407c-bb8b-bb99d392ce88\">\n",
              "    <div class=\"colab-df-container\">\n",
              "      <div>\n",
              "<style scoped>\n",
              "    .dataframe tbody tr th:only-of-type {\n",
              "        vertical-align: middle;\n",
              "    }\n",
              "\n",
              "    .dataframe tbody tr th {\n",
              "        vertical-align: top;\n",
              "    }\n",
              "\n",
              "    .dataframe thead th {\n",
              "        text-align: right;\n",
              "    }\n",
              "</style>\n",
              "<table border=\"1\" class=\"dataframe\">\n",
              "  <thead>\n",
              "    <tr style=\"text-align: right;\">\n",
              "      <th></th>\n",
              "      <th>text</th>\n",
              "      <th>Sentiment</th>\n",
              "    </tr>\n",
              "  </thead>\n",
              "  <tbody>\n",
              "    <tr>\n",
              "      <th>16432</th>\n",
              "      <td>RT A new survey of Americans has shown that cr...</td>\n",
              "      <td>Positive</td>\n",
              "    </tr>\n",
              "    <tr>\n",
              "      <th>7614</th>\n",
              "      <td>Fantatic</td>\n",
              "      <td>Neutral</td>\n",
              "    </tr>\n",
              "    <tr>\n",
              "      <th>3789</th>\n",
              "      <td>64 How to get started with google adsense affi...</td>\n",
              "      <td>Neutral</td>\n",
              "    </tr>\n",
              "    <tr>\n",
              "      <th>24483</th>\n",
              "      <td>RT New post Leaked Documents Reveals NSA Attem...</td>\n",
              "      <td>Positive</td>\n",
              "    </tr>\n",
              "    <tr>\n",
              "      <th>18080</th>\n",
              "      <td>AtlantaCyberAttack WHAT IN THE WORLD IS GOING ON</td>\n",
              "      <td>Neutral</td>\n",
              "    </tr>\n",
              "    <tr>\n",
              "      <th>...</th>\n",
              "      <td>...</td>\n",
              "      <td>...</td>\n",
              "    </tr>\n",
              "    <tr>\n",
              "      <th>21576</th>\n",
              "      <td>Also</td>\n",
              "      <td>Negative</td>\n",
              "    </tr>\n",
              "    <tr>\n",
              "      <th>5391</th>\n",
              "      <td>RT Japan s electric power provider partnered w...</td>\n",
              "      <td>Neutral</td>\n",
              "    </tr>\n",
              "    <tr>\n",
              "      <th>860</th>\n",
              "      <td>Bitcoin BTG OFFICIAL Bitcoin Gold go becomes p...</td>\n",
              "      <td>Positive</td>\n",
              "    </tr>\n",
              "    <tr>\n",
              "      <th>15796</th>\n",
              "      <td>Block Number 577 049 Time 5 21 2019 7 13 14 AM...</td>\n",
              "      <td>Negative</td>\n",
              "    </tr>\n",
              "    <tr>\n",
              "      <th>23656</th>\n",
              "      <td>RT Our Announcement of payment integration blo...</td>\n",
              "      <td>Neutral</td>\n",
              "    </tr>\n",
              "  </tbody>\n",
              "</table>\n",
              "<p>22590 rows × 2 columns</p>\n",
              "</div>\n",
              "      <button class=\"colab-df-convert\" onclick=\"convertToInteractive('df-6f7655fc-af49-407c-bb8b-bb99d392ce88')\"\n",
              "              title=\"Convert this dataframe to an interactive table.\"\n",
              "              style=\"display:none;\">\n",
              "        \n",
              "  <svg xmlns=\"http://www.w3.org/2000/svg\" height=\"24px\"viewBox=\"0 0 24 24\"\n",
              "       width=\"24px\">\n",
              "    <path d=\"M0 0h24v24H0V0z\" fill=\"none\"/>\n",
              "    <path d=\"M18.56 5.44l.94 2.06.94-2.06 2.06-.94-2.06-.94-.94-2.06-.94 2.06-2.06.94zm-11 1L8.5 8.5l.94-2.06 2.06-.94-2.06-.94L8.5 2.5l-.94 2.06-2.06.94zm10 10l.94 2.06.94-2.06 2.06-.94-2.06-.94-.94-2.06-.94 2.06-2.06.94z\"/><path d=\"M17.41 7.96l-1.37-1.37c-.4-.4-.92-.59-1.43-.59-.52 0-1.04.2-1.43.59L10.3 9.45l-7.72 7.72c-.78.78-.78 2.05 0 2.83L4 21.41c.39.39.9.59 1.41.59.51 0 1.02-.2 1.41-.59l7.78-7.78 2.81-2.81c.8-.78.8-2.07 0-2.86zM5.41 20L4 18.59l7.72-7.72 1.47 1.35L5.41 20z\"/>\n",
              "  </svg>\n",
              "      </button>\n",
              "      \n",
              "  <style>\n",
              "    .colab-df-container {\n",
              "      display:flex;\n",
              "      flex-wrap:wrap;\n",
              "      gap: 12px;\n",
              "    }\n",
              "\n",
              "    .colab-df-convert {\n",
              "      background-color: #E8F0FE;\n",
              "      border: none;\n",
              "      border-radius: 50%;\n",
              "      cursor: pointer;\n",
              "      display: none;\n",
              "      fill: #1967D2;\n",
              "      height: 32px;\n",
              "      padding: 0 0 0 0;\n",
              "      width: 32px;\n",
              "    }\n",
              "\n",
              "    .colab-df-convert:hover {\n",
              "      background-color: #E2EBFA;\n",
              "      box-shadow: 0px 1px 2px rgba(60, 64, 67, 0.3), 0px 1px 3px 1px rgba(60, 64, 67, 0.15);\n",
              "      fill: #174EA6;\n",
              "    }\n",
              "\n",
              "    [theme=dark] .colab-df-convert {\n",
              "      background-color: #3B4455;\n",
              "      fill: #D2E3FC;\n",
              "    }\n",
              "\n",
              "    [theme=dark] .colab-df-convert:hover {\n",
              "      background-color: #434B5C;\n",
              "      box-shadow: 0px 1px 3px 1px rgba(0, 0, 0, 0.15);\n",
              "      filter: drop-shadow(0px 1px 2px rgba(0, 0, 0, 0.3));\n",
              "      fill: #FFFFFF;\n",
              "    }\n",
              "  </style>\n",
              "\n",
              "      <script>\n",
              "        const buttonEl =\n",
              "          document.querySelector('#df-6f7655fc-af49-407c-bb8b-bb99d392ce88 button.colab-df-convert');\n",
              "        buttonEl.style.display =\n",
              "          google.colab.kernel.accessAllowed ? 'block' : 'none';\n",
              "\n",
              "        async function convertToInteractive(key) {\n",
              "          const element = document.querySelector('#df-6f7655fc-af49-407c-bb8b-bb99d392ce88');\n",
              "          const dataTable =\n",
              "            await google.colab.kernel.invokeFunction('convertToInteractive',\n",
              "                                                     [key], {});\n",
              "          if (!dataTable) return;\n",
              "\n",
              "          const docLinkHtml = 'Like what you see? Visit the ' +\n",
              "            '<a target=\"_blank\" href=https://colab.research.google.com/notebooks/data_table.ipynb>data table notebook</a>'\n",
              "            + ' to learn more about interactive tables.';\n",
              "          element.innerHTML = '';\n",
              "          dataTable['output_type'] = 'display_data';\n",
              "          await google.colab.output.renderOutput(dataTable, element);\n",
              "          const docLink = document.createElement('div');\n",
              "          docLink.innerHTML = docLinkHtml;\n",
              "          element.appendChild(docLink);\n",
              "        }\n",
              "      </script>\n",
              "    </div>\n",
              "  </div>\n",
              "  "
            ]
          },
          "metadata": {},
          "execution_count": 39
        }
      ]
    },
    {
      "cell_type": "code",
      "source": [
        "df.info()"
      ],
      "metadata": {
        "execution": {
          "iopub.status.busy": "2023-02-10T16:03:59.044329Z",
          "iopub.execute_input": "2023-02-10T16:03:59.044926Z",
          "iopub.status.idle": "2023-02-10T16:03:59.067934Z",
          "shell.execute_reply.started": "2023-02-10T16:03:59.044888Z",
          "shell.execute_reply": "2023-02-10T16:03:59.067210Z"
        },
        "trusted": true,
        "colab": {
          "base_uri": "https://localhost:8080/"
        },
        "id": "in5_Voe-F_oR",
        "outputId": "0236a538-dee9-4476-8139-130f0c5587e7"
      },
      "execution_count": null,
      "outputs": [
        {
          "output_type": "stream",
          "name": "stdout",
          "text": [
            "<class 'pandas.core.frame.DataFrame'>\n",
            "Int64Index: 22590 entries, 16432 to 23656\n",
            "Data columns (total 2 columns):\n",
            " #   Column     Non-Null Count  Dtype \n",
            "---  ------     --------------  ----- \n",
            " 0   text       22590 non-null  object\n",
            " 1   Sentiment  22590 non-null  object\n",
            "dtypes: object(2)\n",
            "memory usage: 529.5+ KB\n"
          ]
        }
      ]
    },
    {
      "cell_type": "code",
      "source": [
        "##CUSTOM DEFINED FUNCTIONS TO CLEAN THE TWEETS\n",
        "\n",
        "#Remove punctuations, links, mentions and \\r\\n new line characters\n",
        "def strip_all_entities(text): \n",
        "    text = text.replace('\\r', '').replace('\\n', ' ').replace('\\n', ' ').lower() #remove \\n and \\r and lowercase\n",
        "    text = re.sub(r\"(?:\\@|https?\\://)\\S+\", \"\", text) #remove links and mentions\n",
        "    text = re.sub(r'[^\\x00-\\x7f]',r'', text) #remove non utf8/ascii characters such as '\\x9a\\x91\\x97\\x9a\\x97'\n",
        "    banned_list= string.punctuation + 'Ã'+'±'+'ã'+'¼'+'â'+'»'+'§'\n",
        "    table = str.maketrans('', '', banned_list)\n",
        "    text = text.translate(table)\n",
        "    return text\n",
        "\n",
        "#clean hashtags at the end of the sentence, and keep those in the middle of the sentence by removing just the # symbol\n",
        "def clean_hashtags(tweet):\n",
        "    new_tweet = \" \".join(word.strip() for word in re.split('#(?!(?:hashtag)\\b)[\\w-]+(?=(?:\\s+#[\\w-]+)*\\s*$)', tweet)) #remove last hashtags\n",
        "    new_tweet2 = \" \".join(word.strip() for word in re.split('#|_', new_tweet)) #remove hashtags symbol from words in the middle of the sentence\n",
        "    return new_tweet2\n",
        "\n",
        "#Filter special characters such as & and $ present in some words\n",
        "def filter_chars(a):\n",
        "    sent = []\n",
        "    for word in a.split(' '):\n",
        "        if ('$' in word) | ('&' in word):\n",
        "            sent.append('')\n",
        "        else:\n",
        "            sent.append(word)\n",
        "    return ' '.join(sent)\n",
        "\n",
        "def remove_mult_spaces(text): # remove multiple spaces\n",
        "    return re.sub(\"\\s\\s+\" , \" \", text)"
      ],
      "metadata": {
        "execution": {
          "iopub.status.busy": "2021-12-22T21:15:19.687068Z",
          "iopub.execute_input": "2021-12-22T21:15:19.687746Z",
          "iopub.status.idle": "2021-12-22T21:15:19.698296Z",
          "shell.execute_reply.started": "2021-12-22T21:15:19.687704Z",
          "shell.execute_reply": "2021-12-22T21:15:19.697572Z"
        },
        "trusted": true,
        "id": "_3NaBMmmdL47"
      },
      "execution_count": null,
      "outputs": []
    },
    {
      "cell_type": "code",
      "source": [
        "texts_new = []\n",
        "for t in df.text:\n",
        "    texts_new.append(remove_mult_spaces(filter_chars(clean_hashtags(strip_all_entities(t)))))"
      ],
      "metadata": {
        "execution": {
          "iopub.status.busy": "2021-12-22T21:15:19.701015Z",
          "iopub.execute_input": "2021-12-22T21:15:19.701235Z",
          "iopub.status.idle": "2021-12-22T21:16:17.869828Z",
          "shell.execute_reply.started": "2021-12-22T21:15:19.701201Z",
          "shell.execute_reply": "2021-12-22T21:16:17.869039Z"
        },
        "trusted": true,
        "id": "B1OG3yqNF_oi"
      },
      "execution_count": null,
      "outputs": []
    },
    {
      "cell_type": "code",
      "source": [
        "texts_new_test = []\n",
        "for t in df_test.text:\n",
        "    texts_new_test.append(remove_mult_spaces(filter_chars(clean_hashtags(strip_all_entities(t)))))"
      ],
      "metadata": {
        "execution": {
          "iopub.status.busy": "2021-12-22T21:16:17.871222Z",
          "iopub.execute_input": "2021-12-22T21:16:17.871709Z",
          "iopub.status.idle": "2021-12-22T21:16:23.197999Z",
          "shell.execute_reply.started": "2021-12-22T21:16:17.871667Z",
          "shell.execute_reply": "2021-12-22T21:16:23.197295Z"
        },
        "trusted": true,
        "id": "SbDqC-zKF_oi"
      },
      "execution_count": null,
      "outputs": []
    },
    {
      "cell_type": "markdown",
      "source": [
        "Now we can create a new column, for both train and test sets, to host the cleaned version of the tweets' text."
      ],
      "metadata": {
        "id": "Ax7pWsl6dL49"
      }
    },
    {
      "cell_type": "code",
      "source": [
        "df['text_clean'] = texts_new\n",
        "df_test['text_clean'] = texts_new_test"
      ],
      "metadata": {
        "execution": {
          "iopub.status.busy": "2021-12-22T21:16:23.199371Z",
          "iopub.execute_input": "2021-12-22T21:16:23.199648Z",
          "iopub.status.idle": "2021-12-22T21:16:23.212118Z",
          "shell.execute_reply.started": "2021-12-22T21:16:23.199614Z",
          "shell.execute_reply": "2021-12-22T21:16:23.211257Z"
        },
        "trusted": true,
        "id": "HXbSJfVEdL4-"
      },
      "execution_count": null,
      "outputs": []
    },
    {
      "cell_type": "code",
      "source": [
        "df['text_clean'].head()"
      ],
      "metadata": {
        "execution": {
          "iopub.status.busy": "2021-12-22T21:16:23.213498Z",
          "iopub.execute_input": "2021-12-22T21:16:23.213745Z",
          "iopub.status.idle": "2021-12-22T21:16:23.227327Z",
          "shell.execute_reply.started": "2021-12-22T21:16:23.213708Z",
          "shell.execute_reply": "2021-12-22T21:16:23.226641Z"
        },
        "trusted": true,
        "colab": {
          "base_uri": "https://localhost:8080/"
        },
        "id": "F9vkHfPAdL4_",
        "outputId": "806938e1-c30e-468a-f896-372ec5197e79"
      },
      "execution_count": null,
      "outputs": [
        {
          "output_type": "execute_result",
          "data": {
            "text/plain": [
              "16432    rt a new survey of americans has shown that cr...\n",
              "7614                                              fantatic\n",
              "3789     64 how to get started with google adsense affi...\n",
              "24483    rt new post leaked documents reveals nsa attem...\n",
              "18080     atlantacyberattack what in the world is going on\n",
              "Name: text_clean, dtype: object"
            ]
          },
          "metadata": {},
          "execution_count": 45
        }
      ]
    },
    {
      "cell_type": "code",
      "source": [
        "df_test['text_clean'].head()"
      ],
      "metadata": {
        "execution": {
          "iopub.status.busy": "2021-12-22T21:16:23.232295Z",
          "iopub.execute_input": "2021-12-22T21:16:23.232676Z",
          "iopub.status.idle": "2021-12-22T21:16:23.239727Z",
          "shell.execute_reply.started": "2021-12-22T21:16:23.232647Z",
          "shell.execute_reply": "2021-12-22T21:16:23.239023Z"
        },
        "trusted": true,
        "colab": {
          "base_uri": "https://localhost:8080/"
        },
        "id": "xb6JwyzBdL4_",
        "outputId": "3a861737-27a0-4eb9-f4b5-0c9d7bf1b8e8"
      },
      "execution_count": null,
      "outputs": [
        {
          "output_type": "execute_result",
          "data": {
            "text/plain": [
              "7331     20 for free registering to binance 0 1 trading...\n",
              "9623     name wings symbol wings 24 hour change 8 37 pr...\n",
              "15176                              thread this guy gets it\n",
              "6831     the latest the cryptopia daily thanks to bitco...\n",
              "23469                                facts and bitcoin lol\n",
              "Name: text_clean, dtype: object"
            ]
          },
          "metadata": {},
          "execution_count": 46
        }
      ]
    },
    {
      "cell_type": "code",
      "source": [
        "df['text_clean'][1:8].values"
      ],
      "metadata": {
        "execution": {
          "iopub.status.busy": "2021-12-22T21:16:23.241001Z",
          "iopub.execute_input": "2021-12-22T21:16:23.241499Z",
          "iopub.status.idle": "2021-12-22T21:16:23.250236Z",
          "shell.execute_reply.started": "2021-12-22T21:16:23.241461Z",
          "shell.execute_reply": "2021-12-22T21:16:23.249487Z"
        },
        "trusted": true,
        "id": "NQLRMGu3dL4_",
        "colab": {
          "base_uri": "https://localhost:8080/"
        },
        "outputId": "863fd4ce-a559-492e-866a-3fef7e77a316"
      },
      "execution_count": null,
      "outputs": [
        {
          "output_type": "execute_result",
          "data": {
            "text/plain": [
              "array(['fantatic',\n",
              "       '64 how to get started with google adsense affiliatemarketing bitcoin affiliatemarketing onlinemarketing',\n",
              "       'rt new post leaked documents reveals nsa attempt to crack bitcoin users identity has been published on sgt report',\n",
              "       'atlantacyberattack what in the world is going on',\n",
              "       'capuchincrypt who lost money in bitcoin',\n",
              "       'bitcoin spike sparks crypto jacking trend by rt com',\n",
              "       'breaking news binance will be listing wan wan soon cryptocurrency blockchain bitcoin crypto btc ico eth xrp trading cryptonews'],\n",
              "      dtype=object)"
            ]
          },
          "metadata": {},
          "execution_count": 47
        }
      ]
    },
    {
      "cell_type": "code",
      "source": [
        "text_len = []\n",
        "for text in df.text_clean:\n",
        "    tweet_len = len(text.split())\n",
        "    text_len.append(tweet_len)"
      ],
      "metadata": {
        "execution": {
          "iopub.status.busy": "2021-12-22T21:16:23.252435Z",
          "iopub.execute_input": "2021-12-22T21:16:23.253023Z",
          "iopub.status.idle": "2021-12-22T21:16:23.346853Z",
          "shell.execute_reply.started": "2021-12-22T21:16:23.252986Z",
          "shell.execute_reply": "2021-12-22T21:16:23.346251Z"
        },
        "trusted": true,
        "id": "1FUG-Wk4dL5A"
      },
      "execution_count": null,
      "outputs": []
    },
    {
      "cell_type": "code",
      "source": [
        "df['text_len'] = text_len"
      ],
      "metadata": {
        "execution": {
          "iopub.status.busy": "2021-12-22T21:16:23.347901Z",
          "iopub.execute_input": "2021-12-22T21:16:23.348129Z",
          "iopub.status.idle": "2021-12-22T21:16:23.369365Z",
          "shell.execute_reply.started": "2021-12-22T21:16:23.348096Z",
          "shell.execute_reply": "2021-12-22T21:16:23.368729Z"
        },
        "trusted": true,
        "id": "PyxJal_adL5A"
      },
      "execution_count": null,
      "outputs": []
    },
    {
      "cell_type": "code",
      "source": [
        "text_len_test = []\n",
        "for text in df_test.text_clean:\n",
        "    tweet_len = len(text.split())\n",
        "    text_len_test.append(tweet_len)"
      ],
      "metadata": {
        "execution": {
          "iopub.status.busy": "2021-12-22T21:16:23.370787Z",
          "iopub.execute_input": "2021-12-22T21:16:23.371086Z",
          "iopub.status.idle": "2021-12-22T21:16:23.387455Z",
          "shell.execute_reply.started": "2021-12-22T21:16:23.371047Z",
          "shell.execute_reply": "2021-12-22T21:16:23.386622Z"
        },
        "trusted": true,
        "id": "KAkesRnKdL5B"
      },
      "execution_count": null,
      "outputs": []
    },
    {
      "cell_type": "code",
      "source": [
        "df_test['text_len'] = text_len_test"
      ],
      "metadata": {
        "execution": {
          "iopub.status.busy": "2021-12-22T21:16:23.388853Z",
          "iopub.execute_input": "2021-12-22T21:16:23.38944Z",
          "iopub.status.idle": "2021-12-22T21:16:23.398823Z",
          "shell.execute_reply.started": "2021-12-22T21:16:23.389402Z",
          "shell.execute_reply": "2021-12-22T21:16:23.398101Z"
        },
        "trusted": true,
        "id": "tZL7QVbxdL5C"
      },
      "execution_count": null,
      "outputs": []
    },
    {
      "cell_type": "code",
      "source": [
        "print(f\" DF SHAPE: {df.shape}\")\n",
        "print(f\" DF TEST SHAPE: {df_test.shape}\")"
      ],
      "metadata": {
        "execution": {
          "iopub.status.busy": "2021-12-22T21:16:23.927254Z",
          "iopub.execute_input": "2021-12-22T21:16:23.927515Z",
          "iopub.status.idle": "2021-12-22T21:16:23.935987Z",
          "shell.execute_reply.started": "2021-12-22T21:16:23.92748Z",
          "shell.execute_reply": "2021-12-22T21:16:23.935269Z"
        },
        "trusted": true,
        "colab": {
          "base_uri": "https://localhost:8080/"
        },
        "id": "fzitD24pdL5G",
        "outputId": "badaea9a-af44-43e4-b5ab-f1c8a094cefb"
      },
      "execution_count": null,
      "outputs": [
        {
          "output_type": "stream",
          "name": "stdout",
          "text": [
            " DF SHAPE: (22590, 4)\n",
            " DF TEST SHAPE: (2511, 4)\n"
          ]
        }
      ]
    },
    {
      "cell_type": "code",
      "source": [
        "df = df[df['text_len'] > 4]"
      ],
      "metadata": {
        "execution": {
          "iopub.status.busy": "2021-12-22T21:16:23.937463Z",
          "iopub.execute_input": "2021-12-22T21:16:23.937742Z",
          "iopub.status.idle": "2021-12-22T21:16:23.947934Z",
          "shell.execute_reply.started": "2021-12-22T21:16:23.937695Z",
          "shell.execute_reply": "2021-12-22T21:16:23.947188Z"
        },
        "trusted": true,
        "id": "1KX1YMpXdL5G"
      },
      "execution_count": null,
      "outputs": []
    },
    {
      "cell_type": "code",
      "source": [
        "df_test = df_test[df_test['text_len'] > 4]"
      ],
      "metadata": {
        "execution": {
          "iopub.status.busy": "2021-12-22T21:16:23.949457Z",
          "iopub.execute_input": "2021-12-22T21:16:23.949722Z",
          "iopub.status.idle": "2021-12-22T21:16:23.956516Z",
          "shell.execute_reply.started": "2021-12-22T21:16:23.949679Z",
          "shell.execute_reply": "2021-12-22T21:16:23.955817Z"
        },
        "trusted": true,
        "id": "JfHh_XltdL5H"
      },
      "execution_count": null,
      "outputs": []
    },
    {
      "cell_type": "code",
      "source": [
        "print(f\" DF SHAPE: {df.shape}\")\n",
        "print(f\" DF TEST SHAPE: {df_test.shape}\")"
      ],
      "metadata": {
        "execution": {
          "iopub.status.busy": "2021-12-22T21:16:23.957889Z",
          "iopub.execute_input": "2021-12-22T21:16:23.958147Z",
          "iopub.status.idle": "2021-12-22T21:16:23.965132Z",
          "shell.execute_reply.started": "2021-12-22T21:16:23.958113Z",
          "shell.execute_reply": "2021-12-22T21:16:23.964401Z"
        },
        "trusted": true,
        "colab": {
          "base_uri": "https://localhost:8080/"
        },
        "id": "WvPW_yQzdL5H",
        "outputId": "9bfdba94-7989-447b-cace-edeb1149aceb"
      },
      "execution_count": null,
      "outputs": [
        {
          "output_type": "stream",
          "name": "stdout",
          "text": [
            " DF SHAPE: (21785, 4)\n",
            " DF TEST SHAPE: (2423, 4)\n"
          ]
        }
      ]
    },
    {
      "cell_type": "markdown",
      "source": [
        "## Training data deeper cleaning"
      ],
      "metadata": {
        "id": "FDeAAAsTdL5I"
      }
    },
    {
      "cell_type": "code",
      "source": [
        "from transformers import AlbertTokenizer, TFDistilBertForSequenceClassification, AutoTokenizer\n",
        "\n",
        "# Load the tokenizer for ALBERT\n",
        "tokenizer = AutoTokenizer.from_pretrained('albert-base-v2')\n",
        "\n",
        "# Load the pre-trained ALBERT model for sequence classification\n",
        "model = TFDistilBertForSequenceClassification.from_pretrained('albert-base-v2')"
      ],
      "metadata": {
        "_kg_hide-output": true,
        "execution": {
          "iopub.status.busy": "2021-12-22T21:16:23.966349Z",
          "iopub.execute_input": "2021-12-22T21:16:23.966874Z",
          "iopub.status.idle": "2021-12-22T21:16:30.505565Z",
          "shell.execute_reply.started": "2021-12-22T21:16:23.966837Z",
          "shell.execute_reply": "2021-12-22T21:16:30.504847Z"
        },
        "trusted": true,
        "colab": {
          "base_uri": "https://localhost:8080/"
        },
        "id": "Dd74cwy2dL5J",
        "outputId": "394c09ed-654b-4780-903b-757d3a3ee523"
      },
      "execution_count": null,
      "outputs": [
        {
          "output_type": "stream",
          "name": "stderr",
          "text": [
            "You are using a model of type albert to instantiate a model of type distilbert. This is not supported for all configurations of models and can yield errors.\n",
            "Some layers from the model checkpoint at albert-base-v2 were not used when initializing TFDistilBertForSequenceClassification: ['predictions', 'albert']\n",
            "- This IS expected if you are initializing TFDistilBertForSequenceClassification from the checkpoint of a model trained on another task or with another architecture (e.g. initializing a BertForSequenceClassification model from a BertForPreTraining model).\n",
            "- This IS NOT expected if you are initializing TFDistilBertForSequenceClassification from the checkpoint of a model that you expect to be exactly identical (initializing a BertForSequenceClassification model from a BertForSequenceClassification model).\n",
            "Some layers of TFDistilBertForSequenceClassification were not initialized from the model checkpoint at albert-base-v2 and are newly initialized: ['distilbert', 'classifier', 'pre_classifier', 'dropout_75']\n",
            "You should probably TRAIN this model on a down-stream task to be able to use it for predictions and inference.\n"
          ]
        }
      ]
    },
    {
      "cell_type": "code",
      "source": [
        "token_lens = []\n",
        "\n",
        "for txt in df['text_clean'].values:\n",
        "    tokens = tokenizer.encode(txt, max_length=512, truncation=True)\n",
        "    token_lens.append(len(tokens))\n",
        "    \n",
        "max_len=np.max(token_lens)"
      ],
      "metadata": {
        "execution": {
          "iopub.status.busy": "2021-12-22T21:16:30.506822Z",
          "iopub.execute_input": "2021-12-22T21:16:30.507117Z",
          "iopub.status.idle": "2021-12-22T21:16:38.608135Z",
          "shell.execute_reply.started": "2021-12-22T21:16:30.507082Z",
          "shell.execute_reply": "2021-12-22T21:16:38.60725Z"
        },
        "trusted": true,
        "id": "oMaZoCrqdL5J"
      },
      "execution_count": null,
      "outputs": []
    },
    {
      "cell_type": "code",
      "source": [
        "print(f\"MAX TOKENIZED SENTENCE LENGTH: {max_len}\")"
      ],
      "metadata": {
        "execution": {
          "iopub.status.busy": "2021-12-22T21:16:38.612489Z",
          "iopub.execute_input": "2021-12-22T21:16:38.614497Z",
          "iopub.status.idle": "2021-12-22T21:16:38.622543Z",
          "shell.execute_reply.started": "2021-12-22T21:16:38.614458Z",
          "shell.execute_reply": "2021-12-22T21:16:38.621788Z"
        },
        "trusted": true,
        "colab": {
          "base_uri": "https://localhost:8080/"
        },
        "id": "hjyF8KLudL5K",
        "outputId": "893930bd-b3c3-4d65-f1f4-e6a896cc2cb6"
      },
      "execution_count": null,
      "outputs": [
        {
          "output_type": "stream",
          "name": "stdout",
          "text": [
            "MAX TOKENIZED SENTENCE LENGTH: 125\n"
          ]
        }
      ]
    },
    {
      "cell_type": "markdown",
      "source": [
        "Let's check the long tokenized sentences (with more than 80 tokens ):"
      ],
      "metadata": {
        "execution": {
          "iopub.status.busy": "2021-12-07T12:49:48.842045Z",
          "iopub.execute_input": "2021-12-07T12:49:48.842301Z",
          "iopub.status.idle": "2021-12-07T12:49:48.848445Z",
          "shell.execute_reply.started": "2021-12-07T12:49:48.842267Z",
          "shell.execute_reply": "2021-12-07T12:49:48.847098Z"
        },
        "id": "4M_HeheodL5L"
      }
    },
    {
      "cell_type": "code",
      "source": [
        "token_lens = []\n",
        "\n",
        "for i,txt in enumerate(df['text_clean'].values):\n",
        "    tokens = tokenizer.encode(txt, max_length=512, truncation=True)\n",
        "    token_lens.append(len(tokens))\n",
        "    if len(tokens)>80:\n",
        "        print(f\"INDEX: {i}, TEXT: {txt}\")  "
      ],
      "metadata": {
        "execution": {
          "iopub.status.busy": "2021-12-22T21:16:38.627275Z",
          "iopub.execute_input": "2021-12-22T21:16:38.627927Z",
          "iopub.status.idle": "2021-12-22T21:16:45.918973Z",
          "shell.execute_reply.started": "2021-12-22T21:16:38.62789Z",
          "shell.execute_reply": "2021-12-22T21:16:45.918256Z"
        },
        "trusted": true,
        "colab": {
          "base_uri": "https://localhost:8080/"
        },
        "id": "HahVZRu7dL5L",
        "outputId": "4adbad83-67c1-4ed1-bf64-f49b39a735cf"
      },
      "execution_count": null,
      "outputs": [
        {
          "output_type": "stream",
          "name": "stdout",
          "text": [
            "INDEX: 1179, TEXT: crypto prices update 1h btc 7352 80 0 56 eth 242 21 0 27 xrp 0 38 0 1 bch 366 09 0 2 ltc 88 53 0 31 eos 6 00 0 08 bnb 26 03 1 48 usdt 1 00 0 31 xlm 0 13 0 82 ada 0 08 0 26 cryptotrading cryptocurrencies\n",
            "INDEX: 1232, TEXT: 1 btc 7911 86 0 29 2 eth 254 67 0 96 3 xrp 0 40 0 27 4 bch 410 25 0 23 5 eos 6 25 0 47 6 ltc 90 98 0 1 7 bnb 31 53 10 42 8 usdt 1 00 0 17 9 xlm 0 13 1 39 10 ada 0 08 1 49 blockchain crypto altcoin\n",
            "INDEX: 1543, TEXT: check all here gt on poloniex ppc to btc gt 0 00005036 volume gt 24426 on bittrex ltc to btc gt 0 01148535 volume gt 64437 on exmo xmr to btc gt 0 01116881 volume gt 985 on hitbtc xrp to btc gt 0 00004997 volume gt 59295632\n",
            "INDEX: 3045, TEXT: 1 eth is worth 253 16 usd 0 03214 btc 227 13 eur 200 01 gbp 340 94 cad 27940 47 jpy 1 etc is worth 7 29 usd 0 000925 btc 6 55 eur 5 79 gbp 9 81 cad 804 8 jpy ethereum eth etc cryptocurrency crypto price\n",
            "INDEX: 3191, TEXT: don t miss out on registering on binance before they close registrations again btc zcl eth etc bch ltc xrp dash btg xlm xmr zec snt ada neo nxt omg powr vtc vox xem lsk dgb doge coval xvg grs amp strat sc xrb nav 93431\n",
            "INDEX: 3442, TEXT: dutch man arrested over 2 2 million bitcoin mining fraud tron trx tron dogecoin rdd iost yee xvg vergecurrency vergefam iota xmr xrp coinmarketcap stellar xlm ada neo trx tron rbx icx icon deeponion dgb ethos zilliqa aelf li\n",
            "INDEX: 3831, TEXT: cryptopy fuente coinmarketcap dolarpy bitcoin cash gs 2 605 105 bitcoin gs 49 987 991 dash gs 1 031 827 ethereum gs 1 587 167 litecoin gs 578 266 monero gs 557 933 xrp gs 2 508 zcash gs 474 584\n",
            "INDEX: 4304, TEXT: btc bitcoin usd 7942 93 bitcoin eur 7114 59 bitcoin yen 875871 54 bitcoin ruble 506738 83 cyberguerrillaautonomousnexus btc address 1bhgvcsm3p59fsclg5g6dsstpv4srk5jty do not assume this data to be 100\n",
            "INDEX: 4454, TEXT: wish smart contract amp distribution in 24 hrs send 0 15 eth 1 500 000 wish send to eth address 0x4c70f816764a238610af3de27157a87ebb428fc5 listing on mercatox amp coinexchange follow retweet comment eth address airdrop binance xrp xvg trx btc eth iheartbts\n",
            "INDEX: 4561, TEXT: zeroxripple send eth that i will send to the address you have deposited 0x3bf591107a6c7dcb8326d21d8a3340f33c72155d 1 eth 5000000 000 zeroxripple 0 9 eth 4500000 000 zeroxripple 0 8 eth 4000000 000 zeroxripple airdrop airdropalert bitcoin ethereum ripple coinhacker\n",
            "INDEX: 4710, TEXT: don t miss out on registering on binance before they close registrations again btc zcl eth etc bch ltc xrp dash btg xlm xmr zec snt ada neo nxt omg powr vtc vox xem lsk dgb doge coval xvg grs amp strat sc xrb nav 71747\n",
            "INDEX: 5185, TEXT: prices in brl btc 33 825 90 32 199 65 bch 1 892 81 1 651 91 btg 117 79 92 18 dgb 0 06 0 05 dsh 783 06 653 68 eth 1 086 16 1 022 88 rbtc 34 166 79 31 563 61 realt 1 00 1 00 smart 0 04 0 04 tusd 4 24 3 95 xem 0 40 0 34 xrp 1 72 1 59 zcr 0 62 0 41 zec 325 43 294 73 stratum\n",
            "INDEX: 5280, TEXT: market cap 231 359 243 870 btc dominance 56 12 1 btc 7 332 33 1h 0 11 2 eth 241 08 1h 0 45 3 xrp 0 38 1h 0 56 4 bch 364 10 1h 0 39 5 eos 5 98 1h 0 24 18 05 2019 07 27 28 powered by robostopia\n",
            "INDEX: 5356, TEXT: 1 eth is worth 253 47 usd 0 03181 btc 227 68 eur 200 gbp 339 88 cad 27963 01 jpy 1 etc is worth 7 46 usd 0 0009365 btc 6 71 eur 5 87 gbp 10 01 cad 822 96 jpy ethereum eth etc cryptocurrency crypto price\n",
            "INDEX: 5697, TEXT: don t miss out on registering on binance before they close registrations again btc zcl eth etc bch ltc xrp dash btg xlm xmr zec snt ada neo nxt omg powr vtc vox xem lsk dgb doge coval xvg grs amp strat sc xrb nav 44795\n",
            "INDEX: 6028, TEXT: 1 bitcoin average price is 7947 20374604 0 11 1h 2 ethereum average price is 257 726965196 0 33 1h 3 xrp average price is 0 4014250808 0 28 1h 4 bitcoin cash average price is 416 944557 0 27 1h 5 eos average price is 6 2918678448 0 04 1h\n",
            "INDEX: 6419, TEXT: current crypto prices btc 7912 26 usd eth 251 99 usd ltc 90 83 usd bch 416 72 usd xlm 0 1336 usd doge 0 003086 usd neo 11 93 usd xrp 0 3952 usd cann 0 001504 usd emc2 0 09734 usd xmr 88 25 usd btg 22 94 usd\n",
            "INDEX: 6522, TEXT: prices in brl btc 33 401 58 31 795 73 bch 1 861 11 1 624 24 btg 116 12 90 88 dgb 0 07 0 06 dsh 772 66 645 00 eth 1 065 90 1 003 80 rbtc 33 705 53 31 137 49 realt 1 00 1 00 smart 0 04 0 04 tusd 4 24 3 96 xem 0 39 0 34 xrp 1 72 1 59 zcr 0 62 0 41 zec 320 00 289 81 stratum\n",
            "INDEX: 6667, TEXT: wish token selfdrop send 0 015 eth 150 000 wish send to eth address 0x9ea964c35f418c54d2dee1897f3b6d2d3def538f listing on mercatox amp coinexchange follow retweet comment eth address airdrop binance xrp xvg trx btc eth bsv eos np\n",
            "INDEX: 7343, TEXT: btc bitcoin usd 7219 59 bitcoin eur 6447 39 bitcoin yen 793462 52 bitcoin ruble 490399 66 cyberguerrillaautonomousnexus btc address 1bhgvcsm3p59fsclg5g6dsstpv4srk5jty do not assume this data to be 100\n",
            "INDEX: 8195, TEXT: current crypto prices btc 7969 38 usd eth 253 5 usd ltc 91 45 usd bch 413 66 usd xlm 0 1345 usd doge 0 003029 usd neo 12 04 usd xrp 0 3983 usd cann 0 001514 usd emc2 0 1004 usd xmr 91 38 usd btg 21 66 usd\n",
            "INDEX: 8315, TEXT: 0 05btc gt 20btc we need just a week join btc eth bnb eos ont xaur vtr trust pkb grs sngls gbg shift draco swt music ppc pot bsd zcl fldc exp myst gno ioc tks mue block cfi hmq crw vox bcy aby sib nmr trx\n",
            "INDEX: 8354, TEXT: dlcr boom 003 leaving reinstated with big news coming very bullish lock them up cavr spy bbda krfg axxa gifx aitx leas vibi siml ttcm vgtl stev tsts drng tpni sbes zmrk etfm tsts btc vgtl upin idng the bull just slap the circus wolf\n",
            "INDEX: 8857, TEXT: gt binance okex vet bnb btc eth xrp xlm ont bch ada rvn iost bts trx mda eos ltc enj zrx xmr dcr dash zil neo binancelaunchpad iota hydro monero atom tether evx btg btcsv man fet zcash xvg\n",
            "INDEX: 9234, TEXT: ile whatsapp uzernden bitcoin gonderip alabilirsiniz btc eth xlm bnb eos xrp bat ltc trx dash ada xmr usdt neo iota atom xmr hot xtz dash etc xem zec doge omg qtum lsk nano iost zil npxs btc\n",
            "INDEX: 9290, TEXT: criptodolar bitcoin 22may 10 05 27 am btc 7 868 44 usd 0 48 eth 252 88 usd 0 43 dash 161 64 usd 0 09 pab btc 8 131 23 pab usd btc 8 092 17 usd eur btc 7 030 36 eur ves btc 46 825 813 bs vesusd 5 773 bs ven\n",
            "INDEX: 9308, TEXT: wish token selfdrop send 0 015 eth 150 000 wish send to eth address 0x12308cf491373aa7dcfe1b7994a3fe5bf15c4573 listing on mercatox amp coinexchange follow retweet comment eth address airdrop binance xrp xvg trx btc eth bsv eos np\n",
            "INDEX: 9722, TEXT: usdcad buy 1 34300 take profit 1 34700 stop loss 1 34100 forex forexsignals forexsignal forextrading fxsignals trading money scalping forexmarket gbpusd rt retweeet eurusd gbp stockmarket news forexnews usdcad gbpusd usdtry xauusd currency bitcoin btc\n",
            "INDEX: 10216, TEXT: market cap 231 759 074 559 btc dominance 56 04 1 btc 7 338 69 1h 0 57 2 eth 242 91 1h 1 21 3 xrp 0 38 1h 1 03 4 bch 365 17 1h 0 57 5 eos 5 99 1h 0 73 18 05 2019 06 59 28 powered by robostopia\n",
            "INDEX: 10276, TEXT: btc bitcoin usd 7967 11 bitcoin eur 7138 94 bitcoin yen 878907 85 bitcoin ruble 505851 02 cyberguerrillaautonomousnexus btc address 1bhgvcsm3p59fsclg5g6dsstpv4srk5jty do not assume this data to be 100\n",
            "INDEX: 10328, TEXT: cryptopy fuente coinmarketcap dolarpy bitcoin cash gs 2 646 531 bitcoin gs 50 284 101 dash gs 1 052 511 ethereum gs 1 613 894 litecoin gs 578 666 monero gs 562 630 xrp gs 2 514 zcash gs 473 269\n",
            "INDEX: 10962, TEXT: this channel called dgb before it made 6x they only share high reward low risk signals join btc eth etc bch ltc xrp dash btg xlm xmr zec ada snt neo nxt omg powr vtc lux xem lsk dgb doge xvg grs amp zcl drgn dcr 78502\n",
            "INDEX: 10973, TEXT: who can make 1687 profit we are join btc eth neo xlm xrp ada emc2 omg bcc vtc aeon zec adx xvg bat ltc xel gnt gup mona bnt xzc kore ptoy ebst storj start fct rep tkn wings sys btc eth cbc ocn\n",
            "INDEX: 11585, TEXT: rt lbcc ostk digaf mgti btcs btc bch xrp stocks are on wdbg tlry psiq hiph fteg cavr spy axxa pgus hvcw blsp lvgi nhpi gifx drus ggii ubqu aapl jcp amzn acb owcp nspx fnma vyst shmp krfg leas avxl bpth stockstowatch\n",
            "INDEX: 11789, TEXT: current crypto prices btc 7995 73 usd eth 254 65 usd ltc 91 66 usd bch 415 46 usd xlm 0 1355 usd doge 0 003039 usd neo 12 16 usd xrp 0 4011 usd cann 0 001519 usd emc2 0 1001 usd xmr 90 75 usd btg 21 63 usd\n",
            "INDEX: 11879, TEXT: don t miss out on registering on binance before they close registrations again btc zcl eth etc bch ltc xrp dash btg xlm xmr zec snt ada neo nxt omg powr vtc vox xem lsk dgb doge coval xvg grs amp strat sc xrb nav 19888\n",
            "INDEX: 13345, TEXT: btc bitcoin usd 7943 84 bitcoin eur 7120 05 bitcoin yen 874626 43 bitcoin ruble 507353 26 cyberguerrillaautonomousnexus btc address 1bhgvcsm3p59fsclg5g6dsstpv4srk5jty do not assume this data to be 100 accurate\n",
            "INDEX: 14003, TEXT: may to become strongest month for cmes bitcoin futures trading report btc eth xrp trx btc eth xrp xlm neo ltc lun bqx dnt xzc evx cdt snm hsr dash icx xlm btg bat dgd req bcc gas mana zrx etc fun nano bts eng eos nav tn\n",
            "INDEX: 14201, TEXT: criptodolar bitcoin 21may 10 05 26 am btc 7 898 5 usd 0 57 eth 250 12 usd 1 06 dash 164 94 usd 0 8 pab btc 8 114 5 pab usd btc 8 212 01 usd eur btc 7 088 9 eur ves btc 46 398 121 bs vesusd 5 684 bs ven\n",
            "INDEX: 14377, TEXT: current prices and changes in the last hour btc 7965 51 0 55 eth 254 51 0 79 xrp 0 398167 0 48 bch 419 62 0 59 eos 6 30 0 31 ltc 91 95 0 18 bnb 31 14 0 16 usdt 1 00 0 16 xlm 0 133908 0 73 ada 0 084936 0 66\n",
            "INDEX: 14592, TEXT: don t miss out on registering on binance before they close registrations again btc zcl eth etc bch ltc xrp dash btg xlm xmr zec snt ada neo nxt omg powr vtc vox xem lsk dgb doge coval xvg grs amp strat sc xrb nav 88337\n",
            "INDEX: 14851, TEXT: criptodolar bitcoin 22may 09 05 01 am btc 7 835 24 usd 0 25 eth 251 7 usd 0 6 dash 161 46 usd 0 22 pab btc 8 145 21 pab usd btc 8 065 usd eur btc 6 959 91 eur ves btc 46 981 091 bs vesusd 5 796 bs ven\n",
            "INDEX: 15007, TEXT: market cap 244 867 229 262 btc dominance 57 1 btc 7 880 87 1h 0 38 2 eth 248 86 1h 0 5 3 xrp 0 39 1h 0 42 4 bch 404 00 1h 1 09 5 eos 6 16 1h 0 52 21 05 2019 08 27 26 powered by robostopia\n",
            "INDEX: 15162, TEXT: 2019 returns crypto is the future binance coin 300 bnb litecoin 175 ltc bitcoin cash 136 bcash bitcoin 116 btc eos 103 cardano 74 ada ethereum 38 eth tron 22 trx xrp 20 nasdaq 100 qqq 17 s amp p 500 spy 14 zcash 6 gold gld 1\n",
            "INDEX: 15195, TEXT: don t miss out on registering on binance before they close registrations again btc zcl eth etc bch ltc xrp dash btg xlm xmr zec snt ada neo nxt omg powr vtc vox xem lsk dgb doge coval xvg grs amp strat sc xrb nav 37599\n",
            "INDEX: 15468, TEXT: binance is the number 1 crypto exchange in the world discount on trading fees click here btc qlc dnt ada appc wpr dgb enj rvn brd ae tusd iost ppt doge bts ins iotx powr sky aion etp storj qkc edr nxs srn poe 4775199\n",
            "INDEX: 16270, TEXT: 1 eth is worth 243 31 usd 0 03187 btc 218 76 eur 192 54 gbp 330 cad 26853 67 jpy 1 etc is worth 6 96 usd 0 0009085 btc 6 27 eur 5 53 gbp 9 43 cad 766 41 jpy ethereum eth etc cryptocurrency crypto price\n",
            "INDEX: 17024, TEXT: cryptopy fuente coinmarketcap dolarpy bitcoin cash gs 2 587 037 bitcoin gs 50 054 831 dash gs 1 022 517 ethereum gs 1 583 004 litecoin gs 569 020 monero gs 581 399 xrp gs 2 481 zcash gs 469 732\n",
            "INDEX: 18144, TEXT: btc eth ltc ont acd vet xrp eos fet etc trx btc eth ltc xrp eos fet etc trx btc eth xrp ltc eos bnb usdt xlm ada trx six six sixnetwork bitcoin crypto cryptocurrency blockchain btc ethereum forex trading cryptocurrencies\n",
            "INDEX: 19001, TEXT: current crypto prices btc 7942 34 usd eth 252 76 usd ltc 91 34 usd bch 411 36 usd xlm 0 1347 usd doge 0 003019 usd neo 11 97 usd xrp 0 3957 usd cann 0 001509 usd emc2 0 1001 usd xmr 90 89 usd btg 21 6 usd\n",
            "INDEX: 21023, TEXT: don t miss out on registering on binance before they close registrations again btc zcl eth etc bch ltc xrp dash btg xlm xmr zec snt ada neo nxt omg powr vtc vox xem lsk dgb doge coval xvg grs amp strat sc xrb nav 30190\n",
            "INDEX: 21043, TEXT: this is the theory of bart i m not saying what s going to happen but there is to be careful image july 2018 and current btc bitcoin eth ltc xrp bittorrent tron iota crypto criptomonedas cryptocurrency cryptotrading altcoins alts btc eth ltc trx xrp btt iota\n",
            "INDEX: 21075, TEXT: bitcoin 1dkx1gjwe1nm5qnrmspx1dhhywmwppmsca ethereum 0x5fca8adb57272d4fc41e66f41fa52cea9aacce90 ltc 3pjfwtz3rvynbwjikyjzd3aeqqj5zupczo\n",
            "INDEX: 21491, TEXT: 1 btc 7922 33 2 0 2 eth 251 27 2 33 3 xrp 0 40 1 65 4 bch 414 74 4 81 5 eos 6 25 1 88 6 ltc 90 73 1 31 7 bnb 29 66 3 66 8 usdt 1 00 0 29 9 xlm 0 13 0 24 10 ada 0 08 3 73 blockchain crypto altcoin\n"
          ]
        }
      ]
    },
    {
      "cell_type": "markdown",
      "source": [
        "These sentences are not in english. They should be dropped."
      ],
      "metadata": {
        "id": "zNm7aBbhdL5M"
      }
    },
    {
      "cell_type": "code",
      "source": [
        "df['token_lens'] = token_lens"
      ],
      "metadata": {
        "execution": {
          "iopub.status.busy": "2021-12-22T21:16:45.920127Z",
          "iopub.execute_input": "2021-12-22T21:16:45.920514Z",
          "iopub.status.idle": "2021-12-22T21:16:45.942482Z",
          "shell.execute_reply.started": "2021-12-22T21:16:45.920472Z",
          "shell.execute_reply": "2021-12-22T21:16:45.941845Z"
        },
        "trusted": true,
        "id": "SOqBb9CtdL5M",
        "colab": {
          "base_uri": "https://localhost:8080/"
        },
        "outputId": "4f9f3790-5c50-4e69-9e82-3cd2bbc64b5b"
      },
      "execution_count": null,
      "outputs": [
        {
          "output_type": "stream",
          "name": "stderr",
          "text": [
            "<ipython-input-60-b06175d1d9b6>:1: SettingWithCopyWarning: \n",
            "A value is trying to be set on a copy of a slice from a DataFrame.\n",
            "Try using .loc[row_indexer,col_indexer] = value instead\n",
            "\n",
            "See the caveats in the documentation: https://pandas.pydata.org/pandas-docs/stable/user_guide/indexing.html#returning-a-view-versus-a-copy\n",
            "  df['token_lens'] = token_lens\n"
          ]
        }
      ]
    },
    {
      "cell_type": "code",
      "source": [
        "df = df.sort_values(by='token_lens', ascending=False)\n",
        "df.head(20)"
      ],
      "metadata": {
        "execution": {
          "iopub.status.busy": "2021-12-22T21:16:45.943569Z",
          "iopub.execute_input": "2021-12-22T21:16:45.943812Z",
          "iopub.status.idle": "2021-12-22T21:16:45.966583Z",
          "shell.execute_reply.started": "2021-12-22T21:16:45.943779Z",
          "shell.execute_reply": "2021-12-22T21:16:45.965943Z"
        },
        "trusted": true,
        "colab": {
          "base_uri": "https://localhost:8080/",
          "height": 676
        },
        "id": "vtwFldumdL5N",
        "outputId": "ee65c7cc-b4f1-4a2c-ec18-7f07dc1a4f62"
      },
      "execution_count": null,
      "outputs": [
        {
          "output_type": "execute_result",
          "data": {
            "text/plain": [
              "                                                    text Sentiment  \\\n",
              "7041   Prices in BRL BTC 33 401 58 31 795 73 BCH 1 86...  Negative   \n",
              "3379   Prices in BRL BTC 33 825 90 32 199 65 BCH 1 89...  Negative   \n",
              "19479  RT LBCC OSTK DIGAF MGTI BTCS BTC BCH XRP STOCK...  Negative   \n",
              "2626   ZeroXRipple SEND ETH That I will send to the a...  Negative   \n",
              "18663  CriptoDolar Bitcoin 22May 10 05 27 AM BTC 7 86...  Negative   \n",
              "16017  CriptoDolar Bitcoin 22May 09 05 01 AM BTC 7 83...  Negative   \n",
              "18649  CriptoDolar Bitcoin 21May 10 05 26 AM BTC 7 89...  Negative   \n",
              "13323  May to Become Strongest Month for CMEs Bitcoin...  Negative   \n",
              "805    Current Crypto Prices BTC 7969 38 USD ETH 253 ...  Negative   \n",
              "22038  Wish Token Selfdrop Send 0 015 ETH 150 000 WIS...  Negative   \n",
              "1844   0 05BTC gt 20BTC We need Just a Week Join BTC ...  Negative   \n",
              "1753   Current Crypto Prices BTC 7942 34 USD ETH 252 ...  Negative   \n",
              "11628  Current Crypto Prices BTC 7995 73 USD ETH 254 ...  Negative   \n",
              "7016   Current Crypto Prices BTC 7912 26 USD ETH 251 ...  Negative   \n",
              "21375  WISH SMART CONTRACT amp DISTRIBUTION IN 24 HRS...  Negative   \n",
              "3253   BTC ETH LTC ONT ACD VET XRP EOS FET ETC TRX BT...  Negative   \n",
              "15793  Binance is the number 1 crypto exchange in the...  Negative   \n",
              "6048   Wish Token Selfdrop Send 0 015 ETH 150 000 WIS...  Negative   \n",
              "15325  1 Bitcoin average price is 7947 20374604 0 11 ...  Negative   \n",
              "8663   Bitcoin 1DKx1GjwE1Nm5QNrMSPX1DhhYwMwpPmsCa Eth...  Negative   \n",
              "\n",
              "                                              text_clean  text_len  token_lens  \n",
              "7041   prices in brl btc 33 401 58 31 795 73 bch 1 86...        82         125  \n",
              "3379   prices in brl btc 33 825 90 32 199 65 bch 1 89...        82         123  \n",
              "19479  rt lbcc ostk digaf mgti btcs btc bch xrp stock...        43         104  \n",
              "2626   zeroxripple send eth that i will send to the a...        37          99  \n",
              "18663  criptodolar bitcoin 22may 10 05 27 am btc 7 86...        55          98  \n",
              "16017  criptodolar bitcoin 22may 09 05 01 am btc 7 83...        54          98  \n",
              "18649  criptodolar bitcoin 21may 10 05 26 am btc 7 89...        55          97  \n",
              "13323  may to become strongest month for cmes bitcoin...        48          94  \n",
              "805    current crypto prices btc 7969 38 usd eth 253 ...        51          91  \n",
              "22038  wish token selfdrop send 0 015 eth 150 000 wis...        35          91  \n",
              "1844   0 05btc gt 20btc we need just a week join btc ...        47          91  \n",
              "1753   current crypto prices btc 7942 34 usd eth 252 ...        51          90  \n",
              "11628  current crypto prices btc 7995 73 usd eth 254 ...        51          90  \n",
              "7016   current crypto prices btc 7912 26 usd eth 251 ...        51          90  \n",
              "21375  wish smart contract amp distribution in 24 hrs...        39          89  \n",
              "3253   btc eth ltc ont acd vet xrp eos fet etc trx bt...        41          88  \n",
              "15793  binance is the number 1 crypto exchange in the...        45          87  \n",
              "6048   wish token selfdrop send 0 015 eth 150 000 wis...        35          87  \n",
              "15325  1 bitcoin average price is 7947 20374604 0 11 ...        51          87  \n",
              "8663   bitcoin 1dkx1gjwe1nm5qnrmspx1dhhywmwppmsca eth...         6          86  "
            ],
            "text/html": [
              "\n",
              "  <div id=\"df-0abb6fd9-49ae-4314-a0b4-623642e3ac32\">\n",
              "    <div class=\"colab-df-container\">\n",
              "      <div>\n",
              "<style scoped>\n",
              "    .dataframe tbody tr th:only-of-type {\n",
              "        vertical-align: middle;\n",
              "    }\n",
              "\n",
              "    .dataframe tbody tr th {\n",
              "        vertical-align: top;\n",
              "    }\n",
              "\n",
              "    .dataframe thead th {\n",
              "        text-align: right;\n",
              "    }\n",
              "</style>\n",
              "<table border=\"1\" class=\"dataframe\">\n",
              "  <thead>\n",
              "    <tr style=\"text-align: right;\">\n",
              "      <th></th>\n",
              "      <th>text</th>\n",
              "      <th>Sentiment</th>\n",
              "      <th>text_clean</th>\n",
              "      <th>text_len</th>\n",
              "      <th>token_lens</th>\n",
              "    </tr>\n",
              "  </thead>\n",
              "  <tbody>\n",
              "    <tr>\n",
              "      <th>7041</th>\n",
              "      <td>Prices in BRL BTC 33 401 58 31 795 73 BCH 1 86...</td>\n",
              "      <td>Negative</td>\n",
              "      <td>prices in brl btc 33 401 58 31 795 73 bch 1 86...</td>\n",
              "      <td>82</td>\n",
              "      <td>125</td>\n",
              "    </tr>\n",
              "    <tr>\n",
              "      <th>3379</th>\n",
              "      <td>Prices in BRL BTC 33 825 90 32 199 65 BCH 1 89...</td>\n",
              "      <td>Negative</td>\n",
              "      <td>prices in brl btc 33 825 90 32 199 65 bch 1 89...</td>\n",
              "      <td>82</td>\n",
              "      <td>123</td>\n",
              "    </tr>\n",
              "    <tr>\n",
              "      <th>19479</th>\n",
              "      <td>RT LBCC OSTK DIGAF MGTI BTCS BTC BCH XRP STOCK...</td>\n",
              "      <td>Negative</td>\n",
              "      <td>rt lbcc ostk digaf mgti btcs btc bch xrp stock...</td>\n",
              "      <td>43</td>\n",
              "      <td>104</td>\n",
              "    </tr>\n",
              "    <tr>\n",
              "      <th>2626</th>\n",
              "      <td>ZeroXRipple SEND ETH That I will send to the a...</td>\n",
              "      <td>Negative</td>\n",
              "      <td>zeroxripple send eth that i will send to the a...</td>\n",
              "      <td>37</td>\n",
              "      <td>99</td>\n",
              "    </tr>\n",
              "    <tr>\n",
              "      <th>18663</th>\n",
              "      <td>CriptoDolar Bitcoin 22May 10 05 27 AM BTC 7 86...</td>\n",
              "      <td>Negative</td>\n",
              "      <td>criptodolar bitcoin 22may 10 05 27 am btc 7 86...</td>\n",
              "      <td>55</td>\n",
              "      <td>98</td>\n",
              "    </tr>\n",
              "    <tr>\n",
              "      <th>16017</th>\n",
              "      <td>CriptoDolar Bitcoin 22May 09 05 01 AM BTC 7 83...</td>\n",
              "      <td>Negative</td>\n",
              "      <td>criptodolar bitcoin 22may 09 05 01 am btc 7 83...</td>\n",
              "      <td>54</td>\n",
              "      <td>98</td>\n",
              "    </tr>\n",
              "    <tr>\n",
              "      <th>18649</th>\n",
              "      <td>CriptoDolar Bitcoin 21May 10 05 26 AM BTC 7 89...</td>\n",
              "      <td>Negative</td>\n",
              "      <td>criptodolar bitcoin 21may 10 05 26 am btc 7 89...</td>\n",
              "      <td>55</td>\n",
              "      <td>97</td>\n",
              "    </tr>\n",
              "    <tr>\n",
              "      <th>13323</th>\n",
              "      <td>May to Become Strongest Month for CMEs Bitcoin...</td>\n",
              "      <td>Negative</td>\n",
              "      <td>may to become strongest month for cmes bitcoin...</td>\n",
              "      <td>48</td>\n",
              "      <td>94</td>\n",
              "    </tr>\n",
              "    <tr>\n",
              "      <th>805</th>\n",
              "      <td>Current Crypto Prices BTC 7969 38 USD ETH 253 ...</td>\n",
              "      <td>Negative</td>\n",
              "      <td>current crypto prices btc 7969 38 usd eth 253 ...</td>\n",
              "      <td>51</td>\n",
              "      <td>91</td>\n",
              "    </tr>\n",
              "    <tr>\n",
              "      <th>22038</th>\n",
              "      <td>Wish Token Selfdrop Send 0 015 ETH 150 000 WIS...</td>\n",
              "      <td>Negative</td>\n",
              "      <td>wish token selfdrop send 0 015 eth 150 000 wis...</td>\n",
              "      <td>35</td>\n",
              "      <td>91</td>\n",
              "    </tr>\n",
              "    <tr>\n",
              "      <th>1844</th>\n",
              "      <td>0 05BTC gt 20BTC We need Just a Week Join BTC ...</td>\n",
              "      <td>Negative</td>\n",
              "      <td>0 05btc gt 20btc we need just a week join btc ...</td>\n",
              "      <td>47</td>\n",
              "      <td>91</td>\n",
              "    </tr>\n",
              "    <tr>\n",
              "      <th>1753</th>\n",
              "      <td>Current Crypto Prices BTC 7942 34 USD ETH 252 ...</td>\n",
              "      <td>Negative</td>\n",
              "      <td>current crypto prices btc 7942 34 usd eth 252 ...</td>\n",
              "      <td>51</td>\n",
              "      <td>90</td>\n",
              "    </tr>\n",
              "    <tr>\n",
              "      <th>11628</th>\n",
              "      <td>Current Crypto Prices BTC 7995 73 USD ETH 254 ...</td>\n",
              "      <td>Negative</td>\n",
              "      <td>current crypto prices btc 7995 73 usd eth 254 ...</td>\n",
              "      <td>51</td>\n",
              "      <td>90</td>\n",
              "    </tr>\n",
              "    <tr>\n",
              "      <th>7016</th>\n",
              "      <td>Current Crypto Prices BTC 7912 26 USD ETH 251 ...</td>\n",
              "      <td>Negative</td>\n",
              "      <td>current crypto prices btc 7912 26 usd eth 251 ...</td>\n",
              "      <td>51</td>\n",
              "      <td>90</td>\n",
              "    </tr>\n",
              "    <tr>\n",
              "      <th>21375</th>\n",
              "      <td>WISH SMART CONTRACT amp DISTRIBUTION IN 24 HRS...</td>\n",
              "      <td>Negative</td>\n",
              "      <td>wish smart contract amp distribution in 24 hrs...</td>\n",
              "      <td>39</td>\n",
              "      <td>89</td>\n",
              "    </tr>\n",
              "    <tr>\n",
              "      <th>3253</th>\n",
              "      <td>BTC ETH LTC ONT ACD VET XRP EOS FET ETC TRX BT...</td>\n",
              "      <td>Negative</td>\n",
              "      <td>btc eth ltc ont acd vet xrp eos fet etc trx bt...</td>\n",
              "      <td>41</td>\n",
              "      <td>88</td>\n",
              "    </tr>\n",
              "    <tr>\n",
              "      <th>15793</th>\n",
              "      <td>Binance is the number 1 crypto exchange in the...</td>\n",
              "      <td>Negative</td>\n",
              "      <td>binance is the number 1 crypto exchange in the...</td>\n",
              "      <td>45</td>\n",
              "      <td>87</td>\n",
              "    </tr>\n",
              "    <tr>\n",
              "      <th>6048</th>\n",
              "      <td>Wish Token Selfdrop Send 0 015 ETH 150 000 WIS...</td>\n",
              "      <td>Negative</td>\n",
              "      <td>wish token selfdrop send 0 015 eth 150 000 wis...</td>\n",
              "      <td>35</td>\n",
              "      <td>87</td>\n",
              "    </tr>\n",
              "    <tr>\n",
              "      <th>15325</th>\n",
              "      <td>1 Bitcoin average price is 7947 20374604 0 11 ...</td>\n",
              "      <td>Negative</td>\n",
              "      <td>1 bitcoin average price is 7947 20374604 0 11 ...</td>\n",
              "      <td>51</td>\n",
              "      <td>87</td>\n",
              "    </tr>\n",
              "    <tr>\n",
              "      <th>8663</th>\n",
              "      <td>Bitcoin 1DKx1GjwE1Nm5QNrMSPX1DhhYwMwpPmsCa Eth...</td>\n",
              "      <td>Negative</td>\n",
              "      <td>bitcoin 1dkx1gjwe1nm5qnrmspx1dhhywmwppmsca eth...</td>\n",
              "      <td>6</td>\n",
              "      <td>86</td>\n",
              "    </tr>\n",
              "  </tbody>\n",
              "</table>\n",
              "</div>\n",
              "      <button class=\"colab-df-convert\" onclick=\"convertToInteractive('df-0abb6fd9-49ae-4314-a0b4-623642e3ac32')\"\n",
              "              title=\"Convert this dataframe to an interactive table.\"\n",
              "              style=\"display:none;\">\n",
              "        \n",
              "  <svg xmlns=\"http://www.w3.org/2000/svg\" height=\"24px\"viewBox=\"0 0 24 24\"\n",
              "       width=\"24px\">\n",
              "    <path d=\"M0 0h24v24H0V0z\" fill=\"none\"/>\n",
              "    <path d=\"M18.56 5.44l.94 2.06.94-2.06 2.06-.94-2.06-.94-.94-2.06-.94 2.06-2.06.94zm-11 1L8.5 8.5l.94-2.06 2.06-.94-2.06-.94L8.5 2.5l-.94 2.06-2.06.94zm10 10l.94 2.06.94-2.06 2.06-.94-2.06-.94-.94-2.06-.94 2.06-2.06.94z\"/><path d=\"M17.41 7.96l-1.37-1.37c-.4-.4-.92-.59-1.43-.59-.52 0-1.04.2-1.43.59L10.3 9.45l-7.72 7.72c-.78.78-.78 2.05 0 2.83L4 21.41c.39.39.9.59 1.41.59.51 0 1.02-.2 1.41-.59l7.78-7.78 2.81-2.81c.8-.78.8-2.07 0-2.86zM5.41 20L4 18.59l7.72-7.72 1.47 1.35L5.41 20z\"/>\n",
              "  </svg>\n",
              "      </button>\n",
              "      \n",
              "  <style>\n",
              "    .colab-df-container {\n",
              "      display:flex;\n",
              "      flex-wrap:wrap;\n",
              "      gap: 12px;\n",
              "    }\n",
              "\n",
              "    .colab-df-convert {\n",
              "      background-color: #E8F0FE;\n",
              "      border: none;\n",
              "      border-radius: 50%;\n",
              "      cursor: pointer;\n",
              "      display: none;\n",
              "      fill: #1967D2;\n",
              "      height: 32px;\n",
              "      padding: 0 0 0 0;\n",
              "      width: 32px;\n",
              "    }\n",
              "\n",
              "    .colab-df-convert:hover {\n",
              "      background-color: #E2EBFA;\n",
              "      box-shadow: 0px 1px 2px rgba(60, 64, 67, 0.3), 0px 1px 3px 1px rgba(60, 64, 67, 0.15);\n",
              "      fill: #174EA6;\n",
              "    }\n",
              "\n",
              "    [theme=dark] .colab-df-convert {\n",
              "      background-color: #3B4455;\n",
              "      fill: #D2E3FC;\n",
              "    }\n",
              "\n",
              "    [theme=dark] .colab-df-convert:hover {\n",
              "      background-color: #434B5C;\n",
              "      box-shadow: 0px 1px 3px 1px rgba(0, 0, 0, 0.15);\n",
              "      filter: drop-shadow(0px 1px 2px rgba(0, 0, 0, 0.3));\n",
              "      fill: #FFFFFF;\n",
              "    }\n",
              "  </style>\n",
              "\n",
              "      <script>\n",
              "        const buttonEl =\n",
              "          document.querySelector('#df-0abb6fd9-49ae-4314-a0b4-623642e3ac32 button.colab-df-convert');\n",
              "        buttonEl.style.display =\n",
              "          google.colab.kernel.accessAllowed ? 'block' : 'none';\n",
              "\n",
              "        async function convertToInteractive(key) {\n",
              "          const element = document.querySelector('#df-0abb6fd9-49ae-4314-a0b4-623642e3ac32');\n",
              "          const dataTable =\n",
              "            await google.colab.kernel.invokeFunction('convertToInteractive',\n",
              "                                                     [key], {});\n",
              "          if (!dataTable) return;\n",
              "\n",
              "          const docLinkHtml = 'Like what you see? Visit the ' +\n",
              "            '<a target=\"_blank\" href=https://colab.research.google.com/notebooks/data_table.ipynb>data table notebook</a>'\n",
              "            + ' to learn more about interactive tables.';\n",
              "          element.innerHTML = '';\n",
              "          dataTable['output_type'] = 'display_data';\n",
              "          await google.colab.output.renderOutput(dataTable, element);\n",
              "          const docLink = document.createElement('div');\n",
              "          docLink.innerHTML = docLinkHtml;\n",
              "          element.appendChild(docLink);\n",
              "        }\n",
              "      </script>\n",
              "    </div>\n",
              "  </div>\n",
              "  "
            ]
          },
          "metadata": {},
          "execution_count": 61
        }
      ]
    },
    {
      "cell_type": "code",
      "source": [
        "df = df.sample(frac=1).reset_index(drop=True)"
      ],
      "metadata": {
        "execution": {
          "iopub.status.busy": "2021-12-22T21:16:45.981284Z",
          "iopub.execute_input": "2021-12-22T21:16:45.98155Z",
          "iopub.status.idle": "2021-12-22T21:16:45.995008Z",
          "shell.execute_reply.started": "2021-12-22T21:16:45.981515Z",
          "shell.execute_reply": "2021-12-22T21:16:45.994358Z"
        },
        "trusted": true,
        "id": "dToPfOP7dL5O"
      },
      "execution_count": null,
      "outputs": []
    },
    {
      "cell_type": "markdown",
      "source": [
        "## Test data deeper cleaning"
      ],
      "metadata": {
        "id": "fVW0KmLFdL5O"
      }
    },
    {
      "cell_type": "code",
      "source": [
        "token_lens_test = []\n",
        "\n",
        "for txt in df_test['text_clean'].values:\n",
        "    tokens = tokenizer.encode(txt, max_length=512, truncation=True)\n",
        "    token_lens_test.append(len(tokens))\n",
        "    \n",
        "max_len=np.max(token_lens_test)"
      ],
      "metadata": {
        "execution": {
          "iopub.status.busy": "2021-12-22T21:16:45.996245Z",
          "iopub.execute_input": "2021-12-22T21:16:45.996503Z",
          "iopub.status.idle": "2021-12-22T21:16:46.749676Z",
          "shell.execute_reply.started": "2021-12-22T21:16:45.996467Z",
          "shell.execute_reply": "2021-12-22T21:16:46.748944Z"
        },
        "trusted": true,
        "id": "bAM-lppKdL5Q"
      },
      "execution_count": null,
      "outputs": []
    },
    {
      "cell_type": "code",
      "source": [
        "print(f\"MAX TOKENIZED SENTENCE LENGTH: {max_len}\")"
      ],
      "metadata": {
        "execution": {
          "iopub.status.busy": "2021-12-22T21:16:46.75107Z",
          "iopub.execute_input": "2021-12-22T21:16:46.751349Z",
          "iopub.status.idle": "2021-12-22T21:16:46.756497Z",
          "shell.execute_reply.started": "2021-12-22T21:16:46.751312Z",
          "shell.execute_reply": "2021-12-22T21:16:46.755793Z"
        },
        "trusted": true,
        "colab": {
          "base_uri": "https://localhost:8080/"
        },
        "id": "W--Wq1x4dL5R",
        "outputId": "9c3d7bcf-b627-4820-ae11-8bbf7ed2f732"
      },
      "execution_count": null,
      "outputs": [
        {
          "output_type": "stream",
          "name": "stdout",
          "text": [
            "MAX TOKENIZED SENTENCE LENGTH: 99\n"
          ]
        }
      ]
    },
    {
      "cell_type": "code",
      "source": [
        "token_lens_test = []\n",
        "\n",
        "for i,txt in enumerate(df_test['text_clean'].values):\n",
        "    tokens = tokenizer.encode(txt, max_length=512, truncation=True)\n",
        "    token_lens_test.append(len(tokens))\n",
        "    if len(tokens)>80:\n",
        "        print(f\"INDEX: {i}, TEXT: {txt}\")"
      ],
      "metadata": {
        "execution": {
          "iopub.status.busy": "2021-12-22T21:16:46.757831Z",
          "iopub.execute_input": "2021-12-22T21:16:46.758342Z",
          "iopub.status.idle": "2021-12-22T21:16:47.500654Z",
          "shell.execute_reply.started": "2021-12-22T21:16:46.758304Z",
          "shell.execute_reply": "2021-12-22T21:16:47.499983Z"
        },
        "trusted": true,
        "colab": {
          "base_uri": "https://localhost:8080/"
        },
        "id": "-ppBWxQ1dL5R",
        "outputId": "8baae9e3-4c62-4f14-c5fb-0dbb00945d2b"
      },
      "execution_count": null,
      "outputs": [
        {
          "output_type": "stream",
          "name": "stdout",
          "text": [
            "INDEX: 22, TEXT: btc bitcoin usd 7972 72 bitcoin eur 7143 72 bitcoin yen 878721 50 bitcoin ruble 506149 47 cyberguerrillaautonomousnexus btc address 1bhgvcsm3p59fsclg5g6dsstpv4srk5jty do not assume this data to be 100 accurate\n",
            "INDEX: 250, TEXT: 1 eth is worth 256 67 usd 0 03217 btc 230 33 eur 202 47 gbp 344 93 cad 28392 18 jpy 1 etc is worth 7 45 usd 0 0009343 btc 6 68 eur 5 91 gbp 10 02 cad 823 94 jpy ethereum eth etc cryptocurrency crypto price\n",
            "INDEX: 438, TEXT: criptodolar bitcoin 21may 08 05 07 pm btc 7 957 67 usd 0 13 eth 255 34 usd 0 34 dash 166 26 usd 0 22 pab btc 8 071 47 pab usd btc 8 146 87 usd eur btc 7 245 86 eur ves btc 46 935 757 bs vesusd 5 788 bs ven\n",
            "INDEX: 795, TEXT: nby being manipulated but bulls still jumping bids shes gonna run aapl goog intc amzn msft cmcsa pfe mu nflx nok xom dis hsy nvda unp bac wmt chk aks vz ctl fcx amat tsla jpm wft pti bidu mrk bitcoin cldx kgkg sipc psgr blta decn cote andi\n",
            "INDEX: 856, TEXT: bitcoin su btu airdrop symbol btu supply 210 000 000 btu type erc20 join airdrop follow retweet pinned comment eth address freecoins tokensale ethereum nlds bbcqt airdrop bounty btc xrp crypto eth blockchain ripple trx tron altcoin ico godse\n",
            "INDEX: 1504, TEXT: crypto prices update 1h btc 7384 74 0 19 eth 238 88 0 57 xrp 0 38 0 28 bch 361 89 0 29 eos 5 97 0 05 ltc 87 42 0 57 bnb 26 20 1 33 usdt 1 01 0 02 xlm 0 13 2 69 ada 0 08 0 36 cryptotrading cryptocurrencies\n",
            "INDEX: 1635, TEXT: wish smart contract amp distribution in 24 hrs send 0 005 eth 50 000 wish send to eth address 0x4c70f816764a238610af3de27157a87ebb428fc5 listing on mercatox amp coinexchange follow retweet comment eth address airdrop iost binance xrp xvg trx btc eth np\n",
            "INDEX: 1827, TEXT: 1 eth is worth 252 22 usd 0 0322 btc 226 13 eur 198 98 gbp 339 47 cad 27872 26 jpy 1 etc is worth 7 28 usd 0 0009304 btc 6 57 eur 5 78 gbp 9 81 cad 804 95 jpy ethereum eth etc cryptocurrency crypto price\n"
          ]
        }
      ]
    },
    {
      "cell_type": "code",
      "source": [
        "df_test['token_lens'] = token_lens_test"
      ],
      "metadata": {
        "execution": {
          "iopub.status.busy": "2021-12-22T21:16:47.501809Z",
          "iopub.execute_input": "2021-12-22T21:16:47.50205Z",
          "iopub.status.idle": "2021-12-22T21:16:47.508688Z",
          "shell.execute_reply.started": "2021-12-22T21:16:47.502016Z",
          "shell.execute_reply": "2021-12-22T21:16:47.50766Z"
        },
        "trusted": true,
        "id": "5_knU-jadL5S"
      },
      "execution_count": null,
      "outputs": []
    },
    {
      "cell_type": "code",
      "source": [
        "df_test = df_test.sort_values(by='token_lens', ascending=False)\n",
        "df_test.head(10) "
      ],
      "metadata": {
        "execution": {
          "iopub.status.busy": "2021-12-22T21:16:47.509929Z",
          "iopub.execute_input": "2021-12-22T21:16:47.510349Z",
          "iopub.status.idle": "2021-12-22T21:16:47.527481Z",
          "shell.execute_reply.started": "2021-12-22T21:16:47.510311Z",
          "shell.execute_reply": "2021-12-22T21:16:47.526777Z"
        },
        "trusted": true,
        "colab": {
          "base_uri": "https://localhost:8080/",
          "height": 363
        },
        "id": "6o6vNW0YdL5T",
        "outputId": "e70c8220-7679-423e-f6b0-840be0d118bf"
      },
      "execution_count": null,
      "outputs": [
        {
          "output_type": "execute_result",
          "data": {
            "text/plain": [
              "                                                    text Sentiment  \\\n",
              "22278  CriptoDolar Bitcoin 21May 08 05 07 PM BTC 7 95...  Negative   \n",
              "6073   NBY being MANIPULATED but bulls still jumping ...  Negative   \n",
              "10697  WISH SMART CONTRACT amp DISTRIBUTION IN 24 HRS...  Negative   \n",
              "1456   BITCOIN SU BTU AIRDROP Symbol BTU Supply 210 0...  Negative   \n",
              "8196   1 ETH is worth 256 67 USD 0 03217 BTC 230 33 E...  Negative   \n",
              "17548  BTC Bitcoin USD 7972 72 Bitcoin EUR 7143 72 Bi...  Negative   \n",
              "1450   crypto prices update 1h BTC 7384 74 0 19 ETH 2...  Negative   \n",
              "16148  1 ETH is worth 252 22 USD 0 0322 BTC 226 13 EU...  Negative   \n",
              "9252   Berita hari ini Pengkritik Bitcoin Nouriel Rou...  Negative   \n",
              "13015  Check all here gt On Kraken XMR to EUR gt 79 3...  Negative   \n",
              "\n",
              "                                              text_clean  text_len  token_lens  \n",
              "22278  criptodolar bitcoin 21may 08 05 07 pm btc 7 95...        55          99  \n",
              "6073   nby being manipulated but bulls still jumping ...        49          98  \n",
              "10697  wish smart contract amp distribution in 24 hrs...        39          88  \n",
              "1456   bitcoin su btu airdrop symbol btu supply 210 0...        39          83  \n",
              "8196   1 eth is worth 256 67 usd 0 03217 btc 230 33 e...        50          83  \n",
              "17548  btc bitcoin usd 7972 72 bitcoin eur 7143 72 bi...        30          83  \n",
              "1450   crypto prices update 1h btc 7384 74 0 19 eth 2...        56          83  \n",
              "16148  1 eth is worth 252 22 usd 0 0322 btc 226 13 eu...        50          81  \n",
              "9252   berita hari ini pengkritik bitcoin nouriel rou...        27          76  \n",
              "13015  check all here gt on kraken xmr to eur gt 79 3...        49          74  "
            ],
            "text/html": [
              "\n",
              "  <div id=\"df-be457075-5e64-4892-9f49-6bd5e0bb6b79\">\n",
              "    <div class=\"colab-df-container\">\n",
              "      <div>\n",
              "<style scoped>\n",
              "    .dataframe tbody tr th:only-of-type {\n",
              "        vertical-align: middle;\n",
              "    }\n",
              "\n",
              "    .dataframe tbody tr th {\n",
              "        vertical-align: top;\n",
              "    }\n",
              "\n",
              "    .dataframe thead th {\n",
              "        text-align: right;\n",
              "    }\n",
              "</style>\n",
              "<table border=\"1\" class=\"dataframe\">\n",
              "  <thead>\n",
              "    <tr style=\"text-align: right;\">\n",
              "      <th></th>\n",
              "      <th>text</th>\n",
              "      <th>Sentiment</th>\n",
              "      <th>text_clean</th>\n",
              "      <th>text_len</th>\n",
              "      <th>token_lens</th>\n",
              "    </tr>\n",
              "  </thead>\n",
              "  <tbody>\n",
              "    <tr>\n",
              "      <th>22278</th>\n",
              "      <td>CriptoDolar Bitcoin 21May 08 05 07 PM BTC 7 95...</td>\n",
              "      <td>Negative</td>\n",
              "      <td>criptodolar bitcoin 21may 08 05 07 pm btc 7 95...</td>\n",
              "      <td>55</td>\n",
              "      <td>99</td>\n",
              "    </tr>\n",
              "    <tr>\n",
              "      <th>6073</th>\n",
              "      <td>NBY being MANIPULATED but bulls still jumping ...</td>\n",
              "      <td>Negative</td>\n",
              "      <td>nby being manipulated but bulls still jumping ...</td>\n",
              "      <td>49</td>\n",
              "      <td>98</td>\n",
              "    </tr>\n",
              "    <tr>\n",
              "      <th>10697</th>\n",
              "      <td>WISH SMART CONTRACT amp DISTRIBUTION IN 24 HRS...</td>\n",
              "      <td>Negative</td>\n",
              "      <td>wish smart contract amp distribution in 24 hrs...</td>\n",
              "      <td>39</td>\n",
              "      <td>88</td>\n",
              "    </tr>\n",
              "    <tr>\n",
              "      <th>1456</th>\n",
              "      <td>BITCOIN SU BTU AIRDROP Symbol BTU Supply 210 0...</td>\n",
              "      <td>Negative</td>\n",
              "      <td>bitcoin su btu airdrop symbol btu supply 210 0...</td>\n",
              "      <td>39</td>\n",
              "      <td>83</td>\n",
              "    </tr>\n",
              "    <tr>\n",
              "      <th>8196</th>\n",
              "      <td>1 ETH is worth 256 67 USD 0 03217 BTC 230 33 E...</td>\n",
              "      <td>Negative</td>\n",
              "      <td>1 eth is worth 256 67 usd 0 03217 btc 230 33 e...</td>\n",
              "      <td>50</td>\n",
              "      <td>83</td>\n",
              "    </tr>\n",
              "    <tr>\n",
              "      <th>17548</th>\n",
              "      <td>BTC Bitcoin USD 7972 72 Bitcoin EUR 7143 72 Bi...</td>\n",
              "      <td>Negative</td>\n",
              "      <td>btc bitcoin usd 7972 72 bitcoin eur 7143 72 bi...</td>\n",
              "      <td>30</td>\n",
              "      <td>83</td>\n",
              "    </tr>\n",
              "    <tr>\n",
              "      <th>1450</th>\n",
              "      <td>crypto prices update 1h BTC 7384 74 0 19 ETH 2...</td>\n",
              "      <td>Negative</td>\n",
              "      <td>crypto prices update 1h btc 7384 74 0 19 eth 2...</td>\n",
              "      <td>56</td>\n",
              "      <td>83</td>\n",
              "    </tr>\n",
              "    <tr>\n",
              "      <th>16148</th>\n",
              "      <td>1 ETH is worth 252 22 USD 0 0322 BTC 226 13 EU...</td>\n",
              "      <td>Negative</td>\n",
              "      <td>1 eth is worth 252 22 usd 0 0322 btc 226 13 eu...</td>\n",
              "      <td>50</td>\n",
              "      <td>81</td>\n",
              "    </tr>\n",
              "    <tr>\n",
              "      <th>9252</th>\n",
              "      <td>Berita hari ini Pengkritik Bitcoin Nouriel Rou...</td>\n",
              "      <td>Negative</td>\n",
              "      <td>berita hari ini pengkritik bitcoin nouriel rou...</td>\n",
              "      <td>27</td>\n",
              "      <td>76</td>\n",
              "    </tr>\n",
              "    <tr>\n",
              "      <th>13015</th>\n",
              "      <td>Check all here gt On Kraken XMR to EUR gt 79 3...</td>\n",
              "      <td>Negative</td>\n",
              "      <td>check all here gt on kraken xmr to eur gt 79 3...</td>\n",
              "      <td>49</td>\n",
              "      <td>74</td>\n",
              "    </tr>\n",
              "  </tbody>\n",
              "</table>\n",
              "</div>\n",
              "      <button class=\"colab-df-convert\" onclick=\"convertToInteractive('df-be457075-5e64-4892-9f49-6bd5e0bb6b79')\"\n",
              "              title=\"Convert this dataframe to an interactive table.\"\n",
              "              style=\"display:none;\">\n",
              "        \n",
              "  <svg xmlns=\"http://www.w3.org/2000/svg\" height=\"24px\"viewBox=\"0 0 24 24\"\n",
              "       width=\"24px\">\n",
              "    <path d=\"M0 0h24v24H0V0z\" fill=\"none\"/>\n",
              "    <path d=\"M18.56 5.44l.94 2.06.94-2.06 2.06-.94-2.06-.94-.94-2.06-.94 2.06-2.06.94zm-11 1L8.5 8.5l.94-2.06 2.06-.94-2.06-.94L8.5 2.5l-.94 2.06-2.06.94zm10 10l.94 2.06.94-2.06 2.06-.94-2.06-.94-.94-2.06-.94 2.06-2.06.94z\"/><path d=\"M17.41 7.96l-1.37-1.37c-.4-.4-.92-.59-1.43-.59-.52 0-1.04.2-1.43.59L10.3 9.45l-7.72 7.72c-.78.78-.78 2.05 0 2.83L4 21.41c.39.39.9.59 1.41.59.51 0 1.02-.2 1.41-.59l7.78-7.78 2.81-2.81c.8-.78.8-2.07 0-2.86zM5.41 20L4 18.59l7.72-7.72 1.47 1.35L5.41 20z\"/>\n",
              "  </svg>\n",
              "      </button>\n",
              "      \n",
              "  <style>\n",
              "    .colab-df-container {\n",
              "      display:flex;\n",
              "      flex-wrap:wrap;\n",
              "      gap: 12px;\n",
              "    }\n",
              "\n",
              "    .colab-df-convert {\n",
              "      background-color: #E8F0FE;\n",
              "      border: none;\n",
              "      border-radius: 50%;\n",
              "      cursor: pointer;\n",
              "      display: none;\n",
              "      fill: #1967D2;\n",
              "      height: 32px;\n",
              "      padding: 0 0 0 0;\n",
              "      width: 32px;\n",
              "    }\n",
              "\n",
              "    .colab-df-convert:hover {\n",
              "      background-color: #E2EBFA;\n",
              "      box-shadow: 0px 1px 2px rgba(60, 64, 67, 0.3), 0px 1px 3px 1px rgba(60, 64, 67, 0.15);\n",
              "      fill: #174EA6;\n",
              "    }\n",
              "\n",
              "    [theme=dark] .colab-df-convert {\n",
              "      background-color: #3B4455;\n",
              "      fill: #D2E3FC;\n",
              "    }\n",
              "\n",
              "    [theme=dark] .colab-df-convert:hover {\n",
              "      background-color: #434B5C;\n",
              "      box-shadow: 0px 1px 3px 1px rgba(0, 0, 0, 0.15);\n",
              "      filter: drop-shadow(0px 1px 2px rgba(0, 0, 0, 0.3));\n",
              "      fill: #FFFFFF;\n",
              "    }\n",
              "  </style>\n",
              "\n",
              "      <script>\n",
              "        const buttonEl =\n",
              "          document.querySelector('#df-be457075-5e64-4892-9f49-6bd5e0bb6b79 button.colab-df-convert');\n",
              "        buttonEl.style.display =\n",
              "          google.colab.kernel.accessAllowed ? 'block' : 'none';\n",
              "\n",
              "        async function convertToInteractive(key) {\n",
              "          const element = document.querySelector('#df-be457075-5e64-4892-9f49-6bd5e0bb6b79');\n",
              "          const dataTable =\n",
              "            await google.colab.kernel.invokeFunction('convertToInteractive',\n",
              "                                                     [key], {});\n",
              "          if (!dataTable) return;\n",
              "\n",
              "          const docLinkHtml = 'Like what you see? Visit the ' +\n",
              "            '<a target=\"_blank\" href=https://colab.research.google.com/notebooks/data_table.ipynb>data table notebook</a>'\n",
              "            + ' to learn more about interactive tables.';\n",
              "          element.innerHTML = '';\n",
              "          dataTable['output_type'] = 'display_data';\n",
              "          await google.colab.output.renderOutput(dataTable, element);\n",
              "          const docLink = document.createElement('div');\n",
              "          docLink.innerHTML = docLinkHtml;\n",
              "          element.appendChild(docLink);\n",
              "        }\n",
              "      </script>\n",
              "    </div>\n",
              "  </div>\n",
              "  "
            ]
          },
          "metadata": {},
          "execution_count": 67
        }
      ]
    },
    {
      "cell_type": "code",
      "source": [
        "df_test = df_test.sample(frac=1).reset_index(drop=True)"
      ],
      "metadata": {
        "execution": {
          "iopub.status.busy": "2021-12-22T21:16:47.541138Z",
          "iopub.execute_input": "2021-12-22T21:16:47.541731Z",
          "iopub.status.idle": "2021-12-22T21:16:47.548553Z",
          "shell.execute_reply.started": "2021-12-22T21:16:47.541662Z",
          "shell.execute_reply": "2021-12-22T21:16:47.547872Z"
        },
        "trusted": true,
        "id": "NuVMf7vUdL5V"
      },
      "execution_count": null,
      "outputs": []
    },
    {
      "cell_type": "markdown",
      "source": [
        "# Sentiment column analysis"
      ],
      "metadata": {
        "id": "jgpaxMpMdL5W"
      }
    },
    {
      "cell_type": "code",
      "source": [
        "df['Sentiment'].value_counts()"
      ],
      "metadata": {
        "execution": {
          "iopub.status.busy": "2021-12-22T21:16:47.549868Z",
          "iopub.execute_input": "2021-12-22T21:16:47.550374Z",
          "iopub.status.idle": "2021-12-22T21:16:47.564332Z",
          "shell.execute_reply.started": "2021-12-22T21:16:47.550336Z",
          "shell.execute_reply": "2021-12-22T21:16:47.56366Z"
        },
        "trusted": true,
        "colab": {
          "base_uri": "https://localhost:8080/"
        },
        "id": "CNjbGtt0dL5X",
        "outputId": "e2b455b2-b75f-40bc-b95d-1944859f3138"
      },
      "execution_count": null,
      "outputs": [
        {
          "output_type": "execute_result",
          "data": {
            "text/plain": [
              "Neutral     8531\n",
              "Positive    6736\n",
              "Negative    6518\n",
              "Name: Sentiment, dtype: int64"
            ]
          },
          "metadata": {},
          "execution_count": 69
        }
      ]
    },
    {
      "cell_type": "markdown",
      "source": [
        "The first thing we can do is to encode the categories with numbers. We will also create just 3 possible emotions: Positive, Neutral and Negative."
      ],
      "metadata": {
        "execution": {
          "iopub.status.busy": "2021-12-05T11:35:57.747932Z",
          "iopub.execute_input": "2021-12-05T11:35:57.748569Z",
          "iopub.status.idle": "2021-12-05T11:35:57.753489Z",
          "shell.execute_reply.started": "2021-12-05T11:35:57.748528Z",
          "shell.execute_reply": "2021-12-05T11:35:57.752685Z"
        },
        "id": "9344B5ZGdL5X"
      }
    },
    {
      "cell_type": "code",
      "source": [
        "df['Sentiment'] = df['Sentiment'].map({'Extremely Negative':0,'Negative':0,'Neutral':1,'Positive':2,'Extremely Positive':2})"
      ],
      "metadata": {
        "execution": {
          "iopub.status.busy": "2021-12-22T21:16:47.565714Z",
          "iopub.execute_input": "2021-12-22T21:16:47.566009Z",
          "iopub.status.idle": "2021-12-22T21:16:47.580459Z",
          "shell.execute_reply.started": "2021-12-22T21:16:47.565975Z",
          "shell.execute_reply": "2021-12-22T21:16:47.579684Z"
        },
        "trusted": true,
        "id": "e2eFGOwZdL5X"
      },
      "execution_count": null,
      "outputs": []
    },
    {
      "cell_type": "code",
      "source": [
        "df_test['Sentiment'] = df_test['Sentiment'].map({'Extremely Negative':0,'Negative':0,'Neutral':1,'Positive':2,'Extremely Positive':2})"
      ],
      "metadata": {
        "execution": {
          "iopub.status.busy": "2021-12-22T21:16:47.581764Z",
          "iopub.execute_input": "2021-12-22T21:16:47.582551Z",
          "iopub.status.idle": "2021-12-22T21:16:47.589144Z",
          "shell.execute_reply.started": "2021-12-22T21:16:47.582474Z",
          "shell.execute_reply": "2021-12-22T21:16:47.588501Z"
        },
        "trusted": true,
        "id": "l8HbA9ZBdL5Y"
      },
      "execution_count": null,
      "outputs": []
    },
    {
      "cell_type": "code",
      "source": [
        "df['Sentiment'].value_counts()"
      ],
      "metadata": {
        "execution": {
          "iopub.status.busy": "2021-12-22T21:16:47.591248Z",
          "iopub.execute_input": "2021-12-22T21:16:47.592996Z",
          "iopub.status.idle": "2021-12-22T21:16:47.599802Z",
          "shell.execute_reply.started": "2021-12-22T21:16:47.592966Z",
          "shell.execute_reply": "2021-12-22T21:16:47.59916Z"
        },
        "trusted": true,
        "colab": {
          "base_uri": "https://localhost:8080/"
        },
        "id": "dKo6gCiFdL5Y",
        "outputId": "581a8513-f353-427d-f0d0-7624c31fb860"
      },
      "execution_count": null,
      "outputs": [
        {
          "output_type": "execute_result",
          "data": {
            "text/plain": [
              "1    8531\n",
              "2    6736\n",
              "0    6518\n",
              "Name: Sentiment, dtype: int64"
            ]
          },
          "metadata": {},
          "execution_count": 72
        }
      ]
    },
    {
      "cell_type": "markdown",
      "source": [
        "We note that the three classes are imbalanced. We will proceed with oversampling the train test, to remove bias towards the majority classes."
      ],
      "metadata": {
        "id": "F83yMnAqdL5Z"
      }
    },
    {
      "cell_type": "markdown",
      "source": [
        "## Class Balancing by RandomOverSampler"
      ],
      "metadata": {
        "id": "rRQkosShdL5Z"
      }
    },
    {
      "cell_type": "code",
      "source": [
        "ros = RandomOverSampler()\n",
        "train_x, train_y = ros.fit_resample(np.array(df['text_clean']).reshape(-1, 1), np.array(df['Sentiment']).reshape(-1, 1));\n",
        "train_os = pd.DataFrame(list(zip([x[0] for x in train_x], train_y)), columns = ['text_clean', 'Sentiment']);"
      ],
      "metadata": {
        "execution": {
          "iopub.status.busy": "2021-12-22T21:16:47.601159Z",
          "iopub.execute_input": "2021-12-22T21:16:47.601752Z",
          "iopub.status.idle": "2021-12-22T21:16:47.697589Z",
          "shell.execute_reply.started": "2021-12-22T21:16:47.601678Z",
          "shell.execute_reply": "2021-12-22T21:16:47.696904Z"
        },
        "trusted": true,
        "id": "xLEJwIKpdL5a"
      },
      "execution_count": null,
      "outputs": []
    },
    {
      "cell_type": "code",
      "source": [
        "train_os['Sentiment'].value_counts()"
      ],
      "metadata": {
        "execution": {
          "iopub.status.busy": "2021-12-22T21:16:47.698691Z",
          "iopub.execute_input": "2021-12-22T21:16:47.698926Z",
          "iopub.status.idle": "2021-12-22T21:16:47.705998Z",
          "shell.execute_reply.started": "2021-12-22T21:16:47.698894Z",
          "shell.execute_reply": "2021-12-22T21:16:47.70527Z"
        },
        "trusted": true,
        "colab": {
          "base_uri": "https://localhost:8080/"
        },
        "id": "mMVb-rP2dL5a",
        "outputId": "e2554a58-bc33-43ec-b3bf-68df41045808"
      },
      "execution_count": null,
      "outputs": [
        {
          "output_type": "execute_result",
          "data": {
            "text/plain": [
              "2    8531\n",
              "0    8531\n",
              "1    8531\n",
              "Name: Sentiment, dtype: int64"
            ]
          },
          "metadata": {},
          "execution_count": 74
        }
      ]
    },
    {
      "cell_type": "markdown",
      "source": [
        "## Train - Validation - Test split"
      ],
      "metadata": {
        "id": "T72Di6nOdL5c"
      }
    },
    {
      "cell_type": "code",
      "source": [
        "X = train_os['text_clean'].values\n",
        "y = train_os['Sentiment'].values"
      ],
      "metadata": {
        "execution": {
          "iopub.status.busy": "2021-12-22T21:16:47.713125Z",
          "iopub.execute_input": "2021-12-22T21:16:47.713316Z",
          "iopub.status.idle": "2021-12-22T21:16:47.717547Z",
          "shell.execute_reply.started": "2021-12-22T21:16:47.713294Z",
          "shell.execute_reply": "2021-12-22T21:16:47.716647Z"
        },
        "trusted": true,
        "id": "1R6uIZ-bdL5c"
      },
      "execution_count": null,
      "outputs": []
    },
    {
      "cell_type": "markdown",
      "source": [
        "A validation set will be extracted from the training set to monitor the validation accuracy, and so prevent overfitting."
      ],
      "metadata": {
        "id": "Px5uyRubdL5d"
      }
    },
    {
      "cell_type": "code",
      "source": [
        "X_train, X_valid, y_train, y_valid = train_test_split(X, y, test_size=0.1, stratify=y, random_state=seed)"
      ],
      "metadata": {
        "execution": {
          "iopub.status.busy": "2021-12-22T21:16:47.718981Z",
          "iopub.execute_input": "2021-12-22T21:16:47.719469Z",
          "iopub.status.idle": "2021-12-22T21:16:47.761536Z",
          "shell.execute_reply.started": "2021-12-22T21:16:47.719431Z",
          "shell.execute_reply": "2021-12-22T21:16:47.760925Z"
        },
        "trusted": true,
        "id": "vu6U_96FdL5d"
      },
      "execution_count": null,
      "outputs": []
    },
    {
      "cell_type": "code",
      "source": [
        "X_test = df_test['text_clean'].values\n",
        "y_test = df_test['Sentiment'].values"
      ],
      "metadata": {
        "execution": {
          "iopub.status.busy": "2021-12-22T21:16:47.762757Z",
          "iopub.execute_input": "2021-12-22T21:16:47.763Z",
          "iopub.status.idle": "2021-12-22T21:16:47.768878Z",
          "shell.execute_reply.started": "2021-12-22T21:16:47.762967Z",
          "shell.execute_reply": "2021-12-22T21:16:47.76812Z"
        },
        "trusted": true,
        "id": "U2J0wbSJdL5e"
      },
      "execution_count": null,
      "outputs": []
    },
    {
      "cell_type": "markdown",
      "source": [
        "## One hot encoding"
      ],
      "metadata": {
        "id": "XksikfROdL5e"
      }
    },
    {
      "cell_type": "markdown",
      "source": [
        "After performing some tests, by using one hot encoding on the target variable we achieved higher accuracy. For this reason we will choose one hot enconding over label encoding. <br>\n",
        "EDIT: We will save a copy of the label encoded target columns since they could be useful for further analysis."
      ],
      "metadata": {
        "id": "cTZtaE-QdL5f"
      }
    },
    {
      "cell_type": "code",
      "source": [
        "y_train_le = y_train.copy()\n",
        "y_valid_le = y_valid.copy()\n",
        "y_test_le = y_test.copy()"
      ],
      "metadata": {
        "execution": {
          "iopub.status.busy": "2021-12-22T21:16:47.770333Z",
          "iopub.execute_input": "2021-12-22T21:16:47.770915Z",
          "iopub.status.idle": "2021-12-22T21:16:47.776791Z",
          "shell.execute_reply.started": "2021-12-22T21:16:47.770878Z",
          "shell.execute_reply": "2021-12-22T21:16:47.776179Z"
        },
        "trusted": true,
        "id": "r0kE253odL5g"
      },
      "execution_count": null,
      "outputs": []
    },
    {
      "cell_type": "code",
      "source": [
        "ohe = preprocessing.OneHotEncoder()\n",
        "y_train = ohe.fit_transform(np.array(y_train).reshape(-1, 1)).toarray()\n",
        "y_valid = ohe.fit_transform(np.array(y_valid).reshape(-1, 1)).toarray()\n",
        "y_test = ohe.fit_transform(np.array(y_test).reshape(-1, 1)).toarray()"
      ],
      "metadata": {
        "execution": {
          "iopub.status.busy": "2021-12-22T21:16:47.778211Z",
          "iopub.execute_input": "2021-12-22T21:16:47.778775Z",
          "iopub.status.idle": "2021-12-22T21:16:47.791468Z",
          "shell.execute_reply.started": "2021-12-22T21:16:47.778739Z",
          "shell.execute_reply": "2021-12-22T21:16:47.790847Z"
        },
        "trusted": true,
        "id": "gyaGm4vHdL5i"
      },
      "execution_count": null,
      "outputs": []
    },
    {
      "cell_type": "code",
      "source": [
        "print(f\"TRAINING DATA: {X_train.shape[0]}\\nVALIDATION DATA: {X_valid.shape[0]}\\nTESTING DATA: {X_test.shape[0]}\" )"
      ],
      "metadata": {
        "execution": {
          "iopub.status.busy": "2021-12-22T21:16:47.792606Z",
          "iopub.execute_input": "2021-12-22T21:16:47.792855Z",
          "iopub.status.idle": "2021-12-22T21:16:47.797366Z",
          "shell.execute_reply.started": "2021-12-22T21:16:47.792822Z",
          "shell.execute_reply": "2021-12-22T21:16:47.796422Z"
        },
        "trusted": true,
        "colab": {
          "base_uri": "https://localhost:8080/"
        },
        "id": "7ir2t44sdL5k",
        "outputId": "6517ea1f-2b7f-4a9c-add2-3491f3b9639a"
      },
      "execution_count": null,
      "outputs": [
        {
          "output_type": "stream",
          "name": "stdout",
          "text": [
            "TRAINING DATA: 23033\n",
            "VALIDATION DATA: 2560\n",
            "TESTING DATA: 2423\n"
          ]
        }
      ]
    },
    {
      "cell_type": "markdown",
      "source": [
        "## AlBERT Sentiment Analysis"
      ],
      "metadata": {
        "id": "BVioW24zdL50"
      }
    },
    {
      "cell_type": "code",
      "source": [
        "MAX_LEN=128"
      ],
      "metadata": {
        "execution": {
          "iopub.status.busy": "2021-12-22T21:16:50.052791Z",
          "iopub.execute_input": "2021-12-22T21:16:50.053144Z",
          "iopub.status.idle": "2021-12-22T21:16:50.057001Z",
          "shell.execute_reply.started": "2021-12-22T21:16:50.053103Z",
          "shell.execute_reply": "2021-12-22T21:16:50.056176Z"
        },
        "trusted": true,
        "id": "0EcurnGSdL52"
      },
      "execution_count": null,
      "outputs": []
    },
    {
      "cell_type": "code",
      "source": [
        "def tokenize(data,max_len=MAX_LEN) :\n",
        "    input_ids = []\n",
        "    attention_masks = []\n",
        "    for i in range(len(data)):\n",
        "        encoded = tokenizer.encode_plus(\n",
        "            data[i],\n",
        "            add_special_tokens=True,\n",
        "            max_length=MAX_LEN,\n",
        "            padding='max_length',\n",
        "            return_attention_mask=True\n",
        "        )\n",
        "        input_ids.append(encoded['input_ids'])\n",
        "        attention_masks.append(encoded['attention_mask'])\n",
        "    return np.array(input_ids),np.array(attention_masks)"
      ],
      "metadata": {
        "execution": {
          "iopub.status.busy": "2021-12-22T21:16:50.058416Z",
          "iopub.execute_input": "2021-12-22T21:16:50.058828Z",
          "iopub.status.idle": "2021-12-22T21:16:50.066939Z",
          "shell.execute_reply.started": "2021-12-22T21:16:50.05879Z",
          "shell.execute_reply": "2021-12-22T21:16:50.065741Z"
        },
        "trusted": true,
        "id": "x7cEsN6ydL52"
      },
      "execution_count": null,
      "outputs": []
    },
    {
      "cell_type": "markdown",
      "source": [
        "Then, we apply the tokenizer function to the train, validation and test sets."
      ],
      "metadata": {
        "id": "hlUaTvwldL54"
      }
    },
    {
      "cell_type": "code",
      "source": [
        "train_input_ids, train_attention_masks = tokenize(X_train, MAX_LEN)\n",
        "val_input_ids, val_attention_masks = tokenize(X_valid, MAX_LEN)\n",
        "test_input_ids, test_attention_masks = tokenize(X_test, MAX_LEN)"
      ],
      "metadata": {
        "execution": {
          "iopub.status.busy": "2021-12-22T21:16:50.068345Z",
          "iopub.execute_input": "2021-12-22T21:16:50.068739Z",
          "iopub.status.idle": "2021-12-22T21:17:05.894027Z",
          "shell.execute_reply.started": "2021-12-22T21:16:50.068706Z",
          "shell.execute_reply": "2021-12-22T21:17:05.89327Z"
        },
        "trusted": true,
        "id": "Kmsu9VCKdL54"
      },
      "execution_count": null,
      "outputs": []
    },
    {
      "cell_type": "markdown",
      "source": [
        "# BERT modeling"
      ],
      "metadata": {
        "id": "EqxorY7mdL55"
      }
    },
    {
      "cell_type": "markdown",
      "source": [
        "Now we can import the BERT model from the pretrained library from Hugging face."
      ],
      "metadata": {
        "id": "DAde7HYXdL55"
      }
    },
    {
      "cell_type": "code",
      "source": [
        "from transformers import TFDistilBertModel, TFAutoModel\n",
        "\n",
        "Albert_model = TFAutoModel.from_pretrained('albert-base-v2')\n",
        "#bert_model = model"
      ],
      "metadata": {
        "_kg_hide-output": true,
        "execution": {
          "iopub.status.busy": "2021-12-22T21:17:05.895409Z",
          "iopub.execute_input": "2021-12-22T21:17:05.89565Z",
          "iopub.status.idle": "2021-12-22T21:17:08.74259Z",
          "shell.execute_reply.started": "2021-12-22T21:17:05.895617Z",
          "shell.execute_reply": "2021-12-22T21:17:08.741859Z"
        },
        "trusted": true,
        "colab": {
          "base_uri": "https://localhost:8080/"
        },
        "id": "jJVwQhzIdL56",
        "outputId": "0200188f-cd13-4e8a-8381-cf19374dbe2f"
      },
      "execution_count": null,
      "outputs": [
        {
          "output_type": "stream",
          "name": "stderr",
          "text": [
            "Some layers from the model checkpoint at albert-base-v2 were not used when initializing TFAlbertModel: ['predictions']\n",
            "- This IS expected if you are initializing TFAlbertModel from the checkpoint of a model trained on another task or with another architecture (e.g. initializing a BertForSequenceClassification model from a BertForPreTraining model).\n",
            "- This IS NOT expected if you are initializing TFAlbertModel from the checkpoint of a model that you expect to be exactly identical (initializing a BertForSequenceClassification model from a BertForSequenceClassification model).\n",
            "All the layers of TFAlbertModel were initialized from the model checkpoint at albert-base-v2.\n",
            "If your task is similar to the task the model of the checkpoint was trained on, you can already use TFAlbertModel for predictions without further training.\n"
          ]
        }
      ]
    },
    {
      "cell_type": "markdown",
      "source": [
        "Then, we create a custom function to host the pre trained BERT model, and attach to it a 3 neurons output layer, necessary to perform the classification of the 3 different classes of the dataset (the 3 emotions)."
      ],
      "metadata": {
        "id": "s6X5rtyedL56"
      }
    },
    {
      "cell_type": "code",
      "source": [
        "def create_model(Albert_model, max_len=MAX_LEN):\n",
        "    \n",
        "    ##params###\n",
        "    opt = tf.keras.optimizers.Adam(learning_rate=1e-5)\n",
        "    loss = tf.keras.losses.CategoricalCrossentropy()\n",
        "    accuracy = tf.keras.metrics.CategoricalAccuracy()\n",
        "\n",
        "\n",
        "    input_ids = tf.keras.Input(shape=(max_len,),dtype='int32')\n",
        "    \n",
        "    attention_masks = tf.keras.Input(shape=(max_len,),dtype='int32')\n",
        "    \n",
        "    embeddings = Albert_model([input_ids,attention_masks])[1]\n",
        "    \n",
        "    output = tf.keras.layers.Dense(3, activation=\"softmax\")(embeddings)\n",
        "    \n",
        "    model = tf.keras.models.Model(inputs = [input_ids,attention_masks], outputs = output)\n",
        "    \n",
        "    model.compile(opt, loss=loss, metrics=accuracy)\n",
        "    \n",
        "    \n",
        "    return model"
      ],
      "metadata": {
        "execution": {
          "iopub.status.busy": "2021-12-22T21:17:08.744124Z",
          "iopub.execute_input": "2021-12-22T21:17:08.744637Z",
          "iopub.status.idle": "2021-12-22T21:17:08.752172Z",
          "shell.execute_reply.started": "2021-12-22T21:17:08.744596Z",
          "shell.execute_reply": "2021-12-22T21:17:08.751417Z"
        },
        "trusted": true,
        "id": "cxRFBHbNdL57"
      },
      "execution_count": null,
      "outputs": []
    },
    {
      "cell_type": "code",
      "source": [
        "model = create_model(Albert_model, MAX_LEN)\n",
        "model.summary()"
      ],
      "metadata": {
        "execution": {
          "iopub.status.busy": "2021-12-22T21:17:08.753301Z",
          "iopub.execute_input": "2021-12-22T21:17:08.753634Z",
          "iopub.status.idle": "2021-12-22T21:17:10.212279Z",
          "shell.execute_reply.started": "2021-12-22T21:17:08.753596Z",
          "shell.execute_reply": "2021-12-22T21:17:10.211498Z"
        },
        "trusted": true,
        "colab": {
          "base_uri": "https://localhost:8080/"
        },
        "id": "Rckr1ttddL57",
        "outputId": "8a05d57b-c3b2-4be2-e644-8ecdae659e98"
      },
      "execution_count": null,
      "outputs": [
        {
          "output_type": "stream",
          "name": "stdout",
          "text": [
            "Model: \"model\"\n",
            "__________________________________________________________________________________________________\n",
            " Layer (type)                   Output Shape         Param #     Connected to                     \n",
            "==================================================================================================\n",
            " input_1 (InputLayer)           [(None, 128)]        0           []                               \n",
            "                                                                                                  \n",
            " input_2 (InputLayer)           [(None, 128)]        0           []                               \n",
            "                                                                                                  \n",
            " tf_albert_model (TFAlbertModel  TFBaseModelOutputWi  11683584   ['input_1[0][0]',                \n",
            " )                              thPooling(last_hidd               'input_2[0][0]']                \n",
            "                                en_state=(None, 128                                               \n",
            "                                , 768),                                                           \n",
            "                                 pooler_output=(Non                                               \n",
            "                                e, 768),                                                          \n",
            "                                 hidden_states=None                                               \n",
            "                                , attentions=None)                                                \n",
            "                                                                                                  \n",
            " dense (Dense)                  (None, 3)            2307        ['tf_albert_model[0][1]']        \n",
            "                                                                                                  \n",
            "==================================================================================================\n",
            "Total params: 11,685,891\n",
            "Trainable params: 11,685,891\n",
            "Non-trainable params: 0\n",
            "__________________________________________________________________________________________________\n"
          ]
        }
      ]
    },
    {
      "cell_type": "code",
      "source": [
        "early_stop = tf.keras.callbacks.EarlyStopping(monitor='val_loss', patience=3)"
      ],
      "metadata": {
        "id": "jukCnQ5_n17_"
      },
      "execution_count": null,
      "outputs": []
    },
    {
      "cell_type": "markdown",
      "source": [
        "Finally we can start fine tuning the BERT transformer !"
      ],
      "metadata": {
        "id": "DuK9_pJadL58"
      }
    },
    {
      "cell_type": "code",
      "source": [
        "history_Albert = model.fit([train_input_ids,train_attention_masks], y_train, \n",
        "                           validation_data=([val_input_ids,val_attention_masks], y_valid), \n",
        "                           epochs=10, batch_size=32, callbacks=[early_stop])\n",
        "model.save('/content/drive/MyDrive/Models/albert-base-v2.h5')"
      ],
      "metadata": {
        "execution": {
          "iopub.status.busy": "2021-12-22T21:17:10.21337Z",
          "iopub.execute_input": "2021-12-22T21:17:10.213855Z",
          "iopub.status.idle": "2021-12-22T22:06:54.439353Z",
          "shell.execute_reply.started": "2021-12-22T21:17:10.213816Z",
          "shell.execute_reply": "2021-12-22T22:06:54.438631Z"
        },
        "trusted": true,
        "colab": {
          "base_uri": "https://localhost:8080/"
        },
        "id": "OD6393fudL5-",
        "outputId": "e752dedc-a676-4367-9b1e-547122391a3c"
      },
      "execution_count": null,
      "outputs": [
        {
          "output_type": "stream",
          "name": "stdout",
          "text": [
            "Epoch 1/10\n",
            "720/720 [==============================] - 591s 796ms/step - loss: 0.6671 - categorical_accuracy: 0.7085 - val_loss: 0.4531 - val_categorical_accuracy: 0.8270\n",
            "Epoch 2/10\n",
            "720/720 [==============================] - 571s 793ms/step - loss: 0.3533 - categorical_accuracy: 0.8708 - val_loss: 0.3455 - val_categorical_accuracy: 0.8691\n",
            "Epoch 3/10\n",
            "720/720 [==============================] - 571s 793ms/step - loss: 0.2259 - categorical_accuracy: 0.9236 - val_loss: 0.3093 - val_categorical_accuracy: 0.8969\n",
            "Epoch 4/10\n",
            "720/720 [==============================] - 552s 767ms/step - loss: 0.1400 - categorical_accuracy: 0.9561 - val_loss: 0.2954 - val_categorical_accuracy: 0.9012\n",
            "Epoch 5/10\n",
            "720/720 [==============================] - 571s 793ms/step - loss: 0.0895 - categorical_accuracy: 0.9733 - val_loss: 0.3030 - val_categorical_accuracy: 0.9090\n",
            "Epoch 6/10\n",
            "720/720 [==============================] - 571s 793ms/step - loss: 0.0693 - categorical_accuracy: 0.9794 - val_loss: 0.3114 - val_categorical_accuracy: 0.9137\n",
            "Epoch 7/10\n",
            "720/720 [==============================] - 571s 793ms/step - loss: 0.0567 - categorical_accuracy: 0.9834 - val_loss: 0.3007 - val_categorical_accuracy: 0.9195\n"
          ]
        }
      ]
    },
    {
      "cell_type": "code",
      "source": [
        "# plot accuracy (train vs val)\n",
        "plt.plot(history_Albert.history['categorical_accuracy'])\n",
        "plt.plot(history_Albert.history['val_categorical_accuracy'])\n",
        "plt.title('Training Vs Validation Accuracy')\n",
        "plt.ylabel('accuracy')\n",
        "plt.xlabel('epoch')\n",
        "plt.legend(['train', 'test'], loc='upper left')\n",
        "plt.show()"
      ],
      "metadata": {
        "id": "AYNDd3icEOQU",
        "colab": {
          "base_uri": "https://localhost:8080/",
          "height": 297
        },
        "outputId": "c7378987-f234-48ec-97b3-e44f9ab98c8b"
      },
      "execution_count": null,
      "outputs": [
        {
          "output_type": "display_data",
          "data": {
            "text/plain": [
              "<Figure size 432x288 with 1 Axes>"
            ],
            "image/png": "[encoded data removed]"
          },
          "metadata": {}
        }
      ]
    },
    {
      "cell_type": "code",
      "source": [
        "# plot loss (train vs val)\n",
        "plt.plot(history_Albert.history['loss'])\n",
        "plt.plot(history_Albert.history['val_loss'])\n",
        "plt.title('Training Vs Validation Loss')\n",
        "plt.ylabel('loss')\n",
        "plt.xlabel('epoch')\n",
        "plt.legend(['train', 'test'], loc='upper left')\n",
        "plt.show()"
      ],
      "metadata": {
        "id": "MdVZqyZ6EOQX",
        "colab": {
          "base_uri": "https://localhost:8080/",
          "height": 297
        },
        "outputId": "c70049d9-c3c3-4a0d-f0c9-099a390ff749"
      },
      "execution_count": null,
      "outputs": [
        {
          "output_type": "display_data",
          "data": {
            "text/plain": [
              "<Figure size 432x288 with 1 Axes>"
            ],
            "image/png": "[encoded data removed]"
          },
          "metadata": {}
        }
      ]
    },
    {
      "cell_type": "markdown",
      "source": [
        "# albert results"
      ],
      "metadata": {
        "id": "7c0tPVM_F_pg"
      }
    },
    {
      "cell_type": "code",
      "source": [
        "result_albert = model.predict([test_input_ids,test_attention_masks])"
      ],
      "metadata": {
        "execution": {
          "iopub.status.busy": "2021-12-22T23:01:57.162528Z",
          "iopub.execute_input": "2021-12-22T23:01:57.162787Z",
          "iopub.status.idle": "2021-12-22T23:02:18.816734Z",
          "shell.execute_reply.started": "2021-12-22T23:01:57.162754Z",
          "shell.execute_reply": "2021-12-22T23:02:18.815967Z"
        },
        "trusted": true,
        "id": "Lh_LJkwPF_ph",
        "colab": {
          "base_uri": "https://localhost:8080/"
        },
        "outputId": "321bfba6-ec17-4067-c501-5787bd81fd21"
      },
      "execution_count": null,
      "outputs": [
        {
          "output_type": "stream",
          "name": "stdout",
          "text": [
            "76/76 [==============================] - 25s 285ms/step\n"
          ]
        }
      ]
    },
    {
      "cell_type": "code",
      "source": [
        "y_pred_albert =  np.zeros_like(result_albert)\n",
        "y_pred_albert[np.arange(len(y_pred_albert)), result_albert.argmax(1)] = 1"
      ],
      "metadata": {
        "execution": {
          "iopub.status.busy": "2021-12-22T23:02:18.818471Z",
          "iopub.execute_input": "2021-12-22T23:02:18.818725Z",
          "iopub.status.idle": "2021-12-22T23:02:18.824354Z",
          "shell.execute_reply.started": "2021-12-22T23:02:18.818691Z",
          "shell.execute_reply": "2021-12-22T23:02:18.823634Z"
        },
        "trusted": true,
        "id": "tK6mcvczF_ph"
      },
      "execution_count": null,
      "outputs": []
    },
    {
      "cell_type": "code",
      "source": [
        "conf_matrix(y_test.argmax(1),y_pred_albert.argmax(1),'RoBERTa Sentiment Analysis\\nConfusion Matrix')"
      ],
      "metadata": {
        "_kg_hide-input": true,
        "execution": {
          "iopub.status.busy": "2021-12-22T23:02:18.826277Z",
          "iopub.execute_input": "2021-12-22T23:02:18.826841Z",
          "iopub.status.idle": "2021-12-22T23:02:19.069944Z",
          "shell.execute_reply.started": "2021-12-22T23:02:18.826804Z",
          "shell.execute_reply": "2021-12-22T23:02:19.069179Z"
        },
        "trusted": true,
        "id": "uv0JRyMwF_pi",
        "colab": {
          "base_uri": "https://localhost:8080/",
          "height": 369
        },
        "outputId": "1a69790a-ad5f-4a99-ab67-d53090e77e90"
      },
      "execution_count": null,
      "outputs": [
        {
          "output_type": "display_data",
          "data": {
            "text/plain": [
              "<Figure size 360x360 with 1 Axes>"
            ],
            "image/png": "[encoded data removed]"
          },
          "metadata": {}
        }
      ]
    },
    {
      "cell_type": "code",
      "source": [
        "print('\\tClassification Report for albert:\\n\\n',classification_report(y_test,y_pred_albert, target_names=['Negative', 'Neutral', 'Positive']))"
      ],
      "metadata": {
        "_kg_hide-input": true,
        "execution": {
          "iopub.status.busy": "2021-12-22T23:02:19.071175Z",
          "iopub.execute_input": "2021-12-22T23:02:19.071621Z",
          "iopub.status.idle": "2021-12-22T23:02:19.09548Z",
          "shell.execute_reply.started": "2021-12-22T23:02:19.071583Z",
          "shell.execute_reply": "2021-12-22T23:02:19.094654Z"
        },
        "trusted": true,
        "id": "C5FIz1AZF_pi",
        "colab": {
          "base_uri": "https://localhost:8080/"
        },
        "outputId": "f8d40b8f-75e8-4bdc-b6d9-0dd8bdaaef08"
      },
      "execution_count": null,
      "outputs": [
        {
          "output_type": "stream",
          "name": "stdout",
          "text": [
            "\tClassification Report for albert:\n",
            "\n",
            "               precision    recall  f1-score   support\n",
            "\n",
            "    Negative       0.88      0.81      0.84       719\n",
            "     Neutral       0.89      0.92      0.90       924\n",
            "    Positive       0.89      0.91      0.90       780\n",
            "\n",
            "   micro avg       0.89      0.89      0.89      2423\n",
            "   macro avg       0.88      0.88      0.88      2423\n",
            "weighted avg       0.88      0.89      0.88      2423\n",
            " samples avg       0.89      0.89      0.89      2423\n",
            "\n"
          ]
        }
      ]
    },
    {
      "cell_type": "code",
      "source": [
        "print('Prediction Accuracy AlBERT:', \"{:.2f}\".format(100*accuracy_score(y_test,y_pred_albert))+\"%\")"
      ],
      "metadata": {
        "id": "jFuIJ0VMWQMY",
        "colab": {
          "base_uri": "https://localhost:8080/"
        },
        "outputId": "aea981ab-af97-4b2b-ab67-51adf1a81dd1"
      },
      "execution_count": null,
      "outputs": [
        {
          "output_type": "stream",
          "name": "stdout",
          "text": [
            "Prediction Accuracy AlBERT: 88.53%\n"
          ]
        }
      ]
    }
  ]
}